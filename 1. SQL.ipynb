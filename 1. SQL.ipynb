{
 "cells": [
  {
   "cell_type": "markdown",
   "metadata": {},
   "source": [
    "# Predicting Bike Rentals"
   ]
  },
  {
   "cell_type": "markdown",
   "metadata": {},
   "source": [
    "The data we will use in this chapter is used with the permission of Capital Bikeshare. You can download the data from [their website](https://www.capitalbikeshare.com/system-data). We are using a prepared version of this data that has already been augmented with additional weather data.\n",
    "\n",
    "Predicting bike rental trends is very important from both an operational and planning perspective. Bikeshare companies need to stay up to date on rental trends to know where they should add new facilities, and how to reposition bikes to get them to the locations with the highest demand. They do not want to wait until all of the bikes are rented at a particular location before moving additional bikes into position, as that is lost revenue for them."
   ]
  },
  {
   "cell_type": "markdown",
   "metadata": {},
   "source": [
    "A lot of the data that we interact with today is stored in databases. For example:\n",
    "\n",
    "* Student records, including grades, at a school\n",
    "* Posts and friends in your favorite social network\n",
    "* News stories on a newspaper’s website\n",
    "* Your contacts list on your mobile phone\n",
    "* All images that make up Google Maps\n",
    "\n",
    "All these bits of information are stored in various kinds of databases. Some of these are stored in relational databases that are available as open source tools like Postgresql, MySQL and SQLite, as well as commercial databases such as Google BigQuery, Oracle, Microsoft SQL Server, or Amazon Aurora.\n",
    "\n",
    "Others are stored in proprietary systems like Google’s BigTable or Facebook’s Haystack Object Store."
   ]
  },
  {
   "cell_type": "markdown",
   "metadata": {},
   "source": [
    "# 1.1. Query Language"
   ]
  },
  {
   "cell_type": "markdown",
   "metadata": {},
   "source": [
    "Whatever the database is, there needs to be a way to extract data from it and a lot of these systems have agreed on a shared language for accessing data. For relational databases, this language is called SQL (Structured Query Language, pronounced like “sequel”).\n",
    "\n",
    "Before you stress out about learning a new language, lets take a minute and review the things you have already learned how to do with Pandas.\n",
    "\n",
    "* You can change the shape of a DataFrame by selecting the columns you want or by computing new columns.\n",
    "* You can filter a DataFrame by using conditions to select just the rows you want.\n",
    "* You can reorder a DataFrame by sorting on one or more columns.\n",
    "* You can group by one or more columns and compute aggregate summaries of other columns in the group.\n",
    "* You can join two dataframes together using the merge function.\n",
    "\n",
    "The operations just described comprise a basic set of tools that any data manipulation language should support, and SQL supports these operations very well, in a very natural way. You are not going to have to learn any new concepts in this chapter, you are just learning some new query syntax that will open up whole new worlds of data access for you. Most businesses run on a relational database of some kind, so it follows that a lot of real world data analysis requires you to get data from one. In this section we will teach you how to get started."
   ]
  },
  {
   "cell_type": "markdown",
   "metadata": {},
   "source": [
    "# 1.2 Getting started with the bike data"
   ]
  },
  {
   "cell_type": "markdown",
   "metadata": {},
   "source": [
    "In this Lesson, we will be hands on and try out SQL with the Capital bike sharing dataset, hosted on an SQLLite database. In order to run queries on our tables, we must:\n",
    "* install the SQL magic function\n",
    "* load the SQL extension\n",
    "* connect to the database with our data"
   ]
  },
  {
   "cell_type": "code",
   "execution_count": 1,
   "metadata": {},
   "outputs": [
    {
     "name": "stdout",
     "output_type": "stream",
     "text": [
      "Requirement already satisfied: ipython-sql in c:\\users\\kkoum\\anaconda3\\lib\\site-packages (0.3.9)\n",
      "Requirement already satisfied: ipython-genutils>=0.1.0 in c:\\users\\kkoum\\anaconda3\\lib\\site-packages (from ipython-sql) (0.2.0)\n",
      "Requirement already satisfied: prettytable in c:\\users\\kkoum\\anaconda3\\lib\\site-packages (from ipython-sql) (0.7.2)\n",
      "Requirement already satisfied: ipython>=1.0 in c:\\users\\kkoum\\anaconda3\\lib\\site-packages (from ipython-sql) (7.8.0)\n",
      "Requirement already satisfied: sqlalchemy>=0.6.7 in c:\\users\\kkoum\\anaconda3\\lib\\site-packages (from ipython-sql) (1.3.9)\n",
      "Requirement already satisfied: six in c:\\users\\kkoum\\anaconda3\\lib\\site-packages (from ipython-sql) (1.12.0)\n",
      "Requirement already satisfied: sqlparse in c:\\users\\kkoum\\anaconda3\\lib\\site-packages (from ipython-sql) (0.3.1)\n",
      "Requirement already satisfied: pygments in c:\\users\\kkoum\\anaconda3\\lib\\site-packages (from ipython>=1.0->ipython-sql) (2.4.2)\n",
      "Requirement already satisfied: backcall in c:\\users\\kkoum\\anaconda3\\lib\\site-packages (from ipython>=1.0->ipython-sql) (0.1.0)\n",
      "Requirement already satisfied: colorama; sys_platform == \"win32\" in c:\\users\\kkoum\\anaconda3\\lib\\site-packages (from ipython>=1.0->ipython-sql) (0.4.1)\n",
      "Requirement already satisfied: decorator in c:\\users\\kkoum\\anaconda3\\lib\\site-packages (from ipython>=1.0->ipython-sql) (4.4.0)\n",
      "Requirement already satisfied: pickleshare in c:\\users\\kkoum\\anaconda3\\lib\\site-packages (from ipython>=1.0->ipython-sql) (0.7.5)\n",
      "Requirement already satisfied: setuptools>=18.5 in c:\\users\\kkoum\\anaconda3\\lib\\site-packages (from ipython>=1.0->ipython-sql) (41.4.0)\n",
      "Requirement already satisfied: prompt-toolkit<2.1.0,>=2.0.0 in c:\\users\\kkoum\\anaconda3\\lib\\site-packages (from ipython>=1.0->ipython-sql) (2.0.10)\n",
      "Requirement already satisfied: jedi>=0.10 in c:\\users\\kkoum\\anaconda3\\lib\\site-packages (from ipython>=1.0->ipython-sql) (0.15.1)\n",
      "Requirement already satisfied: traitlets>=4.2 in c:\\users\\kkoum\\anaconda3\\lib\\site-packages (from ipython>=1.0->ipython-sql) (4.3.3)\n",
      "Requirement already satisfied: wcwidth in c:\\users\\kkoum\\anaconda3\\lib\\site-packages (from prompt-toolkit<2.1.0,>=2.0.0->ipython>=1.0->ipython-sql) (0.1.7)\n",
      "Requirement already satisfied: parso>=0.5.0 in c:\\users\\kkoum\\anaconda3\\lib\\site-packages (from jedi>=0.10->ipython>=1.0->ipython-sql) (0.5.1)\n"
     ]
    }
   ],
   "source": [
    "# install SQL magic function\n",
    "!pip install ipython-sql"
   ]
  },
  {
   "cell_type": "code",
   "execution_count": 2,
   "metadata": {},
   "outputs": [],
   "source": [
    "# load extension sql\n",
    "%load_ext sql"
   ]
  },
  {
   "cell_type": "code",
   "execution_count": 3,
   "metadata": {},
   "outputs": [
    {
     "data": {
      "text/plain": [
       "'Connected: @/Users/kkoum/Documents/database.db'"
      ]
     },
     "execution_count": 3,
     "metadata": {},
     "output_type": "execute_result"
    }
   ],
   "source": [
    "# connect to the database\n",
    "%sql sqlite:////Users/kkoum/Documents/database.db"
   ]
  },
  {
   "cell_type": "markdown",
   "metadata": {},
   "source": [
    "## 1.2.1. Verify access to the dataset"
   ]
  },
  {
   "cell_type": "markdown",
   "metadata": {},
   "source": [
    "Let’s verify that you have access to the dataset by running a simple SQL query.\n",
    "\n",
    "The code snippet contains a few lines:\n",
    "\n",
    "* The first line of that code block is just a magic invocation that lets Jupyter know that this cell contains SQL and not Python.\n",
    "* The second line introduces SQL syntax for the first time.\n",
    "\n",
    "To help you understand the SQL commands we are using, the SQL syntax words are listed in CAPITAL letters, the lowercase words are the names of tables or columns. The SQL statement translates to: grab (SELECT) all the values (*) in the table called trip_data but only show me the first ten (LIMIT 5)."
   ]
  },
  {
   "cell_type": "code",
   "execution_count": 4,
   "metadata": {},
   "outputs": [
    {
     "name": "stdout",
     "output_type": "stream",
     "text": [
      " * sqlite:////Users/kkoum/Documents/database.db\n",
      "Done.\n"
     ]
    },
    {
     "data": {
      "text/html": [
       "<table>\n",
       "    <tr>\n",
       "        <th>start_date</th>\n",
       "        <th>end_date</th>\n",
       "        <th>duration</th>\n",
       "        <th>start_station_id</th>\n",
       "        <th>start_station</th>\n",
       "        <th>end_station_id</th>\n",
       "        <th>end_station</th>\n",
       "        <th>bike_number</th>\n",
       "        <th>member_type</th>\n",
       "    </tr>\n",
       "    <tr>\n",
       "        <td>2012-01-01 00:04:00</td>\n",
       "        <td>2012-01-01 00:11:56</td>\n",
       "        <td>475</td>\n",
       "        <td>31245</td>\n",
       "        <td>7th &amp; R St NW / Shaw Library</td>\n",
       "        <td>31109</td>\n",
       "        <td>7th &amp; T St NW</td>\n",
       "        <td>W01412</td>\n",
       "        <td>Member</td>\n",
       "    </tr>\n",
       "    <tr>\n",
       "        <td>2012-01-01 00:10:05</td>\n",
       "        <td>2012-01-01 00:29:28</td>\n",
       "        <td>1162</td>\n",
       "        <td>31400</td>\n",
       "        <td>Georgia &amp; New Hampshire Ave NW</td>\n",
       "        <td>31103</td>\n",
       "        <td>16th &amp; Harvard St NW</td>\n",
       "        <td>W00524</td>\n",
       "        <td>Casual</td>\n",
       "    </tr>\n",
       "    <tr>\n",
       "        <td>2012-01-01 00:10:23</td>\n",
       "        <td>2012-01-01 00:29:28</td>\n",
       "        <td>1145</td>\n",
       "        <td>31400</td>\n",
       "        <td>Georgia &amp; New Hampshire Ave NW</td>\n",
       "        <td>31103</td>\n",
       "        <td>16th &amp; Harvard St NW</td>\n",
       "        <td>W00235</td>\n",
       "        <td>Member</td>\n",
       "    </tr>\n",
       "    <tr>\n",
       "        <td>2012-01-01 00:15:41</td>\n",
       "        <td>2012-01-01 00:23:46</td>\n",
       "        <td>485</td>\n",
       "        <td>31101</td>\n",
       "        <td>14th &amp; V St NW</td>\n",
       "        <td>31602</td>\n",
       "        <td>Park Rd &amp; Holmead Pl NW</td>\n",
       "        <td>W00864</td>\n",
       "        <td>Member</td>\n",
       "    </tr>\n",
       "    <tr>\n",
       "        <td>2012-01-01 00:15:42</td>\n",
       "        <td>2012-01-01 00:23:34</td>\n",
       "        <td>471</td>\n",
       "        <td>31102</td>\n",
       "        <td>11th &amp; Kenyon St NW</td>\n",
       "        <td>31109</td>\n",
       "        <td>7th &amp; T St NW</td>\n",
       "        <td>W00995</td>\n",
       "        <td>Member</td>\n",
       "    </tr>\n",
       "</table>"
      ],
      "text/plain": [
       "[('2012-01-01 00:04:00', '2012-01-01 00:11:56', 475, 31245, '7th & R St NW / Shaw Library', 31109, '7th & T St NW', 'W01412', 'Member'),\n",
       " ('2012-01-01 00:10:05', '2012-01-01 00:29:28', 1162, 31400, 'Georgia & New Hampshire Ave NW', 31103, '16th & Harvard St NW', 'W00524', 'Casual'),\n",
       " ('2012-01-01 00:10:23', '2012-01-01 00:29:28', 1145, 31400, 'Georgia & New Hampshire Ave NW', 31103, '16th & Harvard St NW', 'W00235', 'Member'),\n",
       " ('2012-01-01 00:15:41', '2012-01-01 00:23:46', 485, 31101, '14th & V St NW', 31602, 'Park Rd & Holmead Pl NW', 'W00864', 'Member'),\n",
       " ('2012-01-01 00:15:42', '2012-01-01 00:23:34', 471, 31102, '11th & Kenyon St NW', 31109, '7th & T St NW', 'W00995', 'Member')]"
      ]
     },
     "execution_count": 4,
     "metadata": {},
     "output_type": "execute_result"
    }
   ],
   "source": [
    "%%sql\n",
    "SELECT *\n",
    "FROM trip_data\n",
    "LIMIT 5"
   ]
  },
  {
   "cell_type": "markdown",
   "metadata": {},
   "source": [
    "The trip_data table is composed of several columns, but we don’t always want to read all the columns in a table. For example, if we just want the subscriber type, start time, and duration in minutes columns we could select:"
   ]
  },
  {
   "cell_type": "code",
   "execution_count": 5,
   "metadata": {},
   "outputs": [
    {
     "name": "stdout",
     "output_type": "stream",
     "text": [
      " * sqlite:////Users/kkoum/Documents/database.db\n",
      "Done.\n"
     ]
    },
    {
     "data": {
      "text/html": [
       "<table>\n",
       "    <tr>\n",
       "        <th>member_type</th>\n",
       "        <th>start_date</th>\n",
       "        <th>duration</th>\n",
       "    </tr>\n",
       "    <tr>\n",
       "        <td>Member</td>\n",
       "        <td>2012-01-01 00:04:00</td>\n",
       "        <td>475</td>\n",
       "    </tr>\n",
       "    <tr>\n",
       "        <td>Casual</td>\n",
       "        <td>2012-01-01 00:10:05</td>\n",
       "        <td>1162</td>\n",
       "    </tr>\n",
       "    <tr>\n",
       "        <td>Member</td>\n",
       "        <td>2012-01-01 00:10:23</td>\n",
       "        <td>1145</td>\n",
       "    </tr>\n",
       "    <tr>\n",
       "        <td>Member</td>\n",
       "        <td>2012-01-01 00:15:41</td>\n",
       "        <td>485</td>\n",
       "    </tr>\n",
       "    <tr>\n",
       "        <td>Member</td>\n",
       "        <td>2012-01-01 00:15:42</td>\n",
       "        <td>471</td>\n",
       "    </tr>\n",
       "</table>"
      ],
      "text/plain": [
       "[('Member', '2012-01-01 00:04:00', 475),\n",
       " ('Casual', '2012-01-01 00:10:05', 1162),\n",
       " ('Member', '2012-01-01 00:10:23', 1145),\n",
       " ('Member', '2012-01-01 00:15:41', 485),\n",
       " ('Member', '2012-01-01 00:15:42', 471)]"
      ]
     },
     "execution_count": 5,
     "metadata": {},
     "output_type": "execute_result"
    }
   ],
   "source": [
    "%%sql\n",
    "SELECT member_type, start_date, duration\n",
    "FROM trip_data\n",
    "LIMIT 5"
   ]
  },
  {
   "cell_type": "markdown",
   "metadata": {},
   "source": [
    "Tips: SQL doesn’t care about line breaks so we can spread a SQL query over multiple lines just to make it easier to read.\n",
    "\n",
    "Its also really easy to forget the exact names of all of the columns in a table, especially when you are just getting started with a new database. Here’s a handy one-liner that will remind you of the names of your tables and all of their columns and types:"
   ]
  },
  {
   "cell_type": "code",
   "execution_count": 6,
   "metadata": {},
   "outputs": [
    {
     "name": "stdout",
     "output_type": "stream",
     "text": [
      " * sqlite:////Users/kkoum/Documents/database.db\n",
      "Done.\n"
     ]
    },
    {
     "data": {
      "text/html": [
       "<table>\n",
       "    <tr>\n",
       "        <th>name</th>\n",
       "        <th>sql</th>\n",
       "    </tr>\n",
       "    <tr>\n",
       "        <td>stations</td>\n",
       "        <td>CREATE TABLE &quot;stations&quot; (<br>\t&quot;station_id&quot;\tINTEGER,<br>\t&quot;name&quot;\tTEXT,<br>\t&quot;capacity&quot;\tINTEGER,<br>\t&quot;status&quot;\tTEXT,<br>\t&quot;latitude&quot;\tREAL,<br>\t&quot;longitude&quot;\tREAL<br>)</td>\n",
       "    </tr>\n",
       "    <tr>\n",
       "        <td>trip_data</td>\n",
       "        <td>CREATE TABLE &quot;trip_data&quot; (<br>\t&quot;start_date&quot;\tTEXT,<br>\t&quot;end_date&quot;\tTEXT,<br>\t&quot;duration&quot;\tINTEGER,<br>\t&quot;start_station_id&quot;\tINTEGER,<br>\t&quot;start_station&quot;\tTEXT,<br>\t&quot;end_station_id&quot;\tINTEGER,<br>\t&quot;end_station&quot;\tTEXT,<br>\t&quot;bike_number&quot;\tTEXT,<br>\t&quot;member_type&quot;\tTEXT<br>)</td>\n",
       "    </tr>\n",
       "</table>"
      ],
      "text/plain": [
       "[('stations', 'CREATE TABLE \"stations\" (\\n\\t\"station_id\"\\tINTEGER,\\n\\t\"name\"\\tTEXT,\\n\\t\"capacity\"\\tINTEGER,\\n\\t\"status\"\\tTEXT,\\n\\t\"latitude\"\\tREAL,\\n\\t\"longitude\"\\tREAL\\n)'),\n",
       " ('trip_data', 'CREATE TABLE \"trip_data\" (\\n\\t\"start_date\"\\tTEXT,\\n\\t\"end_date\"\\tTEXT,\\n\\t\"duration\"\\tINTEGER,\\n\\t\"start_station_id\"\\tINTEGER,\\n\\t\"start_station\"\\tTEXT,\\n\\t\"end_station_id\"\\tINTEGER,\\n\\t\"end_station\"\\tTEXT,\\n\\t\"bike_number\"\\tTEXT,\\n\\t\"member_type\"\\tTEXT\\n)')]"
      ]
     },
     "execution_count": 6,
     "metadata": {},
     "output_type": "execute_result"
    }
   ],
   "source": [
    "%%sql\n",
    "SELECT name, sql\n",
    "FROM sqlite_master"
   ]
  },
  {
   "cell_type": "markdown",
   "metadata": {},
   "source": [
    "Note, this works fine for SQLITE but will not work for Postgresql or MySQL or other databases. Each database has its own query for things like this, and once you get more experience you’ll be able to easily find them on the internet."
   ]
  },
  {
   "cell_type": "markdown",
   "metadata": {},
   "source": [
    "# 1.3 Filtering"
   ]
  },
  {
   "cell_type": "markdown",
   "metadata": {},
   "source": [
    "We’ve seen how to look only at certain columns of the table but it is often useful to only look at certain rows in a table. For example, we could look only at the bike trips which are at least a certain number of minutes. Let’s say you’re only interested in bike trips of 60 minutes or more:"
   ]
  },
  {
   "cell_type": "code",
   "execution_count": 7,
   "metadata": {},
   "outputs": [
    {
     "name": "stdout",
     "output_type": "stream",
     "text": [
      " * sqlite:////Users/kkoum/Documents/database.db\n",
      "Done.\n"
     ]
    },
    {
     "data": {
      "text/html": [
       "<table>\n",
       "    <tr>\n",
       "        <th>member_type</th>\n",
       "        <th>start_date</th>\n",
       "        <th>duration</th>\n",
       "    </tr>\n",
       "    <tr>\n",
       "        <td>Casual</td>\n",
       "        <td>2012-01-01 01:16:16</td>\n",
       "        <td>41427</td>\n",
       "    </tr>\n",
       "    <tr>\n",
       "        <td>Casual</td>\n",
       "        <td>2012-01-01 03:08:08</td>\n",
       "        <td>33057</td>\n",
       "    </tr>\n",
       "    <tr>\n",
       "        <td>Casual</td>\n",
       "        <td>2012-01-01 08:53:48</td>\n",
       "        <td>4535</td>\n",
       "    </tr>\n",
       "    <tr>\n",
       "        <td>Casual</td>\n",
       "        <td>2012-01-01 09:02:07</td>\n",
       "        <td>5588</td>\n",
       "    </tr>\n",
       "    <tr>\n",
       "        <td>Casual</td>\n",
       "        <td>2012-01-01 09:22:24</td>\n",
       "        <td>4279</td>\n",
       "    </tr>\n",
       "</table>"
      ],
      "text/plain": [
       "[('Casual', '2012-01-01 01:16:16', 41427),\n",
       " ('Casual', '2012-01-01 03:08:08', 33057),\n",
       " ('Casual', '2012-01-01 08:53:48', 4535),\n",
       " ('Casual', '2012-01-01 09:02:07', 5588),\n",
       " ('Casual', '2012-01-01 09:22:24', 4279)]"
      ]
     },
     "execution_count": 7,
     "metadata": {},
     "output_type": "execute_result"
    }
   ],
   "source": [
    "%%sql\n",
    "SELECT member_type, start_date, duration\n",
    "FROM trip_data\n",
    "WHERE duration >= 3600\n",
    "LIMIT 5"
   ]
  },
  {
   "cell_type": "markdown",
   "metadata": {},
   "source": [
    "It’s also possible to filter by multiple criteria. For example, we can look at bike trips which took 60 minutes or more and were perfomed by members:"
   ]
  },
  {
   "cell_type": "code",
   "execution_count": 8,
   "metadata": {
    "scrolled": true
   },
   "outputs": [
    {
     "name": "stdout",
     "output_type": "stream",
     "text": [
      " * sqlite:////Users/kkoum/Documents/database.db\n",
      "Done.\n"
     ]
    },
    {
     "data": {
      "text/html": [
       "<table>\n",
       "    <tr>\n",
       "        <th>member_type</th>\n",
       "        <th>start_date</th>\n",
       "        <th>duration</th>\n",
       "    </tr>\n",
       "    <tr>\n",
       "        <td>Member</td>\n",
       "        <td>2012-01-01 13:23:50</td>\n",
       "        <td>6435</td>\n",
       "    </tr>\n",
       "    <tr>\n",
       "        <td>Member</td>\n",
       "        <td>2012-01-01 13:35:32</td>\n",
       "        <td>4690</td>\n",
       "    </tr>\n",
       "    <tr>\n",
       "        <td>Member</td>\n",
       "        <td>2012-01-01 14:08:29</td>\n",
       "        <td>4003</td>\n",
       "    </tr>\n",
       "    <tr>\n",
       "        <td>Member</td>\n",
       "        <td>2012-01-01 14:17:36</td>\n",
       "        <td>7135</td>\n",
       "    </tr>\n",
       "    <tr>\n",
       "        <td>Member</td>\n",
       "        <td>2012-01-01 14:48:25</td>\n",
       "        <td>5590</td>\n",
       "    </tr>\n",
       "</table>"
      ],
      "text/plain": [
       "[('Member', '2012-01-01 13:23:50', 6435),\n",
       " ('Member', '2012-01-01 13:35:32', 4690),\n",
       " ('Member', '2012-01-01 14:08:29', 4003),\n",
       " ('Member', '2012-01-01 14:17:36', 7135),\n",
       " ('Member', '2012-01-01 14:48:25', 5590)]"
      ]
     },
     "execution_count": 8,
     "metadata": {},
     "output_type": "execute_result"
    }
   ],
   "source": [
    "%%sql\n",
    "SELECT member_type, start_date, duration\n",
    "FROM trip_data\n",
    "WHERE duration >= 3600 AND member_type = 'Member'\n",
    "LIMIT 5"
   ]
  },
  {
   "cell_type": "markdown",
   "metadata": {},
   "source": [
    "## 1.3.1. Practice exercises"
   ]
  },
  {
   "cell_type": "markdown",
   "metadata": {},
   "source": [
    "Figure out how to get all the trips of the bike with id W01274 and only include rides which are shorter than 15 minutes."
   ]
  },
  {
   "cell_type": "code",
   "execution_count": 9,
   "metadata": {},
   "outputs": [
    {
     "name": "stdout",
     "output_type": "stream",
     "text": [
      " * sqlite:////Users/kkoum/Documents/database.db\n",
      "Done.\n"
     ]
    },
    {
     "data": {
      "text/html": [
       "<table>\n",
       "    <tr>\n",
       "        <th>start_date</th>\n",
       "        <th>end_date</th>\n",
       "        <th>duration</th>\n",
       "        <th>start_station_id</th>\n",
       "        <th>start_station</th>\n",
       "        <th>end_station_id</th>\n",
       "        <th>end_station</th>\n",
       "        <th>bike_number</th>\n",
       "        <th>member_type</th>\n",
       "    </tr>\n",
       "    <tr>\n",
       "        <td>2012-01-01 16:26:03</td>\n",
       "        <td>2012-01-01 16:38:13</td>\n",
       "        <td>729</td>\n",
       "        <td>31202</td>\n",
       "        <td>14th &amp; R St NW</td>\n",
       "        <td>31307</td>\n",
       "        <td>3000 Connecticut Ave NW / National Zoo</td>\n",
       "        <td>W01274</td>\n",
       "        <td>Member</td>\n",
       "    </tr>\n",
       "    <tr>\n",
       "        <td>2012-01-01 18:04:37</td>\n",
       "        <td>2012-01-01 18:06:41</td>\n",
       "        <td>124</td>\n",
       "        <td>31307</td>\n",
       "        <td>3000 Connecticut Ave NW / National Zoo</td>\n",
       "        <td>31307</td>\n",
       "        <td>3000 Connecticut Ave NW / National Zoo</td>\n",
       "        <td>W01274</td>\n",
       "        <td>Member</td>\n",
       "    </tr>\n",
       "    <tr>\n",
       "        <td>2012-01-01 20:45:40</td>\n",
       "        <td>2012-01-01 20:56:18</td>\n",
       "        <td>637</td>\n",
       "        <td>31307</td>\n",
       "        <td>3000 Connecticut Ave NW / National Zoo</td>\n",
       "        <td>31202</td>\n",
       "        <td>14th &amp; R St NW</td>\n",
       "        <td>W01274</td>\n",
       "        <td>Member</td>\n",
       "    </tr>\n",
       "    <tr>\n",
       "        <td>2012-01-02 18:24:16</td>\n",
       "        <td>2012-01-02 18:28:35</td>\n",
       "        <td>258</td>\n",
       "        <td>31602</td>\n",
       "        <td>Park Rd &amp; Holmead Pl NW</td>\n",
       "        <td>31401</td>\n",
       "        <td>14th St &amp; Spring Rd NW</td>\n",
       "        <td>W01274</td>\n",
       "        <td>Member</td>\n",
       "    </tr>\n",
       "    <tr>\n",
       "        <td>2012-01-03 08:15:45</td>\n",
       "        <td>2012-01-03 08:27:02</td>\n",
       "        <td>677</td>\n",
       "        <td>31401</td>\n",
       "        <td>14th St &amp; Spring Rd NW</td>\n",
       "        <td>31106</td>\n",
       "        <td>Calvert &amp; Biltmore St NW</td>\n",
       "        <td>W01274</td>\n",
       "        <td>Member</td>\n",
       "    </tr>\n",
       "</table>"
      ],
      "text/plain": [
       "[('2012-01-01 16:26:03', '2012-01-01 16:38:13', 729, 31202, '14th & R St NW', 31307, '3000 Connecticut Ave NW / National Zoo', 'W01274', 'Member'),\n",
       " ('2012-01-01 18:04:37', '2012-01-01 18:06:41', 124, 31307, '3000 Connecticut Ave NW / National Zoo', 31307, '3000 Connecticut Ave NW / National Zoo', 'W01274', 'Member'),\n",
       " ('2012-01-01 20:45:40', '2012-01-01 20:56:18', 637, 31307, '3000 Connecticut Ave NW / National Zoo', 31202, '14th & R St NW', 'W01274', 'Member'),\n",
       " ('2012-01-02 18:24:16', '2012-01-02 18:28:35', 258, 31602, 'Park Rd & Holmead Pl NW', 31401, '14th St & Spring Rd NW', 'W01274', 'Member'),\n",
       " ('2012-01-03 08:15:45', '2012-01-03 08:27:02', 677, 31401, '14th St & Spring Rd NW', 31106, 'Calvert & Biltmore St NW', 'W01274', 'Member')]"
      ]
     },
     "execution_count": 9,
     "metadata": {},
     "output_type": "execute_result"
    }
   ],
   "source": [
    "%%sql\n",
    "SELECT *\n",
    "FROM trip_data\n",
    "WHERE bike_number = 'W01274' AND duration < 900\n",
    "LIMIT 5"
   ]
  },
  {
   "cell_type": "markdown",
   "metadata": {},
   "source": [
    "Get the ending station and the duration of all the bike trips originating from station with id 31111 that lasted 8 hours or more."
   ]
  },
  {
   "cell_type": "code",
   "execution_count": 10,
   "metadata": {},
   "outputs": [
    {
     "name": "stdout",
     "output_type": "stream",
     "text": [
      " * sqlite:////Users/kkoum/Documents/database.db\n",
      "Done.\n"
     ]
    },
    {
     "data": {
      "text/html": [
       "<table>\n",
       "    <tr>\n",
       "        <th>end_station</th>\n",
       "        <th>duration</th>\n",
       "    </tr>\n",
       "    <tr>\n",
       "        <td>11th &amp; F St NW</td>\n",
       "        <td>39144</td>\n",
       "    </tr>\n",
       "    <tr>\n",
       "        <td>14th &amp; V St NW</td>\n",
       "        <td>30128</td>\n",
       "    </tr>\n",
       "    <tr>\n",
       "        <td>13th St &amp; New York Ave NW</td>\n",
       "        <td>40131</td>\n",
       "    </tr>\n",
       "    <tr>\n",
       "        <td>11th &amp; F St NW</td>\n",
       "        <td>49106</td>\n",
       "    </tr>\n",
       "    <tr>\n",
       "        <td>7th &amp; F St NW / National Portrait Gallery</td>\n",
       "        <td>29189</td>\n",
       "    </tr>\n",
       "</table>"
      ],
      "text/plain": [
       "[('11th & F St NW', 39144),\n",
       " ('14th & V St NW', 30128),\n",
       " ('13th St & New York Ave NW', 40131),\n",
       " ('11th & F St NW', 49106),\n",
       " ('7th & F St NW / National Portrait Gallery', 29189)]"
      ]
     },
     "execution_count": 10,
     "metadata": {},
     "output_type": "execute_result"
    }
   ],
   "source": [
    "%%sql\n",
    "SELECT end_station, duration\n",
    "FROM trip_data\n",
    "WHERE start_station_id = '31111' AND duration >= 28800\n",
    "LIMIT 5"
   ]
  },
  {
   "cell_type": "markdown",
   "metadata": {},
   "source": [
    "How many trips longer than 5 hours started and ended in station with id 31111 by casual riders?"
   ]
  },
  {
   "cell_type": "code",
   "execution_count": 11,
   "metadata": {},
   "outputs": [
    {
     "name": "stdout",
     "output_type": "stream",
     "text": [
      " * sqlite:////Users/kkoum/Documents/database.db\n",
      "Done.\n"
     ]
    },
    {
     "data": {
      "text/html": [
       "<table>\n",
       "    <tr>\n",
       "        <th>trips</th>\n",
       "    </tr>\n",
       "    <tr>\n",
       "        <td>3</td>\n",
       "    </tr>\n",
       "</table>"
      ],
      "text/plain": [
       "[(3,)]"
      ]
     },
     "execution_count": 11,
     "metadata": {},
     "output_type": "execute_result"
    }
   ],
   "source": [
    "%%sql\n",
    "SELECT COUNT(*) as trips\n",
    "FROM trip_data\n",
    "WHERE duration > 18000 AND start_station_id = \"31111\" AND end_station_id = \"31111\" AND member_type = 'Casual' "
   ]
  },
  {
   "cell_type": "markdown",
   "metadata": {},
   "source": [
    "# 1.4. Sorting"
   ]
  },
  {
   "cell_type": "markdown",
   "metadata": {},
   "source": [
    "So far, we’ve only looked at rows of data in the order of the query is returning to us. What if we want to see the rows in a certain sorting order? We can use the ORDER BY command to sort them by some other criteria.\n",
    "\n",
    "For example, to see the bike trips in the order of the duration in seconds:"
   ]
  },
  {
   "cell_type": "code",
   "execution_count": 12,
   "metadata": {},
   "outputs": [
    {
     "name": "stdout",
     "output_type": "stream",
     "text": [
      " * sqlite:////Users/kkoum/Documents/database.db\n",
      "Done.\n"
     ]
    },
    {
     "data": {
      "text/html": [
       "<table>\n",
       "    <tr>\n",
       "        <th>member_type</th>\n",
       "        <th>start_date</th>\n",
       "        <th>duration</th>\n",
       "    </tr>\n",
       "    <tr>\n",
       "        <td>Member</td>\n",
       "        <td>2012-01-12 13:52:17</td>\n",
       "        <td>60</td>\n",
       "    </tr>\n",
       "    <tr>\n",
       "        <td>Member</td>\n",
       "        <td>2012-01-27 09:16:33</td>\n",
       "        <td>60</td>\n",
       "    </tr>\n",
       "    <tr>\n",
       "        <td>Member</td>\n",
       "        <td>2012-01-29 12:42:50</td>\n",
       "        <td>60</td>\n",
       "    </tr>\n",
       "    <tr>\n",
       "        <td>Member</td>\n",
       "        <td>2012-02-12 11:54:58</td>\n",
       "        <td>60</td>\n",
       "    </tr>\n",
       "    <tr>\n",
       "        <td>Member</td>\n",
       "        <td>2012-02-16 22:31:36</td>\n",
       "        <td>60</td>\n",
       "    </tr>\n",
       "</table>"
      ],
      "text/plain": [
       "[('Member', '2012-01-12 13:52:17', 60),\n",
       " ('Member', '2012-01-27 09:16:33', 60),\n",
       " ('Member', '2012-01-29 12:42:50', 60),\n",
       " ('Member', '2012-02-12 11:54:58', 60),\n",
       " ('Member', '2012-02-16 22:31:36', 60)]"
      ]
     },
     "execution_count": 12,
     "metadata": {},
     "output_type": "execute_result"
    }
   ],
   "source": [
    "%%sql\n",
    "SELECT member_type, start_date, duration\n",
    "FROM trip_data\n",
    "ORDER BY duration\n",
    "LIMIT 5"
   ]
  },
  {
   "cell_type": "markdown",
   "metadata": {},
   "source": [
    "Well, it turns out by default the sorting order is ascending. To sort the rows in descending order, add the keyword DESC."
   ]
  },
  {
   "cell_type": "code",
   "execution_count": 13,
   "metadata": {},
   "outputs": [
    {
     "name": "stdout",
     "output_type": "stream",
     "text": [
      " * sqlite:////Users/kkoum/Documents/database.db\n",
      "Done.\n"
     ]
    },
    {
     "data": {
      "text/html": [
       "<table>\n",
       "    <tr>\n",
       "        <th>member_type</th>\n",
       "        <th>start_date</th>\n",
       "        <th>duration</th>\n",
       "    </tr>\n",
       "    <tr>\n",
       "        <td>Casual</td>\n",
       "        <td>2012-08-05 10:27:21</td>\n",
       "        <td>86326</td>\n",
       "    </tr>\n",
       "    <tr>\n",
       "        <td>Casual</td>\n",
       "        <td>2012-08-05 10:27:59</td>\n",
       "        <td>86303</td>\n",
       "    </tr>\n",
       "    <tr>\n",
       "        <td>Casual</td>\n",
       "        <td>2012-06-02 19:24:06</td>\n",
       "        <td>85671</td>\n",
       "    </tr>\n",
       "    <tr>\n",
       "        <td>Casual</td>\n",
       "        <td>2012-06-04 18:34:46</td>\n",
       "        <td>85531</td>\n",
       "    </tr>\n",
       "    <tr>\n",
       "        <td>Casual</td>\n",
       "        <td>2012-09-01 17:48:38</td>\n",
       "        <td>85430</td>\n",
       "    </tr>\n",
       "</table>"
      ],
      "text/plain": [
       "[('Casual', '2012-08-05 10:27:21', 86326),\n",
       " ('Casual', '2012-08-05 10:27:59', 86303),\n",
       " ('Casual', '2012-06-02 19:24:06', 85671),\n",
       " ('Casual', '2012-06-04 18:34:46', 85531),\n",
       " ('Casual', '2012-09-01 17:48:38', 85430)]"
      ]
     },
     "execution_count": 13,
     "metadata": {},
     "output_type": "execute_result"
    }
   ],
   "source": [
    "%%sql\n",
    "SELECT member_type, start_date, duration\n",
    "FROM trip_data\n",
    "ORDER BY duration DESC\n",
    "LIMIT 5"
   ]
  },
  {
   "cell_type": "markdown",
   "metadata": {},
   "source": [
    "Of course, we can mix WHERE and ORDER BY, to get only the bike trips with Casual Member type in the order of the duration."
   ]
  },
  {
   "cell_type": "code",
   "execution_count": 14,
   "metadata": {},
   "outputs": [
    {
     "name": "stdout",
     "output_type": "stream",
     "text": [
      " * sqlite:////Users/kkoum/Documents/database.db\n",
      "Done.\n"
     ]
    },
    {
     "data": {
      "text/html": [
       "<table>\n",
       "    <tr>\n",
       "        <th>member_type</th>\n",
       "        <th>start_date</th>\n",
       "        <th>duration</th>\n",
       "    </tr>\n",
       "    <tr>\n",
       "        <td>Casual</td>\n",
       "        <td>2012-06-16 06:32:35</td>\n",
       "        <td>63</td>\n",
       "    </tr>\n",
       "    <tr>\n",
       "        <td>Casual</td>\n",
       "        <td>2012-09-13 14:27:47</td>\n",
       "        <td>63</td>\n",
       "    </tr>\n",
       "    <tr>\n",
       "        <td>Casual</td>\n",
       "        <td>2012-03-14 22:16:17</td>\n",
       "        <td>70</td>\n",
       "    </tr>\n",
       "    <tr>\n",
       "        <td>Casual</td>\n",
       "        <td>2012-02-03 18:09:48</td>\n",
       "        <td>73</td>\n",
       "    </tr>\n",
       "    <tr>\n",
       "        <td>Casual</td>\n",
       "        <td>2012-07-25 22:39:01</td>\n",
       "        <td>75</td>\n",
       "    </tr>\n",
       "</table>"
      ],
      "text/plain": [
       "[('Casual', '2012-06-16 06:32:35', 63),\n",
       " ('Casual', '2012-09-13 14:27:47', 63),\n",
       " ('Casual', '2012-03-14 22:16:17', 70),\n",
       " ('Casual', '2012-02-03 18:09:48', 73),\n",
       " ('Casual', '2012-07-25 22:39:01', 75)]"
      ]
     },
     "execution_count": 14,
     "metadata": {},
     "output_type": "execute_result"
    }
   ],
   "source": [
    "%%sql\n",
    "SELECT member_type, start_date, duration\n",
    "FROM trip_data\n",
    "WHERE member_type = \"Casual\"\n",
    "ORDER BY duration\n",
    "LIMIT 5"
   ]
  },
  {
   "cell_type": "markdown",
   "metadata": {},
   "source": [
    "## 1.4.1 Practice exercises"
   ]
  },
  {
   "cell_type": "markdown",
   "metadata": {},
   "source": [
    "Get the start and end station IDs for bike trips that are 60 minutes or longer, in the order of largest number of seconds first and display the top 20 results."
   ]
  },
  {
   "cell_type": "code",
   "execution_count": 15,
   "metadata": {
    "scrolled": true
   },
   "outputs": [
    {
     "name": "stdout",
     "output_type": "stream",
     "text": [
      " * sqlite:////Users/kkoum/Documents/database.db\n",
      "Done.\n"
     ]
    },
    {
     "data": {
      "text/html": [
       "<table>\n",
       "    <tr>\n",
       "        <th>start_station_id</th>\n",
       "        <th>end_station_id</th>\n",
       "    </tr>\n",
       "    <tr>\n",
       "        <td>31202</td>\n",
       "        <td>31243</td>\n",
       "    </tr>\n",
       "    <tr>\n",
       "        <td>31202</td>\n",
       "        <td>31243</td>\n",
       "    </tr>\n",
       "    <tr>\n",
       "        <td>31306</td>\n",
       "        <td>31306</td>\n",
       "    </tr>\n",
       "    <tr>\n",
       "        <td>31628</td>\n",
       "        <td>31628</td>\n",
       "    </tr>\n",
       "    <tr>\n",
       "        <td>31502</td>\n",
       "        <td>31502</td>\n",
       "    </tr>\n",
       "    <tr>\n",
       "        <td>31011</td>\n",
       "        <td>31009</td>\n",
       "    </tr>\n",
       "    <tr>\n",
       "        <td>31011</td>\n",
       "        <td>31009</td>\n",
       "    </tr>\n",
       "    <tr>\n",
       "        <td>31623</td>\n",
       "        <td>31248</td>\n",
       "    </tr>\n",
       "    <tr>\n",
       "        <td>31204</td>\n",
       "        <td>31204</td>\n",
       "    </tr>\n",
       "    <tr>\n",
       "        <td>31213</td>\n",
       "        <td>31220</td>\n",
       "    </tr>\n",
       "    <tr>\n",
       "        <td>31223</td>\n",
       "        <td>31223</td>\n",
       "    </tr>\n",
       "    <tr>\n",
       "        <td>31007</td>\n",
       "        <td>31052</td>\n",
       "    </tr>\n",
       "    <tr>\n",
       "        <td>31235</td>\n",
       "        <td>31216</td>\n",
       "    </tr>\n",
       "    <tr>\n",
       "        <td>31015</td>\n",
       "        <td>31015</td>\n",
       "    </tr>\n",
       "    <tr>\n",
       "        <td>31238</td>\n",
       "        <td>31235</td>\n",
       "    </tr>\n",
       "    <tr>\n",
       "        <td>31235</td>\n",
       "        <td>31222</td>\n",
       "    </tr>\n",
       "    <tr>\n",
       "        <td>31201</td>\n",
       "        <td>31214</td>\n",
       "    </tr>\n",
       "    <tr>\n",
       "        <td>31108</td>\n",
       "        <td>31606</td>\n",
       "    </tr>\n",
       "    <tr>\n",
       "        <td>31025</td>\n",
       "        <td>31025</td>\n",
       "    </tr>\n",
       "    <tr>\n",
       "        <td>31030</td>\n",
       "        <td>31025</td>\n",
       "    </tr>\n",
       "</table>"
      ],
      "text/plain": [
       "[(31202, 31243),\n",
       " (31202, 31243),\n",
       " (31306, 31306),\n",
       " (31628, 31628),\n",
       " (31502, 31502),\n",
       " (31011, 31009),\n",
       " (31011, 31009),\n",
       " (31623, 31248),\n",
       " (31204, 31204),\n",
       " (31213, 31220),\n",
       " (31223, 31223),\n",
       " (31007, 31052),\n",
       " (31235, 31216),\n",
       " (31015, 31015),\n",
       " (31238, 31235),\n",
       " (31235, 31222),\n",
       " (31201, 31214),\n",
       " (31108, 31606),\n",
       " (31025, 31025),\n",
       " (31030, 31025)]"
      ]
     },
     "execution_count": 15,
     "metadata": {},
     "output_type": "execute_result"
    }
   ],
   "source": [
    "%%sql\n",
    "SELECT start_station_id, end_station_id\n",
    "FROM trip_data\n",
    "WHERE duration >= 3600\n",
    "ORDER BY duration DESC\n",
    "LIMIT 20"
   ]
  },
  {
   "cell_type": "markdown",
   "metadata": {},
   "source": [
    "On which bike was the longest bike ride done? How many seconds long was that ride?"
   ]
  },
  {
   "cell_type": "code",
   "execution_count": 16,
   "metadata": {},
   "outputs": [
    {
     "name": "stdout",
     "output_type": "stream",
     "text": [
      " * sqlite:////Users/kkoum/Documents/database.db\n",
      "Done.\n"
     ]
    },
    {
     "data": {
      "text/html": [
       "<table>\n",
       "    <tr>\n",
       "        <th>bike_number</th>\n",
       "        <th>duration</th>\n",
       "    </tr>\n",
       "    <tr>\n",
       "        <td>W00751</td>\n",
       "        <td>86326</td>\n",
       "    </tr>\n",
       "</table>"
      ],
      "text/plain": [
       "[('W00751', 86326)]"
      ]
     },
     "execution_count": 16,
     "metadata": {},
     "output_type": "execute_result"
    }
   ],
   "source": [
    "%%sql\n",
    "SELECT bike_number, duration\n",
    "FROM trip_data\n",
    "ORDER BY duration DESC\n",
    "LIMIT 1"
   ]
  },
  {
   "cell_type": "markdown",
   "metadata": {},
   "source": [
    "What is the starting station and duration of the longest ride starting and ending at the same station?"
   ]
  },
  {
   "cell_type": "code",
   "execution_count": 17,
   "metadata": {},
   "outputs": [
    {
     "name": "stdout",
     "output_type": "stream",
     "text": [
      " * sqlite:////Users/kkoum/Documents/database.db\n",
      "Done.\n"
     ]
    },
    {
     "data": {
      "text/html": [
       "<table>\n",
       "    <tr>\n",
       "        <th>start_station</th>\n",
       "        <th>duration</th>\n",
       "    </tr>\n",
       "    <tr>\n",
       "        <td>39th &amp; Calvert St NW / Stoddert</td>\n",
       "        <td>85671</td>\n",
       "    </tr>\n",
       "</table>"
      ],
      "text/plain": [
       "[('39th & Calvert St NW / Stoddert', 85671)]"
      ]
     },
     "execution_count": 17,
     "metadata": {},
     "output_type": "execute_result"
    }
   ],
   "source": [
    "%%sql\n",
    "SELECT start_station, duration\n",
    "FROM trip_data\n",
    "WHERE start_station = end_station\n",
    "ORDER BY duration DESC\n",
    "LIMIT 1"
   ]
  },
  {
   "cell_type": "markdown",
   "metadata": {},
   "source": [
    "# 1.5. Aggregation or Group By"
   ]
  },
  {
   "cell_type": "markdown",
   "metadata": {},
   "source": [
    "One very powerful feature of SQL is that it allows us to create summary information by grouping rows together. For example, we could ask ourselves how many bike trips were taken for each subscriber type or which subscriber type has the most bike trips."
   ]
  },
  {
   "cell_type": "code",
   "execution_count": 18,
   "metadata": {},
   "outputs": [
    {
     "name": "stdout",
     "output_type": "stream",
     "text": [
      " * sqlite:////Users/kkoum/Documents/database.db\n",
      "Done.\n"
     ]
    },
    {
     "data": {
      "text/html": [
       "<table>\n",
       "    <tr>\n",
       "        <th>member_type</th>\n",
       "        <th>bike_trips</th>\n",
       "    </tr>\n",
       "    <tr>\n",
       "        <td>Member</td>\n",
       "        <td>1656252</td>\n",
       "    </tr>\n",
       "    <tr>\n",
       "        <td>Casual</td>\n",
       "        <td>372642</td>\n",
       "    </tr>\n",
       "    <tr>\n",
       "        <td>Unknown</td>\n",
       "        <td>17</td>\n",
       "    </tr>\n",
       "</table>"
      ],
      "text/plain": [
       "[('Member', 1656252), ('Casual', 372642), ('Unknown', 17)]"
      ]
     },
     "execution_count": 18,
     "metadata": {},
     "output_type": "execute_result"
    }
   ],
   "source": [
    "%%sql\n",
    "SELECT member_type, COUNT(*) AS bike_trips\n",
    "FROM trip_data\n",
    "GROUP BY member_type\n",
    "ORDER BY bike_trips DESC"
   ]
  },
  {
   "cell_type": "markdown",
   "metadata": {},
   "source": [
    "GROUP BY member_type takes all the rows with a given member_type and produces a single row in the result. This means that we need to tell SQL how we want to combine the other columns’ values into a single row. The above example uses COUNT(*) which reports the number of rows that were combined.\n",
    "\n",
    "Aggregating the values for each member_type is not hard. Since they are all the same, SQL just gives us a single copy of the publisher name. Other columns, we need to either ignore (causing them to be omitted from the output) or specify a way to aggregate them.\n",
    "\n",
    "We must specify an aggregate function for any column that we SELECT in our query (except the column that we’re grouping by) in order for the command to succeed. If we don’t specify a way to aggregate the value most database servers will complain. However, SQLITE does not. SQLite lets you do silly things without giving you an error. For example, the following query will work, but you have no idea what the results actually mean."
   ]
  },
  {
   "cell_type": "code",
   "execution_count": 19,
   "metadata": {},
   "outputs": [
    {
     "name": "stdout",
     "output_type": "stream",
     "text": [
      " * sqlite:////Users/kkoum/Documents/database.db\n",
      "Done.\n"
     ]
    },
    {
     "data": {
      "text/html": [
       "<table>\n",
       "    <tr>\n",
       "        <th>duration</th>\n",
       "        <th>COUNT(*)</th>\n",
       "    </tr>\n",
       "    <tr>\n",
       "        <td>475</td>\n",
       "        <td>1656252</td>\n",
       "    </tr>\n",
       "    <tr>\n",
       "        <td>1162</td>\n",
       "        <td>372642</td>\n",
       "    </tr>\n",
       "    <tr>\n",
       "        <td>1181</td>\n",
       "        <td>17</td>\n",
       "    </tr>\n",
       "</table>"
      ],
      "text/plain": [
       "[(475, 1656252), (1162, 372642), (1181, 17)]"
      ]
     },
     "execution_count": 19,
     "metadata": {},
     "output_type": "execute_result"
    }
   ],
   "source": [
    "%%sql\n",
    "SELECT duration, COUNT(*)\n",
    "FROM trip_data\n",
    "GROUP BY member_type\n",
    "ORDER BY COUNT(*) DESC"
   ]
  },
  {
   "cell_type": "markdown",
   "metadata": {},
   "source": [
    "Here you have grouped by member_type, but without member_type in the select clause you have no idea which row corresponds to each member type. That is why most databases will flag this as a error. Furthermore the duration field may be the first duration in the group or maybe the last duration in the group or possibly in between, But its not defined. The best practices for writing GROUP BY queries that work well across database systems are as follows:\n",
    "\n",
    "* Always include the GROUP BY column(s) in your SELECT clause.\n",
    "\n",
    "* If you include a column that is not in the GROUP BY clause in your SELECT clause you must do some form of aggregation on the values in that column. For example, min, max, mean, count, etc.\n",
    "\n",
    "Let’s go back briefly to the first query in the Aggregation section. The top result was the count of bike trips for member_type Member: 1.656.252\n",
    "\n",
    "If you want to get a more granular break down of this count, you may specify multiple columns to aggregate within the GROUP BY clause, for example: further breakdown the aggregate count by the start station IDs:"
   ]
  },
  {
   "cell_type": "code",
   "execution_count": 20,
   "metadata": {},
   "outputs": [
    {
     "name": "stdout",
     "output_type": "stream",
     "text": [
      " * sqlite:////Users/kkoum/Documents/database.db\n",
      "Done.\n"
     ]
    },
    {
     "data": {
      "text/html": [
       "<table>\n",
       "    <tr>\n",
       "        <th>member_type</th>\n",
       "        <th>start_station_id</th>\n",
       "        <th>bike_trips</th>\n",
       "    </tr>\n",
       "    <tr>\n",
       "        <td>Member</td>\n",
       "        <td>31200</td>\n",
       "        <td>47052</td>\n",
       "    </tr>\n",
       "    <tr>\n",
       "        <td>Member</td>\n",
       "        <td>31623</td>\n",
       "        <td>40818</td>\n",
       "    </tr>\n",
       "    <tr>\n",
       "        <td>Member</td>\n",
       "        <td>31201</td>\n",
       "        <td>36392</td>\n",
       "    </tr>\n",
       "    <tr>\n",
       "        <td>Member</td>\n",
       "        <td>31214</td>\n",
       "        <td>32321</td>\n",
       "    </tr>\n",
       "    <tr>\n",
       "        <td>Member</td>\n",
       "        <td>31101</td>\n",
       "        <td>29770</td>\n",
       "    </tr>\n",
       "</table>"
      ],
      "text/plain": [
       "[('Member', 31200, 47052),\n",
       " ('Member', 31623, 40818),\n",
       " ('Member', 31201, 36392),\n",
       " ('Member', 31214, 32321),\n",
       " ('Member', 31101, 29770)]"
      ]
     },
     "execution_count": 20,
     "metadata": {},
     "output_type": "execute_result"
    }
   ],
   "source": [
    "%%sql\n",
    "SELECT member_type, start_station_id, COUNT(*) AS bike_trips\n",
    "FROM trip_data\n",
    "WHERE member_type = 'Member'\n",
    "GROUP BY member_type, start_station_id\n",
    "ORDER BY COUNT(*) DESC\n",
    "LIMIT 5"
   ]
  },
  {
   "cell_type": "markdown",
   "metadata": {},
   "source": [
    "Great! Now that you’re familiar with how to aggregate data using SQL queries with COUNT() as your aggregation function, let’ take a look at other aggregation functions. There are many such functions. Some common ones include:\n",
    "\n",
    "* SUM: To add the values together\n",
    "* AVG: To compute the mean of the values\n",
    "* MIN or MAX: To compute the minimum and maximum respectively\n",
    "\n",
    "So we could, for example, compute the total number of minutes of all bike trips for all subscriber types"
   ]
  },
  {
   "cell_type": "code",
   "execution_count": 21,
   "metadata": {},
   "outputs": [
    {
     "name": "stdout",
     "output_type": "stream",
     "text": [
      " * sqlite:////Users/kkoum/Documents/database.db\n",
      "Done.\n"
     ]
    },
    {
     "data": {
      "text/html": [
       "<table>\n",
       "    <tr>\n",
       "        <th>member_type</th>\n",
       "        <th>total_minutes</th>\n",
       "    </tr>\n",
       "    <tr>\n",
       "        <td>Casual</td>\n",
       "        <td>15090095</td>\n",
       "    </tr>\n",
       "    <tr>\n",
       "        <td>Member</td>\n",
       "        <td>19638594</td>\n",
       "    </tr>\n",
       "    <tr>\n",
       "        <td>Unknown</td>\n",
       "        <td>242</td>\n",
       "    </tr>\n",
       "</table>"
      ],
      "text/plain": [
       "[('Casual', 15090095), ('Member', 19638594), ('Unknown', 242)]"
      ]
     },
     "execution_count": 21,
     "metadata": {},
     "output_type": "execute_result"
    }
   ],
   "source": [
    "%%sql\n",
    "SELECT member_type, SUM(duration)/60 AS total_minutes\n",
    "FROM trip_data\n",
    "GROUP BY member_type"
   ]
  },
  {
   "cell_type": "markdown",
   "metadata": {},
   "source": [
    "## 1.5.1. Practice exercises"
   ]
  },
  {
   "cell_type": "markdown",
   "metadata": {},
   "source": [
    "Compute the average duration of bike trips for each starting station id and list the results in order of highest average to lowest average for the 10 stations with the highest average. What is the highest average duration?"
   ]
  },
  {
   "cell_type": "code",
   "execution_count": 22,
   "metadata": {},
   "outputs": [
    {
     "name": "stdout",
     "output_type": "stream",
     "text": [
      " * sqlite:////Users/kkoum/Documents/database.db\n",
      "Done.\n"
     ]
    },
    {
     "data": {
      "text/html": [
       "<table>\n",
       "    <tr>\n",
       "        <th>start_station_id</th>\n",
       "        <th>average_duration</th>\n",
       "    </tr>\n",
       "    <tr>\n",
       "        <td>31262</td>\n",
       "        <td>5215.625</td>\n",
       "    </tr>\n",
       "    <tr>\n",
       "        <td>31248</td>\n",
       "        <td>2842.0650870517698</td>\n",
       "    </tr>\n",
       "    <tr>\n",
       "        <td>31247</td>\n",
       "        <td>2589.210461253187</td>\n",
       "    </tr>\n",
       "    <tr>\n",
       "        <td>31240</td>\n",
       "        <td>2401.782774390244</td>\n",
       "    </tr>\n",
       "    <tr>\n",
       "        <td>31258</td>\n",
       "        <td>2389.185922502666</td>\n",
       "    </tr>\n",
       "    <tr>\n",
       "        <td>31041</td>\n",
       "        <td>2330.345104333868</td>\n",
       "    </tr>\n",
       "    <tr>\n",
       "        <td>31706</td>\n",
       "        <td>2093.6473988439307</td>\n",
       "    </tr>\n",
       "    <tr>\n",
       "        <td>31703</td>\n",
       "        <td>1994.9260869565217</td>\n",
       "    </tr>\n",
       "    <tr>\n",
       "        <td>31235</td>\n",
       "        <td>1958.2764060027807</td>\n",
       "    </tr>\n",
       "    <tr>\n",
       "        <td>31243</td>\n",
       "        <td>1924.9379058659367</td>\n",
       "    </tr>\n",
       "</table>"
      ],
      "text/plain": [
       "[(31262, 5215.625),\n",
       " (31248, 2842.0650870517698),\n",
       " (31247, 2589.210461253187),\n",
       " (31240, 2401.782774390244),\n",
       " (31258, 2389.185922502666),\n",
       " (31041, 2330.345104333868),\n",
       " (31706, 2093.6473988439307),\n",
       " (31703, 1994.9260869565217),\n",
       " (31235, 1958.2764060027807),\n",
       " (31243, 1924.9379058659367)]"
      ]
     },
     "execution_count": 22,
     "metadata": {},
     "output_type": "execute_result"
    }
   ],
   "source": [
    "%%sql\n",
    "SELECT start_station_id, AVG(duration) AS average_duration\n",
    "FROM trip_data\n",
    "GROUP BY start_station_id\n",
    "ORDER BY average_duration DESC\n",
    "LIMIT 10"
   ]
  },
  {
   "cell_type": "markdown",
   "metadata": {},
   "source": [
    "What is the bike_number and count of the bike with the most rides?"
   ]
  },
  {
   "cell_type": "code",
   "execution_count": 23,
   "metadata": {},
   "outputs": [
    {
     "name": "stdout",
     "output_type": "stream",
     "text": [
      " * sqlite:////Users/kkoum/Documents/database.db\n",
      "Done.\n"
     ]
    },
    {
     "data": {
      "text/html": [
       "<table>\n",
       "    <tr>\n",
       "        <th>bike_number</th>\n",
       "        <th>rides</th>\n",
       "    </tr>\n",
       "    <tr>\n",
       "        <td>W01414</td>\n",
       "        <td>1949</td>\n",
       "    </tr>\n",
       "</table>"
      ],
      "text/plain": [
       "[('W01414', 1949)]"
      ]
     },
     "execution_count": 23,
     "metadata": {},
     "output_type": "execute_result"
    }
   ],
   "source": [
    "%%sql\n",
    "SELECT bike_number, COUNT(*) AS rides\n",
    "FROM trip_data\n",
    "GROUP BY bike_number\n",
    "ORDER BY rides DESC\n",
    "LIMIT 1"
   ]
  },
  {
   "cell_type": "markdown",
   "metadata": {},
   "source": [
    "How many were the total rides by Members and Casual users?"
   ]
  },
  {
   "cell_type": "code",
   "execution_count": 24,
   "metadata": {},
   "outputs": [
    {
     "name": "stdout",
     "output_type": "stream",
     "text": [
      " * sqlite:////Users/kkoum/Documents/database.db\n",
      "Done.\n"
     ]
    },
    {
     "data": {
      "text/html": [
       "<table>\n",
       "    <tr>\n",
       "        <th>member_type</th>\n",
       "        <th>total_rides</th>\n",
       "    </tr>\n",
       "    <tr>\n",
       "        <td>Casual</td>\n",
       "        <td>372642</td>\n",
       "    </tr>\n",
       "    <tr>\n",
       "        <td>Member</td>\n",
       "        <td>1656252</td>\n",
       "    </tr>\n",
       "</table>"
      ],
      "text/plain": [
       "[('Casual', 372642), ('Member', 1656252)]"
      ]
     },
     "execution_count": 24,
     "metadata": {},
     "output_type": "execute_result"
    }
   ],
   "source": [
    "%%sql\n",
    "SELECT member_type, COUNT(*) AS total_rides\n",
    "FROM trip_data\n",
    "WHERE member_type = 'Casual' OR member_type = 'Member'\n",
    "GROUP BY member_type"
   ]
  },
  {
   "cell_type": "markdown",
   "metadata": {},
   "source": [
    "What is the station that has the most rides that start and end at the same station? How many rides started there?"
   ]
  },
  {
   "cell_type": "code",
   "execution_count": 25,
   "metadata": {},
   "outputs": [
    {
     "name": "stdout",
     "output_type": "stream",
     "text": [
      " * sqlite:////Users/kkoum/Documents/database.db\n",
      "Done.\n"
     ]
    },
    {
     "data": {
      "text/html": [
       "<table>\n",
       "    <tr>\n",
       "        <th>start_station</th>\n",
       "        <th>rides</th>\n",
       "    </tr>\n",
       "    <tr>\n",
       "        <td>Jefferson Dr &amp; 14th St SW</td>\n",
       "        <td>4388</td>\n",
       "    </tr>\n",
       "</table>"
      ],
      "text/plain": [
       "[('Jefferson Dr & 14th St SW', 4388)]"
      ]
     },
     "execution_count": 25,
     "metadata": {},
     "output_type": "execute_result"
    }
   ],
   "source": [
    "%%sql\n",
    "SELECT start_station, COUNT(*) AS rides\n",
    "FROM trip_data\n",
    "WHERE start_station = end_station\n",
    "GROUP BY start_station\n",
    "ORDER BY rides DESC\n",
    "LIMIT 1"
   ]
  },
  {
   "cell_type": "markdown",
   "metadata": {},
   "source": [
    "# 1.6 Joining"
   ]
  },
  {
   "cell_type": "markdown",
   "metadata": {},
   "source": [
    "It is frequently the case that the data we need is spread across multiple tables in our database. For example, we might want to store additional information about the starting and ending location of the ride beside their IDs in a table called stations. Here is a look at that table:"
   ]
  },
  {
   "cell_type": "code",
   "execution_count": 26,
   "metadata": {},
   "outputs": [
    {
     "name": "stdout",
     "output_type": "stream",
     "text": [
      " * sqlite:////Users/kkoum/Documents/database.db\n",
      "Done.\n"
     ]
    },
    {
     "data": {
      "text/html": [
       "<table>\n",
       "    <tr>\n",
       "        <th>station_id</th>\n",
       "        <th>name</th>\n",
       "        <th>capacity</th>\n",
       "        <th>status</th>\n",
       "        <th>latitude</th>\n",
       "        <th>longitude</th>\n",
       "    </tr>\n",
       "    <tr>\n",
       "        <td>31000</td>\n",
       "        <td>Eads St &amp; 15th St S</td>\n",
       "        <td>15</td>\n",
       "        <td>OPEN</td>\n",
       "        <td>38.858971</td>\n",
       "        <td>-77.05323</td>\n",
       "    </tr>\n",
       "    <tr>\n",
       "        <td>31001</td>\n",
       "        <td>18th St &amp; S Eads St</td>\n",
       "        <td>11</td>\n",
       "        <td>OPEN</td>\n",
       "        <td>38.85725</td>\n",
       "        <td>-77.05332</td>\n",
       "    </tr>\n",
       "    <tr>\n",
       "        <td>31002</td>\n",
       "        <td>Crystal Dr &amp; 20th St S</td>\n",
       "        <td>17</td>\n",
       "        <td>OPEN</td>\n",
       "        <td>38.856425</td>\n",
       "        <td>-77.049232</td>\n",
       "    </tr>\n",
       "    <tr>\n",
       "        <td>31003</td>\n",
       "        <td>Crystal Dr &amp; 15th St S</td>\n",
       "        <td>10</td>\n",
       "        <td>OPEN</td>\n",
       "        <td>38.86017</td>\n",
       "        <td>-77.049593</td>\n",
       "    </tr>\n",
       "    <tr>\n",
       "        <td>31004</td>\n",
       "        <td>Aurora Hills Cmty Ctr / 18th St &amp; S Hayes St</td>\n",
       "        <td>11</td>\n",
       "        <td>OPEN</td>\n",
       "        <td>38.857866</td>\n",
       "        <td>-77.05949</td>\n",
       "    </tr>\n",
       "</table>"
      ],
      "text/plain": [
       "[(31000, 'Eads St & 15th St S', 15, 'OPEN', 38.858971, -77.05323),\n",
       " (31001, '18th St & S Eads St', 11, 'OPEN', 38.85725, -77.05332),\n",
       " (31002, 'Crystal Dr & 20th St S', 17, 'OPEN', 38.856425, -77.049232),\n",
       " (31003, 'Crystal Dr & 15th St S', 10, 'OPEN', 38.86017, -77.049593),\n",
       " (31004, 'Aurora Hills Cmty Ctr / 18th St & S Hayes St', 11, 'OPEN', 38.857866, -77.05949)]"
      ]
     },
     "execution_count": 26,
     "metadata": {},
     "output_type": "execute_result"
    }
   ],
   "source": [
    "%%sql\n",
    "SELECT *\n",
    "FROM stations\n",
    "LIMIT 5"
   ]
  },
  {
   "cell_type": "markdown",
   "metadata": {},
   "source": [
    "This means that we now have the data to answer questions like \"How many bike trips originated from bike station that’s at Van Ness Metro / UDC?\", but the data are spread across two tables.\n",
    "\n",
    "We could imagine storing the name column in our trip_data table since we list the start and end stations IDs for each trip but there are a few important reasons why that’s a bad idea:\n",
    "\n",
    "* We would waste space by duplicating data (This is not a big deal for this example but a real concern for large systems)\n",
    "* Updating data (for example status of station from OPEN to CLOSED) would require updating each row in trip_data that refers to that station ID. This is time-consuming and error-prone.\n",
    "\n",
    "Instead we leave the data in two separate tables and need a way to \"join\" the values together. We can do that by just listing multiple table names but the result is a mess:"
   ]
  },
  {
   "cell_type": "code",
   "execution_count": 27,
   "metadata": {},
   "outputs": [
    {
     "name": "stdout",
     "output_type": "stream",
     "text": [
      " * sqlite:////Users/kkoum/Documents/database.db\n",
      "Done.\n"
     ]
    },
    {
     "data": {
      "text/html": [
       "<table>\n",
       "    <tr>\n",
       "        <th>start_date</th>\n",
       "        <th>end_date</th>\n",
       "        <th>duration</th>\n",
       "        <th>start_station_id</th>\n",
       "        <th>start_station</th>\n",
       "        <th>end_station_id</th>\n",
       "        <th>end_station</th>\n",
       "        <th>bike_number</th>\n",
       "        <th>member_type</th>\n",
       "        <th>station_id</th>\n",
       "        <th>name</th>\n",
       "        <th>capacity</th>\n",
       "        <th>status</th>\n",
       "        <th>latitude</th>\n",
       "        <th>longitude</th>\n",
       "    </tr>\n",
       "    <tr>\n",
       "        <td>2012-01-01 00:04:00</td>\n",
       "        <td>2012-01-01 00:11:56</td>\n",
       "        <td>475</td>\n",
       "        <td>31245</td>\n",
       "        <td>7th &amp; R St NW / Shaw Library</td>\n",
       "        <td>31109</td>\n",
       "        <td>7th &amp; T St NW</td>\n",
       "        <td>W01412</td>\n",
       "        <td>Member</td>\n",
       "        <td>31000</td>\n",
       "        <td>Eads St &amp; 15th St S</td>\n",
       "        <td>15</td>\n",
       "        <td>OPEN</td>\n",
       "        <td>38.858971</td>\n",
       "        <td>-77.05323</td>\n",
       "    </tr>\n",
       "    <tr>\n",
       "        <td>2012-01-01 00:04:00</td>\n",
       "        <td>2012-01-01 00:11:56</td>\n",
       "        <td>475</td>\n",
       "        <td>31245</td>\n",
       "        <td>7th &amp; R St NW / Shaw Library</td>\n",
       "        <td>31109</td>\n",
       "        <td>7th &amp; T St NW</td>\n",
       "        <td>W01412</td>\n",
       "        <td>Member</td>\n",
       "        <td>31001</td>\n",
       "        <td>18th St &amp; S Eads St</td>\n",
       "        <td>11</td>\n",
       "        <td>OPEN</td>\n",
       "        <td>38.85725</td>\n",
       "        <td>-77.05332</td>\n",
       "    </tr>\n",
       "    <tr>\n",
       "        <td>2012-01-01 00:04:00</td>\n",
       "        <td>2012-01-01 00:11:56</td>\n",
       "        <td>475</td>\n",
       "        <td>31245</td>\n",
       "        <td>7th &amp; R St NW / Shaw Library</td>\n",
       "        <td>31109</td>\n",
       "        <td>7th &amp; T St NW</td>\n",
       "        <td>W01412</td>\n",
       "        <td>Member</td>\n",
       "        <td>31002</td>\n",
       "        <td>Crystal Dr &amp; 20th St S</td>\n",
       "        <td>17</td>\n",
       "        <td>OPEN</td>\n",
       "        <td>38.856425</td>\n",
       "        <td>-77.049232</td>\n",
       "    </tr>\n",
       "    <tr>\n",
       "        <td>2012-01-01 00:04:00</td>\n",
       "        <td>2012-01-01 00:11:56</td>\n",
       "        <td>475</td>\n",
       "        <td>31245</td>\n",
       "        <td>7th &amp; R St NW / Shaw Library</td>\n",
       "        <td>31109</td>\n",
       "        <td>7th &amp; T St NW</td>\n",
       "        <td>W01412</td>\n",
       "        <td>Member</td>\n",
       "        <td>31003</td>\n",
       "        <td>Crystal Dr &amp; 15th St S</td>\n",
       "        <td>10</td>\n",
       "        <td>OPEN</td>\n",
       "        <td>38.86017</td>\n",
       "        <td>-77.049593</td>\n",
       "    </tr>\n",
       "    <tr>\n",
       "        <td>2012-01-01 00:04:00</td>\n",
       "        <td>2012-01-01 00:11:56</td>\n",
       "        <td>475</td>\n",
       "        <td>31245</td>\n",
       "        <td>7th &amp; R St NW / Shaw Library</td>\n",
       "        <td>31109</td>\n",
       "        <td>7th &amp; T St NW</td>\n",
       "        <td>W01412</td>\n",
       "        <td>Member</td>\n",
       "        <td>31004</td>\n",
       "        <td>Aurora Hills Cmty Ctr / 18th St &amp; S Hayes St</td>\n",
       "        <td>11</td>\n",
       "        <td>OPEN</td>\n",
       "        <td>38.857866</td>\n",
       "        <td>-77.05949</td>\n",
       "    </tr>\n",
       "</table>"
      ],
      "text/plain": [
       "[('2012-01-01 00:04:00', '2012-01-01 00:11:56', 475, 31245, '7th & R St NW / Shaw Library', 31109, '7th & T St NW', 'W01412', 'Member', 31000, 'Eads St & 15th St S', 15, 'OPEN', 38.858971, -77.05323),\n",
       " ('2012-01-01 00:04:00', '2012-01-01 00:11:56', 475, 31245, '7th & R St NW / Shaw Library', 31109, '7th & T St NW', 'W01412', 'Member', 31001, '18th St & S Eads St', 11, 'OPEN', 38.85725, -77.05332),\n",
       " ('2012-01-01 00:04:00', '2012-01-01 00:11:56', 475, 31245, '7th & R St NW / Shaw Library', 31109, '7th & T St NW', 'W01412', 'Member', 31002, 'Crystal Dr & 20th St S', 17, 'OPEN', 38.856425, -77.049232),\n",
       " ('2012-01-01 00:04:00', '2012-01-01 00:11:56', 475, 31245, '7th & R St NW / Shaw Library', 31109, '7th & T St NW', 'W01412', 'Member', 31003, 'Crystal Dr & 15th St S', 10, 'OPEN', 38.86017, -77.049593),\n",
       " ('2012-01-01 00:04:00', '2012-01-01 00:11:56', 475, 31245, '7th & R St NW / Shaw Library', 31109, '7th & T St NW', 'W01412', 'Member', 31004, 'Aurora Hills Cmty Ctr / 18th St & S Hayes St', 11, 'OPEN', 38.857866, -77.05949)]"
      ]
     },
     "execution_count": 27,
     "metadata": {},
     "output_type": "execute_result"
    }
   ],
   "source": [
    "%%sql\n",
    "SELECT *\n",
    "FROM trip_data, stations\n",
    "LIMIT 5"
   ]
  },
  {
   "cell_type": "markdown",
   "metadata": {},
   "source": [
    "If you look carefully you might notice that the rows are identical for the first few columns and then start to differ. That’s because SQL joins each row in the first table with each row in the second table. With 579 rows in stations and 2.028.911 rows in trips_data, we end up with a table of more than a billion rows!"
   ]
  },
  {
   "cell_type": "code",
   "execution_count": 28,
   "metadata": {},
   "outputs": [
    {
     "name": "stdout",
     "output_type": "stream",
     "text": [
      " * sqlite:////Users/kkoum/Documents/database.db\n",
      "Done.\n"
     ]
    },
    {
     "data": {
      "text/html": [
       "<table>\n",
       "    <tr>\n",
       "        <th>number_of_rows</th>\n",
       "    </tr>\n",
       "    <tr>\n",
       "        <td>1174739469</td>\n",
       "    </tr>\n",
       "</table>"
      ],
      "text/plain": [
       "[(1174739469,)]"
      ]
     },
     "execution_count": 28,
     "metadata": {},
     "output_type": "execute_result"
    }
   ],
   "source": [
    "%%sql\n",
    "SELECT COUNT(*) AS number_of_rows\n",
    "FROM trip_data, stations"
   ]
  },
  {
   "cell_type": "markdown",
   "metadata": {},
   "source": [
    "This rarely if ever is what we want. In most cases, we want to match up some aspect of the rows in the first table with some aspect of the rows in the second table. In most cases, we want to match up based on some column being equal.\n",
    "\n",
    "In our bike sharing example, the station_id column of stations matches up with the start_station_id or end_station_id column of trip_data. To force this match, we filter out the ones that don’t have the same value for both of these columns."
   ]
  },
  {
   "cell_type": "code",
   "execution_count": 29,
   "metadata": {},
   "outputs": [
    {
     "name": "stdout",
     "output_type": "stream",
     "text": [
      " * sqlite:////Users/kkoum/Documents/database.db\n",
      "Done.\n"
     ]
    },
    {
     "data": {
      "text/html": [
       "<table>\n",
       "    <tr>\n",
       "        <th>start_date</th>\n",
       "        <th>end_date</th>\n",
       "        <th>duration</th>\n",
       "        <th>start_station_id</th>\n",
       "        <th>start_station</th>\n",
       "        <th>end_station_id</th>\n",
       "        <th>end_station</th>\n",
       "        <th>bike_number</th>\n",
       "        <th>member_type</th>\n",
       "        <th>station_id</th>\n",
       "        <th>name</th>\n",
       "        <th>capacity</th>\n",
       "        <th>status</th>\n",
       "        <th>latitude</th>\n",
       "        <th>longitude</th>\n",
       "    </tr>\n",
       "    <tr>\n",
       "        <td>2012-01-01 00:04:00</td>\n",
       "        <td>2012-01-01 00:11:56</td>\n",
       "        <td>475</td>\n",
       "        <td>31245</td>\n",
       "        <td>7th &amp; R St NW / Shaw Library</td>\n",
       "        <td>31109</td>\n",
       "        <td>7th &amp; T St NW</td>\n",
       "        <td>W01412</td>\n",
       "        <td>Member</td>\n",
       "        <td>31245</td>\n",
       "        <td>7th &amp; R St NW / Shaw Library</td>\n",
       "        <td>15</td>\n",
       "        <td>OPEN</td>\n",
       "        <td>38.912719</td>\n",
       "        <td>-77.022155</td>\n",
       "    </tr>\n",
       "    <tr>\n",
       "        <td>2012-01-01 00:10:05</td>\n",
       "        <td>2012-01-01 00:29:28</td>\n",
       "        <td>1162</td>\n",
       "        <td>31400</td>\n",
       "        <td>Georgia &amp; New Hampshire Ave NW</td>\n",
       "        <td>31103</td>\n",
       "        <td>16th &amp; Harvard St NW</td>\n",
       "        <td>W00524</td>\n",
       "        <td>Casual</td>\n",
       "        <td>31400</td>\n",
       "        <td>Georgia &amp; New Hampshire Ave NW</td>\n",
       "        <td>19</td>\n",
       "        <td>OPEN</td>\n",
       "        <td>38.93668393</td>\n",
       "        <td>-77.02418089</td>\n",
       "    </tr>\n",
       "    <tr>\n",
       "        <td>2012-01-01 00:10:23</td>\n",
       "        <td>2012-01-01 00:29:28</td>\n",
       "        <td>1145</td>\n",
       "        <td>31400</td>\n",
       "        <td>Georgia &amp; New Hampshire Ave NW</td>\n",
       "        <td>31103</td>\n",
       "        <td>16th &amp; Harvard St NW</td>\n",
       "        <td>W00235</td>\n",
       "        <td>Member</td>\n",
       "        <td>31400</td>\n",
       "        <td>Georgia &amp; New Hampshire Ave NW</td>\n",
       "        <td>19</td>\n",
       "        <td>OPEN</td>\n",
       "        <td>38.93668393</td>\n",
       "        <td>-77.02418089</td>\n",
       "    </tr>\n",
       "    <tr>\n",
       "        <td>2012-01-01 00:15:41</td>\n",
       "        <td>2012-01-01 00:23:46</td>\n",
       "        <td>485</td>\n",
       "        <td>31101</td>\n",
       "        <td>14th &amp; V St NW</td>\n",
       "        <td>31602</td>\n",
       "        <td>Park Rd &amp; Holmead Pl NW</td>\n",
       "        <td>W00864</td>\n",
       "        <td>Member</td>\n",
       "        <td>31101</td>\n",
       "        <td>14th &amp; V St NW</td>\n",
       "        <td>31</td>\n",
       "        <td>OPEN</td>\n",
       "        <td>38.917931</td>\n",
       "        <td>-77.032112</td>\n",
       "    </tr>\n",
       "    <tr>\n",
       "        <td>2012-01-01 00:15:42</td>\n",
       "        <td>2012-01-01 00:23:34</td>\n",
       "        <td>471</td>\n",
       "        <td>31102</td>\n",
       "        <td>11th &amp; Kenyon St NW</td>\n",
       "        <td>31109</td>\n",
       "        <td>7th &amp; T St NW</td>\n",
       "        <td>W00995</td>\n",
       "        <td>Member</td>\n",
       "        <td>31102</td>\n",
       "        <td>11th &amp; Kenyon St NW</td>\n",
       "        <td>27</td>\n",
       "        <td>CLOSED</td>\n",
       "        <td>38.929464</td>\n",
       "        <td>-77.027822</td>\n",
       "    </tr>\n",
       "</table>"
      ],
      "text/plain": [
       "[('2012-01-01 00:04:00', '2012-01-01 00:11:56', 475, 31245, '7th & R St NW / Shaw Library', 31109, '7th & T St NW', 'W01412', 'Member', 31245, '7th & R St NW / Shaw Library', 15, 'OPEN', 38.912719, -77.022155),\n",
       " ('2012-01-01 00:10:05', '2012-01-01 00:29:28', 1162, 31400, 'Georgia & New Hampshire Ave NW', 31103, '16th & Harvard St NW', 'W00524', 'Casual', 31400, 'Georgia & New Hampshire Ave NW', 19, 'OPEN', 38.93668393, -77.02418089),\n",
       " ('2012-01-01 00:10:23', '2012-01-01 00:29:28', 1145, 31400, 'Georgia & New Hampshire Ave NW', 31103, '16th & Harvard St NW', 'W00235', 'Member', 31400, 'Georgia & New Hampshire Ave NW', 19, 'OPEN', 38.93668393, -77.02418089),\n",
       " ('2012-01-01 00:15:41', '2012-01-01 00:23:46', 485, 31101, '14th & V St NW', 31602, 'Park Rd & Holmead Pl NW', 'W00864', 'Member', 31101, '14th & V St NW', 31, 'OPEN', 38.917931, -77.032112),\n",
       " ('2012-01-01 00:15:42', '2012-01-01 00:23:34', 471, 31102, '11th & Kenyon St NW', 31109, '7th & T St NW', 'W00995', 'Member', 31102, '11th & Kenyon St NW', 27, 'CLOSED', 38.929464, -77.027822)]"
      ]
     },
     "execution_count": 29,
     "metadata": {},
     "output_type": "execute_result"
    }
   ],
   "source": [
    "%%sql\n",
    "SELECT *\n",
    "FROM trip_data, stations\n",
    "WHERE start_station_id = station_id\n",
    "LIMIT 5"
   ]
  },
  {
   "cell_type": "markdown",
   "metadata": {},
   "source": [
    "Notice that the result looks more sensical: we end up with one row from trip_data and the corresponding row from bikeshare_stations.\n",
    "\n",
    "We can check the size of the resulting table by running:"
   ]
  },
  {
   "cell_type": "code",
   "execution_count": 30,
   "metadata": {},
   "outputs": [
    {
     "name": "stdout",
     "output_type": "stream",
     "text": [
      " * sqlite:////Users/kkoum/Documents/database.db\n",
      "Done.\n"
     ]
    },
    {
     "data": {
      "text/html": [
       "<table>\n",
       "    <tr>\n",
       "        <th>number_of_rows</th>\n",
       "    </tr>\n",
       "    <tr>\n",
       "        <td>2005443</td>\n",
       "    </tr>\n",
       "</table>"
      ],
      "text/plain": [
       "[(2005443,)]"
      ]
     },
     "execution_count": 30,
     "metadata": {},
     "output_type": "execute_result"
    }
   ],
   "source": [
    "%%sql\n",
    "SELECT COUNT(*) AS number_of_rows\n",
    "FROM trip_data, stations\n",
    "WHERE start_station_id = station_id"
   ]
  },
  {
   "cell_type": "markdown",
   "metadata": {},
   "source": [
    "You might also see some cases where the comma between the table names is replaced with the keyword JOIN and WHERE is replaced with ON. This is synonymous but sometimes preferred to make it clear that you are joining two tables and that your filters are there to specify how those tables are to be joined."
   ]
  },
  {
   "cell_type": "code",
   "execution_count": 31,
   "metadata": {},
   "outputs": [
    {
     "name": "stdout",
     "output_type": "stream",
     "text": [
      " * sqlite:////Users/kkoum/Documents/database.db\n",
      "Done.\n"
     ]
    },
    {
     "data": {
      "text/html": [
       "<table>\n",
       "    <tr>\n",
       "        <th>number_of_rows</th>\n",
       "    </tr>\n",
       "    <tr>\n",
       "        <td>2005443</td>\n",
       "    </tr>\n",
       "</table>"
      ],
      "text/plain": [
       "[(2005443,)]"
      ]
     },
     "execution_count": 31,
     "metadata": {},
     "output_type": "execute_result"
    }
   ],
   "source": [
    "%%sql\n",
    "SELECT COUNT(*) AS number_of_rows\n",
    "FROM trip_data JOIN stations ON start_station_id = station_id"
   ]
  },
  {
   "cell_type": "markdown",
   "metadata": {},
   "source": [
    "We can now use all the SQL tools we’ve learned on this combined table. For example, in order to find out which open bike station has the highest bike trip count, so that we can ensure there are always plenty of bikes available there, we can run:"
   ]
  },
  {
   "cell_type": "code",
   "execution_count": 32,
   "metadata": {},
   "outputs": [
    {
     "name": "stdout",
     "output_type": "stream",
     "text": [
      " * sqlite:////Users/kkoum/Documents/database.db\n",
      "Done.\n"
     ]
    },
    {
     "data": {
      "text/html": [
       "<table>\n",
       "    <tr>\n",
       "        <th>name</th>\n",
       "    </tr>\n",
       "    <tr>\n",
       "        <td>Massachusetts Ave &amp; Dupont Circle NW</td>\n",
       "    </tr>\n",
       "</table>"
      ],
      "text/plain": [
       "[('Massachusetts Ave & Dupont Circle NW',)]"
      ]
     },
     "execution_count": 32,
     "metadata": {},
     "output_type": "execute_result"
    }
   ],
   "source": [
    "%%sql\n",
    "SELECT name\n",
    "FROM trip_data JOIN stations ON start_station_id = station_id\n",
    "WHERE status = 'OPEN'\n",
    "GROUP BY name\n",
    "ORDER BY COUNT(*) DESC\n",
    "LIMIT 1"
   ]
  },
  {
   "cell_type": "markdown",
   "metadata": {},
   "source": [
    "## 1.6.1. Practice exercises"
   ]
  },
  {
   "cell_type": "markdown",
   "metadata": {},
   "source": [
    "Use JOIN to show the station IDs of active stations and what’s the average duration of bike trips originating and ending at the same station with member type Member."
   ]
  },
  {
   "cell_type": "code",
   "execution_count": 33,
   "metadata": {},
   "outputs": [
    {
     "name": "stdout",
     "output_type": "stream",
     "text": [
      " * sqlite:////Users/kkoum/Documents/database.db\n",
      "Done.\n"
     ]
    },
    {
     "data": {
      "text/html": [
       "<table>\n",
       "    <tr>\n",
       "        <th>station_id</th>\n",
       "        <th>average_duration</th>\n",
       "    </tr>\n",
       "    <tr>\n",
       "        <td>31000</td>\n",
       "        <td>1295.6571428571428</td>\n",
       "    </tr>\n",
       "    <tr>\n",
       "        <td>31001</td>\n",
       "        <td>966.0491803278688</td>\n",
       "    </tr>\n",
       "    <tr>\n",
       "        <td>31002</td>\n",
       "        <td>1740.0762711864406</td>\n",
       "    </tr>\n",
       "    <tr>\n",
       "        <td>31003</td>\n",
       "        <td>1940.421052631579</td>\n",
       "    </tr>\n",
       "    <tr>\n",
       "        <td>31004</td>\n",
       "        <td>1434.1311475409836</td>\n",
       "    </tr>\n",
       "</table>"
      ],
      "text/plain": [
       "[(31000, 1295.6571428571428),\n",
       " (31001, 966.0491803278688),\n",
       " (31002, 1740.0762711864406),\n",
       " (31003, 1940.421052631579),\n",
       " (31004, 1434.1311475409836)]"
      ]
     },
     "execution_count": 33,
     "metadata": {},
     "output_type": "execute_result"
    }
   ],
   "source": [
    "%%sql\n",
    "SELECT station_id, AVG(duration) AS average_duration\n",
    "FROM trip_data JOIN stations ON start_station_id = station_id\n",
    "WHERE start_station = end_station AND member_type = 'Member'\n",
    "GROUP BY station_id\n",
    "LIMIT 5"
   ]
  },
  {
   "cell_type": "markdown",
   "metadata": {},
   "source": [
    "What is the name of the station where the most rides start?"
   ]
  },
  {
   "cell_type": "code",
   "execution_count": 34,
   "metadata": {},
   "outputs": [
    {
     "name": "stdout",
     "output_type": "stream",
     "text": [
      " * sqlite:////Users/kkoum/Documents/database.db\n",
      "Done.\n"
     ]
    },
    {
     "data": {
      "text/html": [
       "<table>\n",
       "    <tr>\n",
       "        <th>name</th>\n",
       "    </tr>\n",
       "    <tr>\n",
       "        <td>Massachusetts Ave &amp; Dupont Circle NW</td>\n",
       "    </tr>\n",
       "</table>"
      ],
      "text/plain": [
       "[('Massachusetts Ave & Dupont Circle NW',)]"
      ]
     },
     "execution_count": 34,
     "metadata": {},
     "output_type": "execute_result"
    }
   ],
   "source": [
    "%%sql\n",
    "SELECT name\n",
    "FROM trip_data JOIN stations ON start_station_id = station_id\n",
    "GROUP BY station_id\n",
    "ORDER BY COUNT(*) DESC\n",
    "LIMIT 1"
   ]
  },
  {
   "cell_type": "markdown",
   "metadata": {},
   "source": [
    "What is the name of the station where the most rides end?"
   ]
  },
  {
   "cell_type": "code",
   "execution_count": 35,
   "metadata": {},
   "outputs": [
    {
     "name": "stdout",
     "output_type": "stream",
     "text": [
      " * sqlite:////Users/kkoum/Documents/database.db\n",
      "Done.\n"
     ]
    },
    {
     "data": {
      "text/html": [
       "<table>\n",
       "    <tr>\n",
       "        <th>name</th>\n",
       "    </tr>\n",
       "    <tr>\n",
       "        <td>Massachusetts Ave &amp; Dupont Circle NW</td>\n",
       "    </tr>\n",
       "</table>"
      ],
      "text/plain": [
       "[('Massachusetts Ave & Dupont Circle NW',)]"
      ]
     },
     "execution_count": 35,
     "metadata": {},
     "output_type": "execute_result"
    }
   ],
   "source": [
    "%%sql\n",
    "SELECT name\n",
    "FROM trip_data JOIN stations ON end_station_id = station_id\n",
    "GROUP BY station_id\n",
    "ORDER BY COUNT(*) DESC\n",
    "LIMIT 1"
   ]
  },
  {
   "cell_type": "markdown",
   "metadata": {},
   "source": [
    "What is the name of the station where most rides both start and end?"
   ]
  },
  {
   "cell_type": "code",
   "execution_count": 36,
   "metadata": {},
   "outputs": [
    {
     "name": "stdout",
     "output_type": "stream",
     "text": [
      " * sqlite:////Users/kkoum/Documents/database.db\n",
      "Done.\n"
     ]
    },
    {
     "data": {
      "text/html": [
       "<table>\n",
       "    <tr>\n",
       "        <th>name</th>\n",
       "    </tr>\n",
       "    <tr>\n",
       "        <td>Jefferson Dr &amp; 14th St SW</td>\n",
       "    </tr>\n",
       "</table>"
      ],
      "text/plain": [
       "[('Jefferson Dr & 14th St SW',)]"
      ]
     },
     "execution_count": 36,
     "metadata": {},
     "output_type": "execute_result"
    }
   ],
   "source": [
    "%%sql\n",
    "SELECT name\n",
    "FROM trip_data JOIN stations ON start_station_id = station_id\n",
    "WHERE start_station = end_station\n",
    "GROUP BY station_id\n",
    "ORDER BY COUNT(*) DESC\n",
    "LIMIT 1"
   ]
  },
  {
   "cell_type": "markdown",
   "metadata": {},
   "source": [
    "What is the name of the most popular ending station for rides that begin at Massachusetts Ave & Dupont Circle NW (Station: 31200)?"
   ]
  },
  {
   "cell_type": "code",
   "execution_count": 37,
   "metadata": {},
   "outputs": [
    {
     "name": "stdout",
     "output_type": "stream",
     "text": [
      " * sqlite:////Users/kkoum/Documents/database.db\n",
      "Done.\n"
     ]
    },
    {
     "data": {
      "text/html": [
       "<table>\n",
       "    <tr>\n",
       "        <th>name</th>\n",
       "    </tr>\n",
       "    <tr>\n",
       "        <td>15th &amp; P St NW</td>\n",
       "    </tr>\n",
       "</table>"
      ],
      "text/plain": [
       "[('15th & P St NW',)]"
      ]
     },
     "execution_count": 37,
     "metadata": {},
     "output_type": "execute_result"
    }
   ],
   "source": [
    "%%sql\n",
    "SELECT name\n",
    "FROM trip_data JOIN stations ON end_station_id = station_id\n",
    "WHERE start_station_id = '31200'\n",
    "GROUP BY station_id\n",
    "ORDER BY COUNT(*) DESC\n",
    "LIMIT 1"
   ]
  }
 ],
 "metadata": {
  "kernelspec": {
   "display_name": "Python 3",
   "language": "python",
   "name": "python3"
  },
  "language_info": {
   "codemirror_mode": {
    "name": "ipython",
    "version": 3
   },
   "file_extension": ".py",
   "mimetype": "text/x-python",
   "name": "python",
   "nbconvert_exporter": "python",
   "pygments_lexer": "ipython3",
   "version": "3.7.4"
  }
 },
 "nbformat": 4,
 "nbformat_minor": 2
}
