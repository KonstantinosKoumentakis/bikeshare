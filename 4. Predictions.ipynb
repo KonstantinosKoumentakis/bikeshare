{
 "cells": [
  {
   "cell_type": "markdown",
   "metadata": {},
   "source": [
    "# Predicting Daily Bike Rentals"
   ]
  },
  {
   "cell_type": "markdown",
   "metadata": {},
   "source": [
    "Let’s say you are a new data scientist working for Bikes-R-Us. Your boss comes to you and asks you to develop a model for predicting bike rentals in the future. The company is trying to decide whether to invest in more bikes so they can keep stations better stocked. It is early 2013, and what you have to work with is rental information similar to the one with which we began this chapter. The difference is that we have two full years of data (2011 and 2012) to work with.\n",
    "\n",
    "You probably have several questions here.\n",
    "\n",
    "* How do you start?\n",
    "\n",
    "* How will you know if you are even on the right track to building a good model?\n",
    "\n",
    "* What data can you use as features when you build the model?\n",
    "\n",
    "* Should you be trying to predict rentals by hour, by day, by month?\n",
    "\n",
    "With big problems like this, it’s easy to get overwhelmed with the scope of the problem. It’s also easy to make something really complex right away. A better approach is to try something simple at first (Keep It Simple Stupid, or KISS). If a simple solution works, why spend additional time and effort to make something complicated?\n",
    "\n",
    "Your initial thought is that you can build a model using the date as the main feature. You know that the data contains the information to calculate the total number of bikes rented each day. That seems like a simple approach, but how are you going to know, much less convince your boss, that your model is any good? You don’t know what bike rentals are going to be in the future, and that is what you are supposed to predict. Showing your boss the mean squared error is not likely to be too convincing, as you are just confirming the data that you have used to build the model.\n",
    "\n",
    "This is where the train-test split comes in handy. It lets you use your existing data to prove that your model works!"
   ]
  },
  {
   "cell_type": "markdown",
   "metadata": {},
   "source": [
    "# 4.1. The Train-Test Split"
   ]
  },
  {
   "cell_type": "markdown",
   "metadata": {},
   "source": [
    "The way to handle the problem of quantifying the quality of your model is to hold out some of the data that you already have. Lets take 20% of the days that we have data for, and NOT use them in building the model. Then we can make predictions for those days and check our work. It’s kind of like covering up the answer to a math problem so you don’t cheat and just look at the answer. We call this a train-test split. We will randomly select some data to include in building the model, and some data to leave out. Scikit-learn even has a handy utility function that will do this for us!\n",
    "\n",
    "To be a little more scientific about this, we will split our data into a “training set” that we will use to build the model, and a “test set” that we will use to validate the model. That is, we want to test our model on data that is different from the data we used to build the model. Testing using the data you trained on would be like cheating, as you could just build a model that memorized everything and got 100%. In the real world, you need to make predictions for things that you have not seen before.\n",
    "\n",
    "The first thing we’ll do is create two simplified DataFrames: one that contains a column containing the date, and one that contains a column of the number of bikes rented on that date. Next, we’ll randomly select 80% of the data to use in creating our linear regression model. This leaves 20% of the data to use for testing. We will use the scikit-learn train_test_split function, which returns the following DataFrames.\n",
    "\n",
    "* train_X, train_y: This is the data we’ll use to create our model. Remember that in linear regression we are trying to come up with a slope and intercept value that minimize the error, so we need to know the actual values.\n",
    "\n",
    "* test_X: We will use this data to make predictions, given a rating from test_X to calculate a predicted overall value.\n",
    "\n",
    "* test_y: We will use this data along with the predicted values to come up with our score. The score we will calculate is the mean absolute error.\n",
    "\n",
    "By default the train_test_split function takes parameters as follows: train_test_split(features_df, answer_df, test_size, random_state).\n",
    "\n",
    "The train_test_split function contains an optional parameter called random_state. We will use random_state=997 for this parameter to ensure we are all getting the same randomness.\n",
    "\n",
    "Lets try this:"
   ]
  },
  {
   "cell_type": "code",
   "execution_count": 1,
   "metadata": {},
   "outputs": [],
   "source": [
    "#importing the appropriate packages\n",
    "\n",
    "import numpy as np\n",
    "import pandas as pd\n",
    "from sklearn.model_selection import train_test_split\n",
    "from sklearn import linear_model\n",
    "from sklearn.metrics import mean_squared_error\n",
    "from sklearn.metrics import mean_absolute_error\n",
    "from sklearn.metrics import r2_score\n",
    "import matplotlib.pyplot as plt"
   ]
  },
  {
   "cell_type": "code",
   "execution_count": 2,
   "metadata": {},
   "outputs": [
    {
     "data": {
      "text/html": [
       "<div>\n",
       "<style scoped>\n",
       "    .dataframe tbody tr th:only-of-type {\n",
       "        vertical-align: middle;\n",
       "    }\n",
       "\n",
       "    .dataframe tbody tr th {\n",
       "        vertical-align: top;\n",
       "    }\n",
       "\n",
       "    .dataframe thead th {\n",
       "        text-align: right;\n",
       "    }\n",
       "</style>\n",
       "<table border=\"1\" class=\"dataframe\">\n",
       "  <thead>\n",
       "    <tr style=\"text-align: right;\">\n",
       "      <th></th>\n",
       "      <th>start_date</th>\n",
       "      <th>end_date</th>\n",
       "      <th>duration</th>\n",
       "      <th>start_station_id</th>\n",
       "      <th>start_station</th>\n",
       "      <th>end_station_id</th>\n",
       "      <th>end_station</th>\n",
       "      <th>bike_number</th>\n",
       "      <th>member_type</th>\n",
       "    </tr>\n",
       "  </thead>\n",
       "  <tbody>\n",
       "    <tr>\n",
       "      <td>0</td>\n",
       "      <td>2011-01-01 00:01:29</td>\n",
       "      <td>2011-01-01 01:00:37</td>\n",
       "      <td>3548</td>\n",
       "      <td>31620</td>\n",
       "      <td>5th &amp; F St NW</td>\n",
       "      <td>31620</td>\n",
       "      <td>5th &amp; F St NW</td>\n",
       "      <td>W00247</td>\n",
       "      <td>Member</td>\n",
       "    </tr>\n",
       "    <tr>\n",
       "      <td>1</td>\n",
       "      <td>2011-01-01 00:02:46</td>\n",
       "      <td>2011-01-01 00:08:32</td>\n",
       "      <td>346</td>\n",
       "      <td>31105</td>\n",
       "      <td>14th &amp; Harvard St NW</td>\n",
       "      <td>31101</td>\n",
       "      <td>14th &amp; V St NW</td>\n",
       "      <td>W00675</td>\n",
       "      <td>Casual</td>\n",
       "    </tr>\n",
       "    <tr>\n",
       "      <td>2</td>\n",
       "      <td>2011-01-01 00:06:13</td>\n",
       "      <td>2011-01-01 00:15:36</td>\n",
       "      <td>562</td>\n",
       "      <td>31400</td>\n",
       "      <td>Georgia &amp; New Hampshire Ave NW</td>\n",
       "      <td>31104</td>\n",
       "      <td>Adams Mill &amp; Columbia Rd NW</td>\n",
       "      <td>W00357</td>\n",
       "      <td>Member</td>\n",
       "    </tr>\n",
       "    <tr>\n",
       "      <td>3</td>\n",
       "      <td>2011-01-01 00:09:21</td>\n",
       "      <td>2011-01-01 00:16:36</td>\n",
       "      <td>434</td>\n",
       "      <td>31111</td>\n",
       "      <td>10th &amp; U St NW</td>\n",
       "      <td>31503</td>\n",
       "      <td>Florida Ave &amp; R St NW</td>\n",
       "      <td>W00970</td>\n",
       "      <td>Member</td>\n",
       "    </tr>\n",
       "    <tr>\n",
       "      <td>4</td>\n",
       "      <td>2011-01-01 00:28:26</td>\n",
       "      <td>2011-01-01 00:32:19</td>\n",
       "      <td>233</td>\n",
       "      <td>31104</td>\n",
       "      <td>Adams Mill &amp; Columbia Rd NW</td>\n",
       "      <td>31106</td>\n",
       "      <td>Calvert &amp; Biltmore St NW</td>\n",
       "      <td>W00346</td>\n",
       "      <td>Casual</td>\n",
       "    </tr>\n",
       "  </tbody>\n",
       "</table>\n",
       "</div>"
      ],
      "text/plain": [
       "           start_date            end_date  duration  start_station_id  \\\n",
       "0 2011-01-01 00:01:29 2011-01-01 01:00:37      3548             31620   \n",
       "1 2011-01-01 00:02:46 2011-01-01 00:08:32       346             31105   \n",
       "2 2011-01-01 00:06:13 2011-01-01 00:15:36       562             31400   \n",
       "3 2011-01-01 00:09:21 2011-01-01 00:16:36       434             31111   \n",
       "4 2011-01-01 00:28:26 2011-01-01 00:32:19       233             31104   \n",
       "\n",
       "                    start_station  end_station_id  \\\n",
       "0                   5th & F St NW           31620   \n",
       "1            14th & Harvard St NW           31101   \n",
       "2  Georgia & New Hampshire Ave NW           31104   \n",
       "3                  10th & U St NW           31503   \n",
       "4     Adams Mill & Columbia Rd NW           31106   \n",
       "\n",
       "                   end_station bike_number member_type  \n",
       "0                5th & F St NW      W00247      Member  \n",
       "1               14th & V St NW      W00675      Casual  \n",
       "2  Adams Mill & Columbia Rd NW      W00357      Member  \n",
       "3        Florida Ave & R St NW      W00970      Member  \n",
       "4     Calvert & Biltmore St NW      W00346      Casual  "
      ]
     },
     "execution_count": 2,
     "metadata": {},
     "output_type": "execute_result"
    }
   ],
   "source": [
    "trips = pd.read_csv(r'C:\\Users\\kkoum\\Documents\\1. University\\Business study\\Dataset\\trip_data_2011_2012.csv', parse_dates=['start_date','end_date'])\n",
    "trips.head()"
   ]
  },
  {
   "cell_type": "markdown",
   "metadata": {},
   "source": [
    "Now lets make \"start_date\" the index, resample, and count the number of trips on each day."
   ]
  },
  {
   "cell_type": "code",
   "execution_count": 3,
   "metadata": {},
   "outputs": [
    {
     "data": {
      "text/html": [
       "<div>\n",
       "<style scoped>\n",
       "    .dataframe tbody tr th:only-of-type {\n",
       "        vertical-align: middle;\n",
       "    }\n",
       "\n",
       "    .dataframe tbody tr th {\n",
       "        vertical-align: top;\n",
       "    }\n",
       "\n",
       "    .dataframe thead th {\n",
       "        text-align: right;\n",
       "    }\n",
       "</style>\n",
       "<table border=\"1\" class=\"dataframe\">\n",
       "  <thead>\n",
       "    <tr style=\"text-align: right;\">\n",
       "      <th></th>\n",
       "      <th>start_date</th>\n",
       "      <th>trip_count</th>\n",
       "    </tr>\n",
       "  </thead>\n",
       "  <tbody>\n",
       "    <tr>\n",
       "      <td>0</td>\n",
       "      <td>2011-01-01</td>\n",
       "      <td>959</td>\n",
       "    </tr>\n",
       "    <tr>\n",
       "      <td>1</td>\n",
       "      <td>2011-01-02</td>\n",
       "      <td>781</td>\n",
       "    </tr>\n",
       "    <tr>\n",
       "      <td>2</td>\n",
       "      <td>2011-01-03</td>\n",
       "      <td>1301</td>\n",
       "    </tr>\n",
       "    <tr>\n",
       "      <td>3</td>\n",
       "      <td>2011-01-04</td>\n",
       "      <td>1536</td>\n",
       "    </tr>\n",
       "    <tr>\n",
       "      <td>4</td>\n",
       "      <td>2011-01-05</td>\n",
       "      <td>1571</td>\n",
       "    </tr>\n",
       "  </tbody>\n",
       "</table>\n",
       "</div>"
      ],
      "text/plain": [
       "  start_date  trip_count\n",
       "0 2011-01-01         959\n",
       "1 2011-01-02         781\n",
       "2 2011-01-03        1301\n",
       "3 2011-01-04        1536\n",
       "4 2011-01-05        1571"
      ]
     },
     "execution_count": 3,
     "metadata": {},
     "output_type": "execute_result"
    }
   ],
   "source": [
    "trips = trips.set_index('start_date')\n",
    "trips = trips.resample('D').count()\n",
    "trips = trips[['duration']]\n",
    "trips.columns=['trip_count']\n",
    "trips = trips.reset_index()\n",
    "trips.head()"
   ]
  },
  {
   "cell_type": "markdown",
   "metadata": {},
   "source": [
    "Now we have a simple data frame, the feature is the date and what we want to predict is the number of rides for each day."
   ]
  },
  {
   "cell_type": "code",
   "execution_count": 4,
   "metadata": {},
   "outputs": [
    {
     "name": "stdout",
     "output_type": "stream",
     "text": [
      "703   2012-12-04\n",
      "475   2012-04-20\n",
      "164   2011-06-14\n",
      "261   2011-09-19\n",
      "548   2012-07-02\n",
      "         ...    \n",
      "205   2011-07-25\n",
      "485   2012-04-30\n",
      "638   2012-09-30\n",
      "454   2012-03-30\n",
      "628   2012-09-20\n",
      "Name: start_date, Length: 584, dtype: datetime64[ns]\n",
      "703    6562\n",
      "475    7203\n",
      "164    4829\n",
      "261    4467\n",
      "548    6158\n",
      "       ... \n",
      "205    3790\n",
      "485    5528\n",
      "638    6812\n",
      "454    5411\n",
      "628    7659\n",
      "Name: trip_count, Length: 584, dtype: int64\n"
     ]
    }
   ],
   "source": [
    "X_train, X_test, y_train, y_test = train_test_split(trips.start_date, trips.trip_count, test_size=0.20, random_state=997)\n",
    "print(X_train)\n",
    "print(y_train)"
   ]
  },
  {
   "cell_type": "markdown",
   "metadata": {},
   "source": [
    "Notice that when we print the values for X_train and y_train, the index values match row by row. The next step is to train our model using the X_train and y_train data. We can then come back and try to use the model to make predictions using the X_test data. Having the y_test data in hand will allow us to evaluate the model.\n",
    "\n",
    "Now that we have the train-test split, we can use the mean squared error on the difference between our predicted values for the test data and the known values for the test data. This is a much fairer model evaluation as we are not using any of the data that the model already “knowns” the answer for. In addition to the mean squared error, we can also compute the mean absolute error. This is a little nicer for us because the units of the error are the same as those of what we are trying to predict. In this case, we are getting bike rentals squared (whatever that means), but simply the number of bike rentals. We can also compute a measure called R2 which is a measure of how close the data are to the regression line.\n",
    "\n",
    "Up to this point, we’ve been making an assumption that a date is something we can just send into the LinearRegression model. Unfortunately, that is not the case. The LinearRegression model needs to have the features represented as numbers. In the spirit of keeping it simple, let’s build our first model by simply numbering each day using 0 as the first day for which we have data, 1 for the second day, and so on up to whatever number represents the last day."
   ]
  },
  {
   "cell_type": "markdown",
   "metadata": {},
   "source": [
    "# 4.2. Version 1.0 Task List"
   ]
  },
  {
   "cell_type": "markdown",
   "metadata": {},
   "source": [
    "Your task list for this project is as follows\n",
    "\n",
    "* Read in the rental data.\n",
    "\n",
    "* Transform the data into daily rental counts by resampling by day.\n",
    "\n",
    "* Number each day from 0 to N.\n",
    "\n",
    "* Make the train test split of the data using the train_test_split function.\n",
    "\n",
    "* Create a new LinearRegression model and fit the training data.\n",
    "\n",
    "* Make the prediction.\n",
    "\n",
    "* Calculate the mean squared error and mean absolute error between the known rentals from the test data and the predicted values from the model.\n",
    "\n",
    "* Make a graph to compare the training and test data."
   ]
  },
  {
   "cell_type": "code",
   "execution_count": 5,
   "metadata": {},
   "outputs": [
    {
     "data": {
      "text/html": [
       "<div>\n",
       "<style scoped>\n",
       "    .dataframe tbody tr th:only-of-type {\n",
       "        vertical-align: middle;\n",
       "    }\n",
       "\n",
       "    .dataframe tbody tr th {\n",
       "        vertical-align: top;\n",
       "    }\n",
       "\n",
       "    .dataframe thead th {\n",
       "        text-align: right;\n",
       "    }\n",
       "</style>\n",
       "<table border=\"1\" class=\"dataframe\">\n",
       "  <thead>\n",
       "    <tr style=\"text-align: right;\">\n",
       "      <th></th>\n",
       "      <th>start_date</th>\n",
       "      <th>trip_count</th>\n",
       "    </tr>\n",
       "  </thead>\n",
       "  <tbody>\n",
       "    <tr>\n",
       "      <td>0</td>\n",
       "      <td>2011-01-01</td>\n",
       "      <td>959</td>\n",
       "    </tr>\n",
       "    <tr>\n",
       "      <td>1</td>\n",
       "      <td>2011-01-02</td>\n",
       "      <td>781</td>\n",
       "    </tr>\n",
       "    <tr>\n",
       "      <td>2</td>\n",
       "      <td>2011-01-03</td>\n",
       "      <td>1301</td>\n",
       "    </tr>\n",
       "    <tr>\n",
       "      <td>3</td>\n",
       "      <td>2011-01-04</td>\n",
       "      <td>1536</td>\n",
       "    </tr>\n",
       "    <tr>\n",
       "      <td>4</td>\n",
       "      <td>2011-01-05</td>\n",
       "      <td>1571</td>\n",
       "    </tr>\n",
       "  </tbody>\n",
       "</table>\n",
       "</div>"
      ],
      "text/plain": [
       "  start_date  trip_count\n",
       "0 2011-01-01         959\n",
       "1 2011-01-02         781\n",
       "2 2011-01-03        1301\n",
       "3 2011-01-04        1536\n",
       "4 2011-01-05        1571"
      ]
     },
     "execution_count": 5,
     "metadata": {},
     "output_type": "execute_result"
    }
   ],
   "source": [
    "trips = pd.read_csv(r'C:\\Users\\kkoum\\Documents\\1. University\\Business study\\Dataset\\trip_data_2011_2012.csv', parse_dates=['start_date','end_date'])\n",
    "trips = trips.set_index('start_date')\n",
    "trips = trips.resample('D').count()\n",
    "trips = trips[['duration']]\n",
    "trips.columns=['trip_count']\n",
    "trips = trips.reset_index()\n",
    "trips.head()"
   ]
  },
  {
   "cell_type": "code",
   "execution_count": 6,
   "metadata": {},
   "outputs": [
    {
     "data": {
      "text/html": [
       "<div>\n",
       "<style scoped>\n",
       "    .dataframe tbody tr th:only-of-type {\n",
       "        vertical-align: middle;\n",
       "    }\n",
       "\n",
       "    .dataframe tbody tr th {\n",
       "        vertical-align: top;\n",
       "    }\n",
       "\n",
       "    .dataframe thead th {\n",
       "        text-align: right;\n",
       "    }\n",
       "</style>\n",
       "<table border=\"1\" class=\"dataframe\">\n",
       "  <thead>\n",
       "    <tr style=\"text-align: right;\">\n",
       "      <th></th>\n",
       "      <th>start_date</th>\n",
       "      <th>trip_count</th>\n",
       "    </tr>\n",
       "  </thead>\n",
       "  <tbody>\n",
       "    <tr>\n",
       "      <td>0</td>\n",
       "      <td>0</td>\n",
       "      <td>959</td>\n",
       "    </tr>\n",
       "    <tr>\n",
       "      <td>1</td>\n",
       "      <td>1</td>\n",
       "      <td>781</td>\n",
       "    </tr>\n",
       "    <tr>\n",
       "      <td>2</td>\n",
       "      <td>2</td>\n",
       "      <td>1301</td>\n",
       "    </tr>\n",
       "    <tr>\n",
       "      <td>3</td>\n",
       "      <td>3</td>\n",
       "      <td>1536</td>\n",
       "    </tr>\n",
       "    <tr>\n",
       "      <td>4</td>\n",
       "      <td>4</td>\n",
       "      <td>1571</td>\n",
       "    </tr>\n",
       "  </tbody>\n",
       "</table>\n",
       "</div>"
      ],
      "text/plain": [
       "   start_date  trip_count\n",
       "0           0         959\n",
       "1           1         781\n",
       "2           2        1301\n",
       "3           3        1536\n",
       "4           4        1571"
      ]
     },
     "execution_count": 6,
     "metadata": {},
     "output_type": "execute_result"
    }
   ],
   "source": [
    "trips.start_date = trips.index\n",
    "trips.head()"
   ]
  },
  {
   "cell_type": "code",
   "execution_count": 7,
   "metadata": {},
   "outputs": [
    {
     "name": "stdout",
     "output_type": "stream",
     "text": [
      "     start_date\n",
      "703         703\n",
      "475         475\n",
      "164         164\n",
      "261         261\n",
      "548         548\n",
      "..          ...\n",
      "205         205\n",
      "485         485\n",
      "638         638\n",
      "454         454\n",
      "628         628\n",
      "\n",
      "[584 rows x 1 columns]\n",
      "     trip_count\n",
      "703        6562\n",
      "475        7203\n",
      "164        4829\n",
      "261        4467\n",
      "548        6158\n",
      "..          ...\n",
      "205        3790\n",
      "485        5528\n",
      "638        6812\n",
      "454        5411\n",
      "628        7659\n",
      "\n",
      "[584 rows x 1 columns]\n"
     ]
    }
   ],
   "source": [
    "X_train, X_test, y_train, y_test = train_test_split(trips[['start_date']], trips[['trip_count']], test_size=0.20, random_state=997)\n",
    "print(X_train)\n",
    "print(y_train)"
   ]
  },
  {
   "cell_type": "code",
   "execution_count": 8,
   "metadata": {},
   "outputs": [],
   "source": [
    "reg = linear_model.LinearRegression()"
   ]
  },
  {
   "cell_type": "code",
   "execution_count": 9,
   "metadata": {},
   "outputs": [
    {
     "data": {
      "text/plain": [
       "LinearRegression(copy_X=True, fit_intercept=True, n_jobs=None, normalize=False)"
      ]
     },
     "execution_count": 9,
     "metadata": {},
     "output_type": "execute_result"
    }
   ],
   "source": [
    "reg.fit(X_train, y_train)"
   ]
  },
  {
   "cell_type": "code",
   "execution_count": 10,
   "metadata": {},
   "outputs": [],
   "source": [
    "y_pred = reg.predict(X_test)"
   ]
  },
  {
   "cell_type": "code",
   "execution_count": 11,
   "metadata": {},
   "outputs": [
    {
     "data": {
      "text/plain": [
       "2547739.2589303353"
      ]
     },
     "execution_count": 11,
     "metadata": {},
     "output_type": "execute_result"
    }
   ],
   "source": [
    "mean_squared_error(y_test, y_pred)"
   ]
  },
  {
   "cell_type": "code",
   "execution_count": 12,
   "metadata": {},
   "outputs": [
    {
     "data": {
      "text/plain": [
       "1236.044621386473"
      ]
     },
     "execution_count": 12,
     "metadata": {},
     "output_type": "execute_result"
    }
   ],
   "source": [
    "mean_absolute_error(y_test, y_pred)"
   ]
  },
  {
   "cell_type": "code",
   "execution_count": 13,
   "metadata": {},
   "outputs": [
    {
     "data": {
      "text/plain": [
       "0.3731091074750973"
      ]
     },
     "execution_count": 13,
     "metadata": {},
     "output_type": "execute_result"
    }
   ],
   "source": [
    "r2_score(y_test, y_pred)"
   ]
  },
  {
   "cell_type": "code",
   "execution_count": 14,
   "metadata": {},
   "outputs": [
    {
     "data": {
      "image/png": "[encoded data removed]",
      "text/plain": [
       "<Figure size 720x432 with 1 Axes>"
      ]
     },
     "metadata": {
      "needs_background": "light"
     },
     "output_type": "display_data"
    }
   ],
   "source": [
    "plt.figure(figsize = (10, 6))\n",
    "\n",
    "plt.scatter(y_pred, y_test)\n",
    "plt.xlabel('Predictions')\n",
    "plt.ylabel('Test data')\n",
    "\n",
    "plt.show()"
   ]
  },
  {
   "cell_type": "markdown",
   "metadata": {},
   "source": [
    "How many days of data do you have in the transformed data set (before the train test split)? "
   ]
  },
  {
   "cell_type": "code",
   "execution_count": 15,
   "metadata": {},
   "outputs": [
    {
     "data": {
      "text/plain": [
       "(731, 2)"
      ]
     },
     "execution_count": 15,
     "metadata": {},
     "output_type": "execute_result"
    }
   ],
   "source": [
    "trips.shape"
   ]
  },
  {
   "cell_type": "markdown",
   "metadata": {},
   "source": [
    "How many days of data do you have in the test set? "
   ]
  },
  {
   "cell_type": "code",
   "execution_count": 16,
   "metadata": {},
   "outputs": [
    {
     "data": {
      "text/plain": [
       "(147, 1)"
      ]
     },
     "execution_count": 16,
     "metadata": {},
     "output_type": "execute_result"
    }
   ],
   "source": [
    "X_test.shape"
   ]
  },
  {
   "cell_type": "markdown",
   "metadata": {},
   "source": [
    "What do you think of the model so far? You are probably a bit disappointed, both with how the graph looks as well as with the mean absolute error. Missing your daily predictions by over 1200 is not great."
   ]
  },
  {
   "cell_type": "code",
   "execution_count": 17,
   "metadata": {},
   "outputs": [
    {
     "data": {
      "text/plain": [
       "4453.731874145007"
      ]
     },
     "execution_count": 17,
     "metadata": {},
     "output_type": "execute_result"
    }
   ],
   "source": [
    "np.mean(trips.trip_count)"
   ]
  },
  {
   "cell_type": "markdown",
   "metadata": {},
   "source": [
    "Taking the average daily number of trips into consideration, our predictions are off by around 28% every day.\n",
    "\n",
    "Also, the R2 score, which is about 0.373 is far from the optimal 1.0. But what is the interpretation of R2? It tells us how much of the variation of the data is explained by the model. Reviewing the graph from above, there is a lot of variation and our model is only accounting for 37,3% of it.\n",
    "\n",
    "Let’s see if we can refine our model to do a bit better."
   ]
  },
  {
   "cell_type": "markdown",
   "metadata": {},
   "source": [
    "# 4.3. Refining the Model"
   ]
  },
  {
   "cell_type": "markdown",
   "metadata": {},
   "source": [
    "Don’t get discouraged that the first try wasn’t that great. You might have even guessed that that would be the case. Let’s look at the time series of daily rentals."
   ]
  },
  {
   "cell_type": "code",
   "execution_count": 18,
   "metadata": {},
   "outputs": [
    {
     "data": {
      "image/png": "[encoded data removed]",
      "text/plain": [
       "<Figure size 1080x504 with 1 Axes>"
      ]
     },
     "metadata": {
      "needs_background": "light"
     },
     "output_type": "display_data"
    }
   ],
   "source": [
    "plt.figure(figsize = (15, 7))\n",
    "plt.plot(trips.start_date, trips.trip_count)\n",
    "plt.xlabel('Day')\n",
    "plt.ylabel('Number of rides')\n",
    "plt.show()"
   ]
  },
  {
   "cell_type": "markdown",
   "metadata": {},
   "source": [
    "The representation of the date we chose is definitely simple, but you know from the time series visualization, that numbering the days that way would leave out a lot of valuable information. You can see in the graph above that there are seasonal variations in the data as well as variations due to the day of the week. We also know that as we went from year to year, overall rentals kept growing. So, instead of encoding our date as a single number, let’s encode the date by adding features for the year, month, day and even weekday. Hopefully by adding more features that capture the various kinds of variation, our model will get better.\n",
    "\n",
    "This kind of development of the model is very common. Start with a simple idea and then refine it, learning what you can from the previous refinements. Sometimes an idea you think will make an improvement actually turns out to hurt more than it helps, so you have to abandon it. This is part of the joy and the frustration of data science: it is an experimental science. There is not necessarily one “right way” to get the best answer. In this particular example we might have to admit that we can only do so much. The shape of the time series is clearly NOT a linear function, but we will do the best with the tools we have. The truth is that there are other approaches besides linear regression that will ultimately work better for data like this, but we can still learn a lot by trying to see how far we can push linear regression."
   ]
  },
  {
   "cell_type": "markdown",
   "metadata": {},
   "source": [
    "# 4.4. Version 2.0 Task List"
   ]
  },
  {
   "cell_type": "markdown",
   "metadata": {},
   "source": [
    "* Create four new features out of the date: a column for year, month, day, and weekday.\n",
    "\n",
    "* Redo the train-test split using the same random_state as before.\n",
    "\n",
    "* Fit a new model using the new features.\n",
    "\n",
    "* Make a new set of predictions for the test days.\n",
    "\n",
    "* Calculate the mean squared error, mean absolute error, and R2 for this new model against the known values.\n",
    "\n",
    "* Plot the predictions against the known values to see how they look with more features."
   ]
  },
  {
   "cell_type": "code",
   "execution_count": 19,
   "metadata": {},
   "outputs": [
    {
     "data": {
      "text/html": [
       "<div>\n",
       "<style scoped>\n",
       "    .dataframe tbody tr th:only-of-type {\n",
       "        vertical-align: middle;\n",
       "    }\n",
       "\n",
       "    .dataframe tbody tr th {\n",
       "        vertical-align: top;\n",
       "    }\n",
       "\n",
       "    .dataframe thead th {\n",
       "        text-align: right;\n",
       "    }\n",
       "</style>\n",
       "<table border=\"1\" class=\"dataframe\">\n",
       "  <thead>\n",
       "    <tr style=\"text-align: right;\">\n",
       "      <th></th>\n",
       "      <th>start_date</th>\n",
       "      <th>end_date</th>\n",
       "      <th>duration</th>\n",
       "      <th>start_station_id</th>\n",
       "      <th>start_station</th>\n",
       "      <th>end_station_id</th>\n",
       "      <th>end_station</th>\n",
       "      <th>bike_number</th>\n",
       "      <th>member_type</th>\n",
       "    </tr>\n",
       "  </thead>\n",
       "  <tbody>\n",
       "    <tr>\n",
       "      <td>0</td>\n",
       "      <td>2011-01-01 00:01:29</td>\n",
       "      <td>2011-01-01 01:00:37</td>\n",
       "      <td>3548</td>\n",
       "      <td>31620</td>\n",
       "      <td>5th &amp; F St NW</td>\n",
       "      <td>31620</td>\n",
       "      <td>5th &amp; F St NW</td>\n",
       "      <td>W00247</td>\n",
       "      <td>Member</td>\n",
       "    </tr>\n",
       "    <tr>\n",
       "      <td>1</td>\n",
       "      <td>2011-01-01 00:02:46</td>\n",
       "      <td>2011-01-01 00:08:32</td>\n",
       "      <td>346</td>\n",
       "      <td>31105</td>\n",
       "      <td>14th &amp; Harvard St NW</td>\n",
       "      <td>31101</td>\n",
       "      <td>14th &amp; V St NW</td>\n",
       "      <td>W00675</td>\n",
       "      <td>Casual</td>\n",
       "    </tr>\n",
       "    <tr>\n",
       "      <td>2</td>\n",
       "      <td>2011-01-01 00:06:13</td>\n",
       "      <td>2011-01-01 00:15:36</td>\n",
       "      <td>562</td>\n",
       "      <td>31400</td>\n",
       "      <td>Georgia &amp; New Hampshire Ave NW</td>\n",
       "      <td>31104</td>\n",
       "      <td>Adams Mill &amp; Columbia Rd NW</td>\n",
       "      <td>W00357</td>\n",
       "      <td>Member</td>\n",
       "    </tr>\n",
       "    <tr>\n",
       "      <td>3</td>\n",
       "      <td>2011-01-01 00:09:21</td>\n",
       "      <td>2011-01-01 00:16:36</td>\n",
       "      <td>434</td>\n",
       "      <td>31111</td>\n",
       "      <td>10th &amp; U St NW</td>\n",
       "      <td>31503</td>\n",
       "      <td>Florida Ave &amp; R St NW</td>\n",
       "      <td>W00970</td>\n",
       "      <td>Member</td>\n",
       "    </tr>\n",
       "    <tr>\n",
       "      <td>4</td>\n",
       "      <td>2011-01-01 00:28:26</td>\n",
       "      <td>2011-01-01 00:32:19</td>\n",
       "      <td>233</td>\n",
       "      <td>31104</td>\n",
       "      <td>Adams Mill &amp; Columbia Rd NW</td>\n",
       "      <td>31106</td>\n",
       "      <td>Calvert &amp; Biltmore St NW</td>\n",
       "      <td>W00346</td>\n",
       "      <td>Casual</td>\n",
       "    </tr>\n",
       "  </tbody>\n",
       "</table>\n",
       "</div>"
      ],
      "text/plain": [
       "           start_date            end_date  duration  start_station_id  \\\n",
       "0 2011-01-01 00:01:29 2011-01-01 01:00:37      3548             31620   \n",
       "1 2011-01-01 00:02:46 2011-01-01 00:08:32       346             31105   \n",
       "2 2011-01-01 00:06:13 2011-01-01 00:15:36       562             31400   \n",
       "3 2011-01-01 00:09:21 2011-01-01 00:16:36       434             31111   \n",
       "4 2011-01-01 00:28:26 2011-01-01 00:32:19       233             31104   \n",
       "\n",
       "                    start_station  end_station_id  \\\n",
       "0                   5th & F St NW           31620   \n",
       "1            14th & Harvard St NW           31101   \n",
       "2  Georgia & New Hampshire Ave NW           31104   \n",
       "3                  10th & U St NW           31503   \n",
       "4     Adams Mill & Columbia Rd NW           31106   \n",
       "\n",
       "                   end_station bike_number member_type  \n",
       "0                5th & F St NW      W00247      Member  \n",
       "1               14th & V St NW      W00675      Casual  \n",
       "2  Adams Mill & Columbia Rd NW      W00357      Member  \n",
       "3        Florida Ave & R St NW      W00970      Member  \n",
       "4     Calvert & Biltmore St NW      W00346      Casual  "
      ]
     },
     "execution_count": 19,
     "metadata": {},
     "output_type": "execute_result"
    }
   ],
   "source": [
    "trips = pd.read_csv(r'C:\\Users\\kkoum\\Documents\\1. University\\Business study\\Dataset\\trip_data_2011_2012.csv', parse_dates=['start_date','end_date'])\n",
    "trips.head()"
   ]
  },
  {
   "cell_type": "code",
   "execution_count": 20,
   "metadata": {},
   "outputs": [
    {
     "data": {
      "text/html": [
       "<div>\n",
       "<style scoped>\n",
       "    .dataframe tbody tr th:only-of-type {\n",
       "        vertical-align: middle;\n",
       "    }\n",
       "\n",
       "    .dataframe tbody tr th {\n",
       "        vertical-align: top;\n",
       "    }\n",
       "\n",
       "    .dataframe thead th {\n",
       "        text-align: right;\n",
       "    }\n",
       "</style>\n",
       "<table border=\"1\" class=\"dataframe\">\n",
       "  <thead>\n",
       "    <tr style=\"text-align: right;\">\n",
       "      <th></th>\n",
       "      <th>start_date</th>\n",
       "      <th>end_date</th>\n",
       "      <th>duration</th>\n",
       "      <th>start_station_id</th>\n",
       "      <th>start_station</th>\n",
       "      <th>end_station_id</th>\n",
       "      <th>end_station</th>\n",
       "      <th>bike_number</th>\n",
       "      <th>member_type</th>\n",
       "      <th>year</th>\n",
       "      <th>month</th>\n",
       "      <th>day</th>\n",
       "      <th>weekday</th>\n",
       "    </tr>\n",
       "  </thead>\n",
       "  <tbody>\n",
       "    <tr>\n",
       "      <td>0</td>\n",
       "      <td>2011-01-01 00:01:29</td>\n",
       "      <td>2011-01-01 01:00:37</td>\n",
       "      <td>3548</td>\n",
       "      <td>31620</td>\n",
       "      <td>5th &amp; F St NW</td>\n",
       "      <td>31620</td>\n",
       "      <td>5th &amp; F St NW</td>\n",
       "      <td>W00247</td>\n",
       "      <td>Member</td>\n",
       "      <td>2011</td>\n",
       "      <td>01</td>\n",
       "      <td>01</td>\n",
       "      <td>6</td>\n",
       "    </tr>\n",
       "    <tr>\n",
       "      <td>1</td>\n",
       "      <td>2011-01-01 00:02:46</td>\n",
       "      <td>2011-01-01 00:08:32</td>\n",
       "      <td>346</td>\n",
       "      <td>31105</td>\n",
       "      <td>14th &amp; Harvard St NW</td>\n",
       "      <td>31101</td>\n",
       "      <td>14th &amp; V St NW</td>\n",
       "      <td>W00675</td>\n",
       "      <td>Casual</td>\n",
       "      <td>2011</td>\n",
       "      <td>01</td>\n",
       "      <td>01</td>\n",
       "      <td>6</td>\n",
       "    </tr>\n",
       "    <tr>\n",
       "      <td>2</td>\n",
       "      <td>2011-01-01 00:06:13</td>\n",
       "      <td>2011-01-01 00:15:36</td>\n",
       "      <td>562</td>\n",
       "      <td>31400</td>\n",
       "      <td>Georgia &amp; New Hampshire Ave NW</td>\n",
       "      <td>31104</td>\n",
       "      <td>Adams Mill &amp; Columbia Rd NW</td>\n",
       "      <td>W00357</td>\n",
       "      <td>Member</td>\n",
       "      <td>2011</td>\n",
       "      <td>01</td>\n",
       "      <td>01</td>\n",
       "      <td>6</td>\n",
       "    </tr>\n",
       "    <tr>\n",
       "      <td>3</td>\n",
       "      <td>2011-01-01 00:09:21</td>\n",
       "      <td>2011-01-01 00:16:36</td>\n",
       "      <td>434</td>\n",
       "      <td>31111</td>\n",
       "      <td>10th &amp; U St NW</td>\n",
       "      <td>31503</td>\n",
       "      <td>Florida Ave &amp; R St NW</td>\n",
       "      <td>W00970</td>\n",
       "      <td>Member</td>\n",
       "      <td>2011</td>\n",
       "      <td>01</td>\n",
       "      <td>01</td>\n",
       "      <td>6</td>\n",
       "    </tr>\n",
       "    <tr>\n",
       "      <td>4</td>\n",
       "      <td>2011-01-01 00:28:26</td>\n",
       "      <td>2011-01-01 00:32:19</td>\n",
       "      <td>233</td>\n",
       "      <td>31104</td>\n",
       "      <td>Adams Mill &amp; Columbia Rd NW</td>\n",
       "      <td>31106</td>\n",
       "      <td>Calvert &amp; Biltmore St NW</td>\n",
       "      <td>W00346</td>\n",
       "      <td>Casual</td>\n",
       "      <td>2011</td>\n",
       "      <td>01</td>\n",
       "      <td>01</td>\n",
       "      <td>6</td>\n",
       "    </tr>\n",
       "  </tbody>\n",
       "</table>\n",
       "</div>"
      ],
      "text/plain": [
       "           start_date            end_date  duration  start_station_id  \\\n",
       "0 2011-01-01 00:01:29 2011-01-01 01:00:37      3548             31620   \n",
       "1 2011-01-01 00:02:46 2011-01-01 00:08:32       346             31105   \n",
       "2 2011-01-01 00:06:13 2011-01-01 00:15:36       562             31400   \n",
       "3 2011-01-01 00:09:21 2011-01-01 00:16:36       434             31111   \n",
       "4 2011-01-01 00:28:26 2011-01-01 00:32:19       233             31104   \n",
       "\n",
       "                    start_station  end_station_id  \\\n",
       "0                   5th & F St NW           31620   \n",
       "1            14th & Harvard St NW           31101   \n",
       "2  Georgia & New Hampshire Ave NW           31104   \n",
       "3                  10th & U St NW           31503   \n",
       "4     Adams Mill & Columbia Rd NW           31106   \n",
       "\n",
       "                   end_station bike_number member_type  year month day weekday  \n",
       "0                5th & F St NW      W00247      Member  2011    01  01       6  \n",
       "1               14th & V St NW      W00675      Casual  2011    01  01       6  \n",
       "2  Adams Mill & Columbia Rd NW      W00357      Member  2011    01  01       6  \n",
       "3        Florida Ave & R St NW      W00970      Member  2011    01  01       6  \n",
       "4     Calvert & Biltmore St NW      W00346      Casual  2011    01  01       6  "
      ]
     },
     "execution_count": 20,
     "metadata": {},
     "output_type": "execute_result"
    }
   ],
   "source": [
    "trips['year'] = trips['start_date'].dt.strftime('%Y')\n",
    "trips['month'] = trips['start_date'].dt.strftime('%m')\n",
    "trips['day'] = trips['start_date'].dt.strftime('%d')\n",
    "trips['weekday'] = trips['start_date'].dt.strftime('%w')\n",
    "trips['duration'] = trips['duration']\n",
    "trips.head()"
   ]
  },
  {
   "cell_type": "code",
   "execution_count": 21,
   "metadata": {},
   "outputs": [
    {
     "data": {
      "text/plain": [
       "year  month  day  weekday\n",
       "2011  01     01   6           959\n",
       "             02   0           781\n",
       "             03   1          1301\n",
       "             04   2          1536\n",
       "             05   3          1571\n",
       "Name: duration, dtype: int64"
      ]
     },
     "execution_count": 21,
     "metadata": {},
     "output_type": "execute_result"
    }
   ],
   "source": [
    "trips = trips.groupby(['year', 'month', 'day', 'weekday'])['duration'].count()\n",
    "trips.head()"
   ]
  },
  {
   "cell_type": "code",
   "execution_count": 22,
   "metadata": {},
   "outputs": [
    {
     "data": {
      "text/html": [
       "<div>\n",
       "<style scoped>\n",
       "    .dataframe tbody tr th:only-of-type {\n",
       "        vertical-align: middle;\n",
       "    }\n",
       "\n",
       "    .dataframe tbody tr th {\n",
       "        vertical-align: top;\n",
       "    }\n",
       "\n",
       "    .dataframe thead th {\n",
       "        text-align: right;\n",
       "    }\n",
       "</style>\n",
       "<table border=\"1\" class=\"dataframe\">\n",
       "  <thead>\n",
       "    <tr style=\"text-align: right;\">\n",
       "      <th></th>\n",
       "      <th>year</th>\n",
       "      <th>month</th>\n",
       "      <th>day</th>\n",
       "      <th>weekday</th>\n",
       "      <th>trip_count</th>\n",
       "      <th>day_number</th>\n",
       "    </tr>\n",
       "  </thead>\n",
       "  <tbody>\n",
       "    <tr>\n",
       "      <td>0</td>\n",
       "      <td>2011</td>\n",
       "      <td>01</td>\n",
       "      <td>01</td>\n",
       "      <td>6</td>\n",
       "      <td>959</td>\n",
       "      <td>0</td>\n",
       "    </tr>\n",
       "    <tr>\n",
       "      <td>1</td>\n",
       "      <td>2011</td>\n",
       "      <td>01</td>\n",
       "      <td>02</td>\n",
       "      <td>0</td>\n",
       "      <td>781</td>\n",
       "      <td>1</td>\n",
       "    </tr>\n",
       "    <tr>\n",
       "      <td>2</td>\n",
       "      <td>2011</td>\n",
       "      <td>01</td>\n",
       "      <td>03</td>\n",
       "      <td>1</td>\n",
       "      <td>1301</td>\n",
       "      <td>2</td>\n",
       "    </tr>\n",
       "    <tr>\n",
       "      <td>3</td>\n",
       "      <td>2011</td>\n",
       "      <td>01</td>\n",
       "      <td>04</td>\n",
       "      <td>2</td>\n",
       "      <td>1536</td>\n",
       "      <td>3</td>\n",
       "    </tr>\n",
       "    <tr>\n",
       "      <td>4</td>\n",
       "      <td>2011</td>\n",
       "      <td>01</td>\n",
       "      <td>05</td>\n",
       "      <td>3</td>\n",
       "      <td>1571</td>\n",
       "      <td>4</td>\n",
       "    </tr>\n",
       "  </tbody>\n",
       "</table>\n",
       "</div>"
      ],
      "text/plain": [
       "   year month day weekday  trip_count  day_number\n",
       "0  2011    01  01       6         959           0\n",
       "1  2011    01  02       0         781           1\n",
       "2  2011    01  03       1        1301           2\n",
       "3  2011    01  04       2        1536           3\n",
       "4  2011    01  05       3        1571           4"
      ]
     },
     "execution_count": 22,
     "metadata": {},
     "output_type": "execute_result"
    }
   ],
   "source": [
    "trips = trips.reset_index()\n",
    "trips = trips.rename(columns = {'duration' : 'trip_count'})\n",
    "trips['day_number'] = trips.index\n",
    "trips.head()"
   ]
  },
  {
   "cell_type": "code",
   "execution_count": 23,
   "metadata": {},
   "outputs": [
    {
     "name": "stdout",
     "output_type": "stream",
     "text": [
      "     year month day weekday  day_number\n",
      "703  2012    12  04       2         703\n",
      "475  2012    04  20       5         475\n",
      "164  2011    06  14       2         164\n",
      "261  2011    09  19       1         261\n",
      "548  2012    07  02       1         548\n",
      "..    ...   ...  ..     ...         ...\n",
      "205  2011    07  25       1         205\n",
      "485  2012    04  30       1         485\n",
      "638  2012    09  30       0         638\n",
      "454  2012    03  30       5         454\n",
      "628  2012    09  20       4         628\n",
      "\n",
      "[584 rows x 5 columns]\n",
      "703    6562\n",
      "475    7203\n",
      "164    4829\n",
      "261    4467\n",
      "548    6158\n",
      "       ... \n",
      "205    3790\n",
      "485    5528\n",
      "638    6812\n",
      "454    5411\n",
      "628    7659\n",
      "Name: trip_count, Length: 584, dtype: int64\n"
     ]
    }
   ],
   "source": [
    "X_train, X_test, y_train, y_test = train_test_split(trips.drop('trip_count', axis = 1), trips['trip_count'], test_size=0.20, random_state=997)\n",
    "print(X_train)\n",
    "print(y_train)"
   ]
  },
  {
   "cell_type": "code",
   "execution_count": 24,
   "metadata": {},
   "outputs": [],
   "source": [
    "reg = linear_model.LinearRegression()"
   ]
  },
  {
   "cell_type": "code",
   "execution_count": 25,
   "metadata": {},
   "outputs": [
    {
     "data": {
      "text/plain": [
       "LinearRegression(copy_X=True, fit_intercept=True, n_jobs=None, normalize=False)"
      ]
     },
     "execution_count": 25,
     "metadata": {},
     "output_type": "execute_result"
    }
   ],
   "source": [
    "reg.fit(X_train, y_train)"
   ]
  },
  {
   "cell_type": "code",
   "execution_count": 26,
   "metadata": {},
   "outputs": [],
   "source": [
    "y_pred = reg.predict(X_test)"
   ]
  },
  {
   "cell_type": "code",
   "execution_count": 27,
   "metadata": {},
   "outputs": [
    {
     "data": {
      "text/plain": [
       "2160447.947832117"
      ]
     },
     "execution_count": 27,
     "metadata": {},
     "output_type": "execute_result"
    }
   ],
   "source": [
    "mean_squared_error(y_test, y_pred)"
   ]
  },
  {
   "cell_type": "code",
   "execution_count": 28,
   "metadata": {},
   "outputs": [
    {
     "data": {
      "text/plain": [
       "1047.0783328491004"
      ]
     },
     "execution_count": 28,
     "metadata": {},
     "output_type": "execute_result"
    }
   ],
   "source": [
    "mean_absolute_error(y_test, y_pred)"
   ]
  },
  {
   "cell_type": "code",
   "execution_count": 29,
   "metadata": {},
   "outputs": [
    {
     "data": {
      "text/plain": [
       "0.46840512131579015"
      ]
     },
     "execution_count": 29,
     "metadata": {},
     "output_type": "execute_result"
    }
   ],
   "source": [
    "r2_score(y_test, y_pred)"
   ]
  },
  {
   "cell_type": "code",
   "execution_count": 30,
   "metadata": {},
   "outputs": [
    {
     "data": {
      "image/png": "[encoded data removed]",
      "text/plain": [
       "<Figure size 720x432 with 1 Axes>"
      ]
     },
     "metadata": {
      "needs_background": "light"
     },
     "output_type": "display_data"
    }
   ],
   "source": [
    "plt.figure(figsize = (10, 6))\n",
    "\n",
    "plt.scatter(y_pred, y_test)\n",
    "plt.xlabel('Predictions')\n",
    "plt.ylabel('Test data')\n",
    "\n",
    "plt.show()"
   ]
  },
  {
   "cell_type": "markdown",
   "metadata": {},
   "source": [
    "Let’s make one more refinement to our version 2.0 model. The problem with using month number in the hopes that we will capture seasonality is that numbering the months from 1 to 12 implies something linear about the months. So, although there is a linear relationship in that June comes after May on the calendar, for a problem where we care about seasonality, that doesn’t work. The winter months include 11, 12, 1, and 2. (Probably even 3 if you live in the Midwest.)\n",
    "\n",
    "Let’s do a bit more feature engineering to see if we can make an improvement. Your first thought is probably to add a new column called season, however numbering the seasons winter=0, spring=1, summer=2, fall=3 is not really a solution, because, as with months, there is not an ordered relationship between the seasons. Spring is not more than winter or better than winter, so assigning 0 to winter and 1 to spring is actually misleading. There are many examples of this, such as encoding gender, location information, or marital status. The general rule is that if the data is not ordinal, don’t encode it as ordinal! But how do we encode nominal data to make use of it in our work?\n",
    "\n",
    "The solution to this in data science is to encode this information using a technique called one-hot encoding. To use one-hot encoding, we’ll add four new columns to our model, one for each season. If the date for a particular row of the model is in one of the winter months, then the value for winter will be 1 and the value for all other season columns will be 0. Similarly, if the date for a row corresponds to a date in the summer months, then the value for the summer column will be 1 and the value for all the other season columns will be 0. This allows us to capture the seasonal information and use it in our model."
   ]
  },
  {
   "cell_type": "markdown",
   "metadata": {},
   "source": [
    "# 4.5. Version 2.5 Task List"
   ]
  },
  {
   "cell_type": "markdown",
   "metadata": {},
   "source": [
    "* Update your DataFrame to do one-hot encoding for each of the seasons.\n",
    "\n",
    "* Retrain and retest your model."
   ]
  },
  {
   "cell_type": "code",
   "execution_count": 31,
   "metadata": {},
   "outputs": [
    {
     "name": "stderr",
     "output_type": "stream",
     "text": [
      "C:\\Users\\kkoum\\Anaconda3\\lib\\site-packages\\ipykernel_launcher.py:8: SettingWithCopyWarning: \n",
      "A value is trying to be set on a copy of a slice from a DataFrame\n",
      "\n",
      "See the caveats in the documentation: http://pandas.pydata.org/pandas-docs/stable/user_guide/indexing.html#returning-a-view-versus-a-copy\n",
      "  \n",
      "C:\\Users\\kkoum\\Anaconda3\\lib\\site-packages\\ipykernel_launcher.py:11: SettingWithCopyWarning: \n",
      "A value is trying to be set on a copy of a slice from a DataFrame\n",
      "\n",
      "See the caveats in the documentation: http://pandas.pydata.org/pandas-docs/stable/user_guide/indexing.html#returning-a-view-versus-a-copy\n",
      "  # This is added back by InteractiveShellApp.init_path()\n",
      "C:\\Users\\kkoum\\Anaconda3\\lib\\site-packages\\ipykernel_launcher.py:14: SettingWithCopyWarning: \n",
      "A value is trying to be set on a copy of a slice from a DataFrame\n",
      "\n",
      "See the caveats in the documentation: http://pandas.pydata.org/pandas-docs/stable/user_guide/indexing.html#returning-a-view-versus-a-copy\n",
      "  \n",
      "C:\\Users\\kkoum\\Anaconda3\\lib\\site-packages\\ipykernel_launcher.py:17: SettingWithCopyWarning: \n",
      "A value is trying to be set on a copy of a slice from a DataFrame\n",
      "\n",
      "See the caveats in the documentation: http://pandas.pydata.org/pandas-docs/stable/user_guide/indexing.html#returning-a-view-versus-a-copy\n"
     ]
    },
    {
     "data": {
      "text/html": [
       "<div>\n",
       "<style scoped>\n",
       "    .dataframe tbody tr th:only-of-type {\n",
       "        vertical-align: middle;\n",
       "    }\n",
       "\n",
       "    .dataframe tbody tr th {\n",
       "        vertical-align: top;\n",
       "    }\n",
       "\n",
       "    .dataframe thead th {\n",
       "        text-align: right;\n",
       "    }\n",
       "</style>\n",
       "<table border=\"1\" class=\"dataframe\">\n",
       "  <thead>\n",
       "    <tr style=\"text-align: right;\">\n",
       "      <th></th>\n",
       "      <th>year</th>\n",
       "      <th>month</th>\n",
       "      <th>day</th>\n",
       "      <th>weekday</th>\n",
       "      <th>trip_count</th>\n",
       "      <th>day_number</th>\n",
       "      <th>winter</th>\n",
       "      <th>spring</th>\n",
       "      <th>summer</th>\n",
       "      <th>autumn</th>\n",
       "    </tr>\n",
       "  </thead>\n",
       "  <tbody>\n",
       "    <tr>\n",
       "      <td>0</td>\n",
       "      <td>2011</td>\n",
       "      <td>01</td>\n",
       "      <td>01</td>\n",
       "      <td>6</td>\n",
       "      <td>959</td>\n",
       "      <td>0</td>\n",
       "      <td>1</td>\n",
       "      <td>0</td>\n",
       "      <td>0</td>\n",
       "      <td>0</td>\n",
       "    </tr>\n",
       "    <tr>\n",
       "      <td>1</td>\n",
       "      <td>2011</td>\n",
       "      <td>01</td>\n",
       "      <td>02</td>\n",
       "      <td>0</td>\n",
       "      <td>781</td>\n",
       "      <td>1</td>\n",
       "      <td>1</td>\n",
       "      <td>0</td>\n",
       "      <td>0</td>\n",
       "      <td>0</td>\n",
       "    </tr>\n",
       "    <tr>\n",
       "      <td>2</td>\n",
       "      <td>2011</td>\n",
       "      <td>01</td>\n",
       "      <td>03</td>\n",
       "      <td>1</td>\n",
       "      <td>1301</td>\n",
       "      <td>2</td>\n",
       "      <td>1</td>\n",
       "      <td>0</td>\n",
       "      <td>0</td>\n",
       "      <td>0</td>\n",
       "    </tr>\n",
       "    <tr>\n",
       "      <td>3</td>\n",
       "      <td>2011</td>\n",
       "      <td>01</td>\n",
       "      <td>04</td>\n",
       "      <td>2</td>\n",
       "      <td>1536</td>\n",
       "      <td>3</td>\n",
       "      <td>1</td>\n",
       "      <td>0</td>\n",
       "      <td>0</td>\n",
       "      <td>0</td>\n",
       "    </tr>\n",
       "    <tr>\n",
       "      <td>4</td>\n",
       "      <td>2011</td>\n",
       "      <td>01</td>\n",
       "      <td>05</td>\n",
       "      <td>3</td>\n",
       "      <td>1571</td>\n",
       "      <td>4</td>\n",
       "      <td>1</td>\n",
       "      <td>0</td>\n",
       "      <td>0</td>\n",
       "      <td>0</td>\n",
       "    </tr>\n",
       "  </tbody>\n",
       "</table>\n",
       "</div>"
      ],
      "text/plain": [
       "   year month day weekday  trip_count  day_number  winter  spring  summer  \\\n",
       "0  2011    01  01       6         959           0       1       0       0   \n",
       "1  2011    01  02       0         781           1       1       0       0   \n",
       "2  2011    01  03       1        1301           2       1       0       0   \n",
       "3  2011    01  04       2        1536           3       1       0       0   \n",
       "4  2011    01  05       3        1571           4       1       0       0   \n",
       "\n",
       "   autumn  \n",
       "0       0  \n",
       "1       0  \n",
       "2       0  \n",
       "3       0  \n",
       "4       0  "
      ]
     },
     "execution_count": 31,
     "metadata": {},
     "output_type": "execute_result"
    }
   ],
   "source": [
    "trips['winter'] = 0\n",
    "trips['spring'] = 0\n",
    "trips['summer'] = 0\n",
    "trips['autumn'] = 0\n",
    "\n",
    "for i in trips.index:\n",
    "    if trips['month'][i] == '12' or trips['month'][i] == '01' or trips['month'][i] == '02':\n",
    "        trips['winter'][i] = 1\n",
    "        \n",
    "    if trips['month'][i] == '03' or trips['month'][i] == '04' or trips['month'][i] == '05':\n",
    "        trips['spring'][i] = 1\n",
    "    \n",
    "    if trips['month'][i] == '06' or trips['month'][i] == '07' or trips['month'][i] == '08':\n",
    "        trips['summer'][i] = 1\n",
    "    \n",
    "    if trips['month'][i] == '09' or trips['month'][i] == '10' or trips['month'][i] == '11':\n",
    "        trips['autumn'][i] = 1\n",
    "trips.head()"
   ]
  },
  {
   "cell_type": "code",
   "execution_count": 32,
   "metadata": {},
   "outputs": [
    {
     "name": "stdout",
     "output_type": "stream",
     "text": [
      "     year month day weekday  day_number  winter  spring  summer  autumn\n",
      "703  2012    12  04       2         703       1       0       0       0\n",
      "475  2012    04  20       5         475       0       1       0       0\n",
      "164  2011    06  14       2         164       0       0       1       0\n",
      "261  2011    09  19       1         261       0       0       0       1\n",
      "548  2012    07  02       1         548       0       0       1       0\n",
      "..    ...   ...  ..     ...         ...     ...     ...     ...     ...\n",
      "205  2011    07  25       1         205       0       0       1       0\n",
      "485  2012    04  30       1         485       0       1       0       0\n",
      "638  2012    09  30       0         638       0       0       0       1\n",
      "454  2012    03  30       5         454       0       1       0       0\n",
      "628  2012    09  20       4         628       0       0       0       1\n",
      "\n",
      "[584 rows x 9 columns]\n",
      "703    6562\n",
      "475    7203\n",
      "164    4829\n",
      "261    4467\n",
      "548    6158\n",
      "       ... \n",
      "205    3790\n",
      "485    5528\n",
      "638    6812\n",
      "454    5411\n",
      "628    7659\n",
      "Name: trip_count, Length: 584, dtype: int64\n"
     ]
    }
   ],
   "source": [
    "X_train, X_test, y_train, y_test = train_test_split(trips.drop('trip_count', axis = 1), trips['trip_count'], test_size=0.20, random_state=997)\n",
    "print(X_train)\n",
    "print(y_train)"
   ]
  },
  {
   "cell_type": "code",
   "execution_count": 33,
   "metadata": {},
   "outputs": [],
   "source": [
    "reg = linear_model.LinearRegression()"
   ]
  },
  {
   "cell_type": "code",
   "execution_count": 34,
   "metadata": {},
   "outputs": [
    {
     "data": {
      "text/plain": [
       "LinearRegression(copy_X=True, fit_intercept=True, n_jobs=None, normalize=False)"
      ]
     },
     "execution_count": 34,
     "metadata": {},
     "output_type": "execute_result"
    }
   ],
   "source": [
    "reg.fit(X_train, y_train)"
   ]
  },
  {
   "cell_type": "code",
   "execution_count": 35,
   "metadata": {},
   "outputs": [],
   "source": [
    "y_pred = reg.predict(X_test)"
   ]
  },
  {
   "cell_type": "code",
   "execution_count": 36,
   "metadata": {},
   "outputs": [
    {
     "data": {
      "text/plain": [
       "1738674.5084684596"
      ]
     },
     "execution_count": 36,
     "metadata": {},
     "output_type": "execute_result"
    }
   ],
   "source": [
    "mean_squared_error(y_test, y_pred)"
   ]
  },
  {
   "cell_type": "code",
   "execution_count": 37,
   "metadata": {},
   "outputs": [
    {
     "data": {
      "text/plain": [
       "904.800989434934"
      ]
     },
     "execution_count": 37,
     "metadata": {},
     "output_type": "execute_result"
    }
   ],
   "source": [
    "mean_absolute_error(y_test, y_pred)"
   ]
  },
  {
   "cell_type": "code",
   "execution_count": 38,
   "metadata": {},
   "outputs": [
    {
     "data": {
      "text/plain": [
       "0.5721857287383061"
      ]
     },
     "execution_count": 38,
     "metadata": {},
     "output_type": "execute_result"
    }
   ],
   "source": [
    "r2_score(y_test, y_pred)"
   ]
  },
  {
   "cell_type": "code",
   "execution_count": 39,
   "metadata": {
    "scrolled": true
   },
   "outputs": [
    {
     "data": {
      "image/png": "[encoded data removed]",
      "text/plain": [
       "<Figure size 720x432 with 1 Axes>"
      ]
     },
     "metadata": {
      "needs_background": "light"
     },
     "output_type": "display_data"
    }
   ],
   "source": [
    "plt.figure(figsize = (10, 6))\n",
    "\n",
    "plt.scatter(y_pred, y_test)\n",
    "plt.xlabel('Predictions')\n",
    "plt.ylabel('Test data')\n",
    "\n",
    "plt.show()"
   ]
  },
  {
   "cell_type": "markdown",
   "metadata": {},
   "source": [
    "Cool! That gave us some real improvement."
   ]
  },
  {
   "cell_type": "markdown",
   "metadata": {},
   "source": [
    "# 4.6. Version 3.0"
   ]
  },
  {
   "cell_type": "markdown",
   "metadata": {},
   "source": [
    "Now that you have been through the cycle a couple of times, you are probably saying to yourself: “Hey, there are other factors to bike rental besides just the day of the week or the season!” And you are correct, the weather on a particular day may be more important than what day of the week it is! Who wants to rent a bike and ride through Washington DC in the rain or snow?\n",
    "\n",
    "So, let’s add some weather information. This could be a good chance to practice your WebAPI skills again, or even do some screen scraping from a source that allows it. But we also have some weather data for you. The data can be found in the weather table and its columns look like this:\n",
    "\n",
    "* weather_situation: Weather situation, integer column with the following meaning\n",
    "\n",
    "    1. Clear, Few clouds, Partly cloudy, Partly cloudy\n",
    "\n",
    "    2. Mist + Cloudy, Mist + Broken clouds, Mist + Few clouds, Mist\n",
    "\n",
    "    3. Light Snow, Light Rain + Thunderstorm + Scattered clouds, Light Rain + Scattered clouds\n",
    "\n",
    "    4. Heavy Rain + Ice Pallets + Thunderstorm + Mist, Snow + Fog\n",
    "\n",
    "* temperature: Temperature in degrees C\n",
    "\n",
    "* temperature_feel: The feeling temperature C\n",
    "\n",
    "* humidity: Humidity percent from 0 to 100\n",
    "\n",
    "* windspeed: Wind speed in mph\n",
    "\n",
    "Now you may have a look at a few rows and incorporate this weather data into your model."
   ]
  },
  {
   "cell_type": "code",
   "execution_count": 40,
   "metadata": {},
   "outputs": [
    {
     "data": {
      "text/html": [
       "<div>\n",
       "<style scoped>\n",
       "    .dataframe tbody tr th:only-of-type {\n",
       "        vertical-align: middle;\n",
       "    }\n",
       "\n",
       "    .dataframe tbody tr th {\n",
       "        vertical-align: top;\n",
       "    }\n",
       "\n",
       "    .dataframe thead th {\n",
       "        text-align: right;\n",
       "    }\n",
       "</style>\n",
       "<table border=\"1\" class=\"dataframe\">\n",
       "  <thead>\n",
       "    <tr style=\"text-align: right;\">\n",
       "      <th></th>\n",
       "      <th>date</th>\n",
       "      <th>holiday</th>\n",
       "      <th>weather_situation</th>\n",
       "      <th>temperature</th>\n",
       "      <th>temperature_feel</th>\n",
       "      <th>humidity</th>\n",
       "      <th>windspeed</th>\n",
       "    </tr>\n",
       "  </thead>\n",
       "  <tbody>\n",
       "    <tr>\n",
       "      <td>0</td>\n",
       "      <td>01/01/11</td>\n",
       "      <td>0</td>\n",
       "      <td>2</td>\n",
       "      <td>8</td>\n",
       "      <td>8</td>\n",
       "      <td>81</td>\n",
       "      <td>11</td>\n",
       "    </tr>\n",
       "    <tr>\n",
       "      <td>1</td>\n",
       "      <td>02/01/11</td>\n",
       "      <td>0</td>\n",
       "      <td>2</td>\n",
       "      <td>9</td>\n",
       "      <td>7</td>\n",
       "      <td>70</td>\n",
       "      <td>17</td>\n",
       "    </tr>\n",
       "    <tr>\n",
       "      <td>2</td>\n",
       "      <td>03/01/11</td>\n",
       "      <td>0</td>\n",
       "      <td>1</td>\n",
       "      <td>1</td>\n",
       "      <td>-3</td>\n",
       "      <td>44</td>\n",
       "      <td>17</td>\n",
       "    </tr>\n",
       "    <tr>\n",
       "      <td>3</td>\n",
       "      <td>04/01/11</td>\n",
       "      <td>0</td>\n",
       "      <td>1</td>\n",
       "      <td>1</td>\n",
       "      <td>-2</td>\n",
       "      <td>59</td>\n",
       "      <td>11</td>\n",
       "    </tr>\n",
       "    <tr>\n",
       "      <td>4</td>\n",
       "      <td>05/01/11</td>\n",
       "      <td>0</td>\n",
       "      <td>1</td>\n",
       "      <td>3</td>\n",
       "      <td>-1</td>\n",
       "      <td>44</td>\n",
       "      <td>13</td>\n",
       "    </tr>\n",
       "  </tbody>\n",
       "</table>\n",
       "</div>"
      ],
      "text/plain": [
       "       date  holiday  weather_situation  temperature  temperature_feel  \\\n",
       "0  01/01/11        0                  2            8                 8   \n",
       "1  02/01/11        0                  2            9                 7   \n",
       "2  03/01/11        0                  1            1                -3   \n",
       "3  04/01/11        0                  1            1                -2   \n",
       "4  05/01/11        0                  1            3                -1   \n",
       "\n",
       "   humidity  windspeed  \n",
       "0        81         11  \n",
       "1        70         17  \n",
       "2        44         17  \n",
       "3        59         11  \n",
       "4        44         13  "
      ]
     },
     "execution_count": 40,
     "metadata": {},
     "output_type": "execute_result"
    }
   ],
   "source": [
    "weather = pd.read_csv(r'C:\\Users\\kkoum\\Documents\\1. University\\Business study\\Dataset\\weather_holidays_2011_2012.csv')\n",
    "weather.head()"
   ]
  },
  {
   "cell_type": "code",
   "execution_count": 41,
   "metadata": {},
   "outputs": [
    {
     "data": {
      "text/html": [
       "<div>\n",
       "<style scoped>\n",
       "    .dataframe tbody tr th:only-of-type {\n",
       "        vertical-align: middle;\n",
       "    }\n",
       "\n",
       "    .dataframe tbody tr th {\n",
       "        vertical-align: top;\n",
       "    }\n",
       "\n",
       "    .dataframe thead th {\n",
       "        text-align: right;\n",
       "    }\n",
       "</style>\n",
       "<table border=\"1\" class=\"dataframe\">\n",
       "  <thead>\n",
       "    <tr style=\"text-align: right;\">\n",
       "      <th></th>\n",
       "      <th>year</th>\n",
       "      <th>month</th>\n",
       "      <th>day</th>\n",
       "      <th>weekday</th>\n",
       "      <th>trip_count</th>\n",
       "      <th>day_number</th>\n",
       "      <th>winter</th>\n",
       "      <th>spring</th>\n",
       "      <th>summer</th>\n",
       "      <th>autumn</th>\n",
       "      <th>weather_situation</th>\n",
       "      <th>temperature</th>\n",
       "      <th>temperature_feel</th>\n",
       "      <th>humidity</th>\n",
       "      <th>windspeed</th>\n",
       "    </tr>\n",
       "  </thead>\n",
       "  <tbody>\n",
       "    <tr>\n",
       "      <td>0</td>\n",
       "      <td>2011</td>\n",
       "      <td>01</td>\n",
       "      <td>01</td>\n",
       "      <td>6</td>\n",
       "      <td>959</td>\n",
       "      <td>0</td>\n",
       "      <td>1</td>\n",
       "      <td>0</td>\n",
       "      <td>0</td>\n",
       "      <td>0</td>\n",
       "      <td>2</td>\n",
       "      <td>8</td>\n",
       "      <td>8</td>\n",
       "      <td>81</td>\n",
       "      <td>11</td>\n",
       "    </tr>\n",
       "    <tr>\n",
       "      <td>1</td>\n",
       "      <td>2011</td>\n",
       "      <td>01</td>\n",
       "      <td>02</td>\n",
       "      <td>0</td>\n",
       "      <td>781</td>\n",
       "      <td>1</td>\n",
       "      <td>1</td>\n",
       "      <td>0</td>\n",
       "      <td>0</td>\n",
       "      <td>0</td>\n",
       "      <td>2</td>\n",
       "      <td>9</td>\n",
       "      <td>7</td>\n",
       "      <td>70</td>\n",
       "      <td>17</td>\n",
       "    </tr>\n",
       "    <tr>\n",
       "      <td>2</td>\n",
       "      <td>2011</td>\n",
       "      <td>01</td>\n",
       "      <td>03</td>\n",
       "      <td>1</td>\n",
       "      <td>1301</td>\n",
       "      <td>2</td>\n",
       "      <td>1</td>\n",
       "      <td>0</td>\n",
       "      <td>0</td>\n",
       "      <td>0</td>\n",
       "      <td>1</td>\n",
       "      <td>1</td>\n",
       "      <td>-3</td>\n",
       "      <td>44</td>\n",
       "      <td>17</td>\n",
       "    </tr>\n",
       "    <tr>\n",
       "      <td>3</td>\n",
       "      <td>2011</td>\n",
       "      <td>01</td>\n",
       "      <td>04</td>\n",
       "      <td>2</td>\n",
       "      <td>1536</td>\n",
       "      <td>3</td>\n",
       "      <td>1</td>\n",
       "      <td>0</td>\n",
       "      <td>0</td>\n",
       "      <td>0</td>\n",
       "      <td>1</td>\n",
       "      <td>1</td>\n",
       "      <td>-2</td>\n",
       "      <td>59</td>\n",
       "      <td>11</td>\n",
       "    </tr>\n",
       "    <tr>\n",
       "      <td>4</td>\n",
       "      <td>2011</td>\n",
       "      <td>01</td>\n",
       "      <td>05</td>\n",
       "      <td>3</td>\n",
       "      <td>1571</td>\n",
       "      <td>4</td>\n",
       "      <td>1</td>\n",
       "      <td>0</td>\n",
       "      <td>0</td>\n",
       "      <td>0</td>\n",
       "      <td>1</td>\n",
       "      <td>3</td>\n",
       "      <td>-1</td>\n",
       "      <td>44</td>\n",
       "      <td>13</td>\n",
       "    </tr>\n",
       "  </tbody>\n",
       "</table>\n",
       "</div>"
      ],
      "text/plain": [
       "   year month day weekday  trip_count  day_number  winter  spring  summer  \\\n",
       "0  2011    01  01       6         959           0       1       0       0   \n",
       "1  2011    01  02       0         781           1       1       0       0   \n",
       "2  2011    01  03       1        1301           2       1       0       0   \n",
       "3  2011    01  04       2        1536           3       1       0       0   \n",
       "4  2011    01  05       3        1571           4       1       0       0   \n",
       "\n",
       "   autumn  weather_situation  temperature  temperature_feel  humidity  \\\n",
       "0       0                  2            8                 8        81   \n",
       "1       0                  2            9                 7        70   \n",
       "2       0                  1            1                -3        44   \n",
       "3       0                  1            1                -2        59   \n",
       "4       0                  1            3                -1        44   \n",
       "\n",
       "   windspeed  \n",
       "0         11  \n",
       "1         17  \n",
       "2         17  \n",
       "3         11  \n",
       "4         13  "
      ]
     },
     "execution_count": 41,
     "metadata": {},
     "output_type": "execute_result"
    }
   ],
   "source": [
    "trips['weather_situation'] = weather['weather_situation']\n",
    "trips['temperature'] = weather['temperature']\n",
    "trips['temperature_feel'] = weather['temperature_feel']\n",
    "trips['humidity'] = weather['humidity']\n",
    "trips['windspeed'] = weather['windspeed']\n",
    "trips.head()"
   ]
  },
  {
   "cell_type": "code",
   "execution_count": 42,
   "metadata": {},
   "outputs": [
    {
     "name": "stdout",
     "output_type": "stream",
     "text": [
      "     year month day weekday  day_number  winter  spring  summer  autumn  \\\n",
      "703  2012    12  04       2         703       1       0       0       0   \n",
      "475  2012    04  20       5         475       0       1       0       0   \n",
      "164  2011    06  14       2         164       0       0       1       0   \n",
      "261  2011    09  19       1         261       0       0       0       1   \n",
      "548  2012    07  02       1         548       0       0       1       0   \n",
      "..    ...   ...  ..     ...         ...     ...     ...     ...     ...   \n",
      "205  2011    07  25       1         205       0       0       1       0   \n",
      "485  2012    04  30       1         485       0       1       0       0   \n",
      "638  2012    09  30       0         638       0       0       0       1   \n",
      "454  2012    03  30       5         454       0       1       0       0   \n",
      "628  2012    09  20       4         628       0       0       0       1   \n",
      "\n",
      "     weather_situation  temperature  temperature_feel  humidity  windspeed  \n",
      "703                  1           14                15        73         12  \n",
      "475                  1           17                18        69         10  \n",
      "164                  1           20                23        51         18  \n",
      "261                  2           18                19        69         10  \n",
      "548                  1           29                30        45         13  \n",
      "..                 ...          ...               ...       ...        ...  \n",
      "205                  1           27                32        76          6  \n",
      "485                  2           14                14        57         11  \n",
      "638                  1           17                18        58          9  \n",
      "454                  2            9                 9        58          9  \n",
      "628                  1           18                19        62          8  \n",
      "\n",
      "[584 rows x 14 columns]\n",
      "703    6562\n",
      "475    7203\n",
      "164    4829\n",
      "261    4467\n",
      "548    6158\n",
      "       ... \n",
      "205    3790\n",
      "485    5528\n",
      "638    6812\n",
      "454    5411\n",
      "628    7659\n",
      "Name: trip_count, Length: 584, dtype: int64\n"
     ]
    }
   ],
   "source": [
    "X_train, X_test, y_train, y_test = train_test_split(trips.drop('trip_count', axis = 1), trips['trip_count'], test_size=0.20, random_state=997)\n",
    "print(X_train)\n",
    "print(y_train)"
   ]
  },
  {
   "cell_type": "code",
   "execution_count": 43,
   "metadata": {},
   "outputs": [],
   "source": [
    "reg = linear_model.LinearRegression()"
   ]
  },
  {
   "cell_type": "code",
   "execution_count": 44,
   "metadata": {},
   "outputs": [
    {
     "data": {
      "text/plain": [
       "LinearRegression(copy_X=True, fit_intercept=True, n_jobs=None, normalize=False)"
      ]
     },
     "execution_count": 44,
     "metadata": {},
     "output_type": "execute_result"
    }
   ],
   "source": [
    "reg.fit(X_train, y_train)"
   ]
  },
  {
   "cell_type": "code",
   "execution_count": 45,
   "metadata": {},
   "outputs": [],
   "source": [
    "y_pred = reg.predict(X_test)"
   ]
  },
  {
   "cell_type": "code",
   "execution_count": 46,
   "metadata": {},
   "outputs": [
    {
     "data": {
      "text/plain": [
       "847389.2204943015"
      ]
     },
     "execution_count": 46,
     "metadata": {},
     "output_type": "execute_result"
    }
   ],
   "source": [
    "mean_squared_error(y_test, y_pred)"
   ]
  },
  {
   "cell_type": "code",
   "execution_count": 47,
   "metadata": {},
   "outputs": [
    {
     "data": {
      "text/plain": [
       "647.1903749217793"
      ]
     },
     "execution_count": 47,
     "metadata": {},
     "output_type": "execute_result"
    }
   ],
   "source": [
    "mean_absolute_error(y_test, y_pred)"
   ]
  },
  {
   "cell_type": "code",
   "execution_count": 48,
   "metadata": {},
   "outputs": [
    {
     "data": {
      "text/plain": [
       "0.7914933473315136"
      ]
     },
     "execution_count": 48,
     "metadata": {},
     "output_type": "execute_result"
    }
   ],
   "source": [
    "r2_score(y_test, y_pred)"
   ]
  },
  {
   "cell_type": "code",
   "execution_count": 49,
   "metadata": {},
   "outputs": [
    {
     "data": {
      "image/png": "[encoded data removed]",
      "text/plain": [
       "<Figure size 720x432 with 1 Axes>"
      ]
     },
     "metadata": {
      "needs_background": "light"
     },
     "output_type": "display_data"
    }
   ],
   "source": [
    "plt.figure(figsize = (10, 6))\n",
    "\n",
    "plt.scatter(y_pred, y_test)\n",
    "plt.xlabel('Predictions')\n",
    "plt.ylabel('Test data')\n",
    "\n",
    "plt.show()"
   ]
  },
  {
   "cell_type": "markdown",
   "metadata": {},
   "source": [
    "# 4.7. Feature Engineering - Re-Scaling"
   ]
  },
  {
   "cell_type": "markdown",
   "metadata": {},
   "source": [
    "One last bit of feature engineering you can try is to re-scale the values of your features so they are all on a common scale. One of the problems with leaving all the features in their “normal” units is that it warps the n-dimensional space in strange ways. Some axes are elongated with respect to other axes. For example, think about the values for our one-hot encoded features like the season or weekend. Those values are either 0 or 1. However, the temperature values can range from -5 to a max of 32. Just think of how the 2-dimensional graph looks if you just use those two features.\n",
    "\n",
    "Now, why is this a problem? Remember that we are trying to minimize the sum of squared errors as we try to find the coefficients for each of our features. What that means is that we are calculating the distance between a known point in some n-dimensional space, and a predicted point in the same n-dimensional space. But if some axes are really elongated and others are really short, that introduces a bias that the algorithm has to overcome. Whereas if you re-scale the temperature to be on a scale from 0 to 1, then you have a nice space where all the features are on the same scales and the algorithm can do its job more efficiently.\n",
    "\n",
    "One really common method for transforming the data is to use min-max scaling.\n",
    "\n",
    "scaled = (vi−min(v)) / (max(v)−min(v))\n",
    "\n",
    "This will ensure that all of your values are between 0 and 1."
   ]
  },
  {
   "cell_type": "code",
   "execution_count": 50,
   "metadata": {
    "scrolled": true
   },
   "outputs": [
    {
     "data": {
      "text/html": [
       "<div>\n",
       "<style scoped>\n",
       "    .dataframe tbody tr th:only-of-type {\n",
       "        vertical-align: middle;\n",
       "    }\n",
       "\n",
       "    .dataframe tbody tr th {\n",
       "        vertical-align: top;\n",
       "    }\n",
       "\n",
       "    .dataframe thead th {\n",
       "        text-align: right;\n",
       "    }\n",
       "</style>\n",
       "<table border=\"1\" class=\"dataframe\">\n",
       "  <thead>\n",
       "    <tr style=\"text-align: right;\">\n",
       "      <th></th>\n",
       "      <th>year</th>\n",
       "      <th>month</th>\n",
       "      <th>day</th>\n",
       "      <th>weekday</th>\n",
       "      <th>trip_count</th>\n",
       "      <th>day_number</th>\n",
       "      <th>winter</th>\n",
       "      <th>spring</th>\n",
       "      <th>summer</th>\n",
       "      <th>autumn</th>\n",
       "      <th>weather_situation</th>\n",
       "      <th>temperature</th>\n",
       "      <th>temperature_feel</th>\n",
       "      <th>humidity</th>\n",
       "      <th>windspeed</th>\n",
       "    </tr>\n",
       "  </thead>\n",
       "  <tbody>\n",
       "    <tr>\n",
       "      <td>0</td>\n",
       "      <td>0.0</td>\n",
       "      <td>0.0</td>\n",
       "      <td>0.000000</td>\n",
       "      <td>1.000000</td>\n",
       "      <td>959.0</td>\n",
       "      <td>0.000000</td>\n",
       "      <td>1.0</td>\n",
       "      <td>0.0</td>\n",
       "      <td>0.0</td>\n",
       "      <td>0.0</td>\n",
       "      <td>0.5</td>\n",
       "      <td>0.351351</td>\n",
       "      <td>0.38</td>\n",
       "      <td>0.835052</td>\n",
       "      <td>0.28125</td>\n",
       "    </tr>\n",
       "    <tr>\n",
       "      <td>1</td>\n",
       "      <td>0.0</td>\n",
       "      <td>0.0</td>\n",
       "      <td>0.033333</td>\n",
       "      <td>0.000000</td>\n",
       "      <td>781.0</td>\n",
       "      <td>0.001370</td>\n",
       "      <td>1.0</td>\n",
       "      <td>0.0</td>\n",
       "      <td>0.0</td>\n",
       "      <td>0.0</td>\n",
       "      <td>0.5</td>\n",
       "      <td>0.378378</td>\n",
       "      <td>0.36</td>\n",
       "      <td>0.721649</td>\n",
       "      <td>0.46875</td>\n",
       "    </tr>\n",
       "    <tr>\n",
       "      <td>2</td>\n",
       "      <td>0.0</td>\n",
       "      <td>0.0</td>\n",
       "      <td>0.066667</td>\n",
       "      <td>0.166667</td>\n",
       "      <td>1301.0</td>\n",
       "      <td>0.002740</td>\n",
       "      <td>1.0</td>\n",
       "      <td>0.0</td>\n",
       "      <td>0.0</td>\n",
       "      <td>0.0</td>\n",
       "      <td>0.0</td>\n",
       "      <td>0.162162</td>\n",
       "      <td>0.16</td>\n",
       "      <td>0.453608</td>\n",
       "      <td>0.46875</td>\n",
       "    </tr>\n",
       "    <tr>\n",
       "      <td>3</td>\n",
       "      <td>0.0</td>\n",
       "      <td>0.0</td>\n",
       "      <td>0.100000</td>\n",
       "      <td>0.333333</td>\n",
       "      <td>1536.0</td>\n",
       "      <td>0.004110</td>\n",
       "      <td>1.0</td>\n",
       "      <td>0.0</td>\n",
       "      <td>0.0</td>\n",
       "      <td>0.0</td>\n",
       "      <td>0.0</td>\n",
       "      <td>0.162162</td>\n",
       "      <td>0.18</td>\n",
       "      <td>0.608247</td>\n",
       "      <td>0.28125</td>\n",
       "    </tr>\n",
       "    <tr>\n",
       "      <td>4</td>\n",
       "      <td>0.0</td>\n",
       "      <td>0.0</td>\n",
       "      <td>0.133333</td>\n",
       "      <td>0.500000</td>\n",
       "      <td>1571.0</td>\n",
       "      <td>0.005479</td>\n",
       "      <td>1.0</td>\n",
       "      <td>0.0</td>\n",
       "      <td>0.0</td>\n",
       "      <td>0.0</td>\n",
       "      <td>0.0</td>\n",
       "      <td>0.216216</td>\n",
       "      <td>0.20</td>\n",
       "      <td>0.453608</td>\n",
       "      <td>0.34375</td>\n",
       "    </tr>\n",
       "  </tbody>\n",
       "</table>\n",
       "</div>"
      ],
      "text/plain": [
       "   year  month       day   weekday  trip_count  day_number  winter  spring  \\\n",
       "0   0.0    0.0  0.000000  1.000000       959.0    0.000000     1.0     0.0   \n",
       "1   0.0    0.0  0.033333  0.000000       781.0    0.001370     1.0     0.0   \n",
       "2   0.0    0.0  0.066667  0.166667      1301.0    0.002740     1.0     0.0   \n",
       "3   0.0    0.0  0.100000  0.333333      1536.0    0.004110     1.0     0.0   \n",
       "4   0.0    0.0  0.133333  0.500000      1571.0    0.005479     1.0     0.0   \n",
       "\n",
       "   summer  autumn  weather_situation  temperature  temperature_feel  humidity  \\\n",
       "0     0.0     0.0                0.5     0.351351              0.38  0.835052   \n",
       "1     0.0     0.0                0.5     0.378378              0.36  0.721649   \n",
       "2     0.0     0.0                0.0     0.162162              0.16  0.453608   \n",
       "3     0.0     0.0                0.0     0.162162              0.18  0.608247   \n",
       "4     0.0     0.0                0.0     0.216216              0.20  0.453608   \n",
       "\n",
       "   windspeed  \n",
       "0    0.28125  \n",
       "1    0.46875  \n",
       "2    0.46875  \n",
       "3    0.28125  \n",
       "4    0.34375  "
      ]
     },
     "execution_count": 50,
     "metadata": {},
     "output_type": "execute_result"
    }
   ],
   "source": [
    "trips = trips.astype(float)\n",
    "\n",
    "trips['year'] = (trips['year'] - trips['year'].min()) / (trips['year'].max() - trips['year'].min())\n",
    "trips['month'] = (trips['month'] - trips['month'].min()) / (trips['month'].max() - trips['month'].min())\n",
    "trips['day'] = (trips['day'] - trips['day'].min()) / (trips['day'].max() - trips['day'].min())\n",
    "trips['weekday'] = (trips['weekday'] - trips['weekday'].min()) / (trips['weekday'].max() - trips['weekday'].min())\n",
    "trips['day_number'] = (trips['day_number'] - trips['day_number'].min()) / (trips['day_number'].max() - trips['day_number'].min())\n",
    "trips['weather_situation'] = (trips['weather_situation'] - trips['weather_situation'].min()) / (trips['weather_situation'].max() - trips['weather_situation'].min())\n",
    "trips['temperature'] = (trips['temperature'] - trips['temperature'].min()) / (trips['temperature'].max() - trips['temperature'].min())\n",
    "trips['temperature_feel'] = (trips['temperature_feel'] - trips['temperature_feel'].min()) / (trips['temperature_feel'].max() - trips['temperature_feel'].min())\n",
    "trips['humidity'] = (trips['humidity'] - trips['humidity'].min()) / (trips['humidity'].max() - trips['humidity'].min())\n",
    "trips['windspeed'] = (trips['windspeed'] - trips['windspeed'].min()) / (trips['windspeed'].max() - trips['windspeed'].min())\n",
    "\n",
    "trips.head()"
   ]
  },
  {
   "cell_type": "code",
   "execution_count": 51,
   "metadata": {},
   "outputs": [
    {
     "name": "stdout",
     "output_type": "stream",
     "text": [
      "     year     month       day   weekday  day_number  winter  spring  summer  \\\n",
      "703   1.0  1.000000  0.100000  0.333333    0.963014     1.0     0.0     0.0   \n",
      "475   1.0  0.272727  0.633333  0.833333    0.650685     0.0     1.0     0.0   \n",
      "164   0.0  0.454545  0.433333  0.333333    0.224658     0.0     0.0     1.0   \n",
      "261   0.0  0.727273  0.600000  0.166667    0.357534     0.0     0.0     0.0   \n",
      "548   1.0  0.545455  0.033333  0.166667    0.750685     0.0     0.0     1.0   \n",
      "..    ...       ...       ...       ...         ...     ...     ...     ...   \n",
      "205   0.0  0.545455  0.800000  0.166667    0.280822     0.0     0.0     1.0   \n",
      "485   1.0  0.272727  0.966667  0.166667    0.664384     0.0     1.0     0.0   \n",
      "638   1.0  0.727273  0.966667  0.000000    0.873973     0.0     0.0     0.0   \n",
      "454   1.0  0.181818  0.966667  0.833333    0.621918     0.0     1.0     0.0   \n",
      "628   1.0  0.727273  0.633333  0.666667    0.860274     0.0     0.0     0.0   \n",
      "\n",
      "     autumn  weather_situation  temperature  temperature_feel  humidity  \\\n",
      "703     0.0                0.0     0.513514              0.52  0.752577   \n",
      "475     0.0                0.0     0.594595              0.58  0.711340   \n",
      "164     0.0                0.0     0.675676              0.68  0.525773   \n",
      "261     1.0                0.5     0.621622              0.60  0.711340   \n",
      "548     0.0                0.0     0.918919              0.82  0.463918   \n",
      "..      ...                ...          ...               ...       ...   \n",
      "205     0.0                0.0     0.864865              0.86  0.783505   \n",
      "485     0.0                0.5     0.513514              0.50  0.587629   \n",
      "638     1.0                0.0     0.594595              0.58  0.597938   \n",
      "454     0.0                0.5     0.378378              0.40  0.597938   \n",
      "628     1.0                0.0     0.621622              0.60  0.639175   \n",
      "\n",
      "     windspeed  \n",
      "703    0.31250  \n",
      "475    0.25000  \n",
      "164    0.50000  \n",
      "261    0.25000  \n",
      "548    0.34375  \n",
      "..         ...  \n",
      "205    0.12500  \n",
      "485    0.28125  \n",
      "638    0.21875  \n",
      "454    0.21875  \n",
      "628    0.18750  \n",
      "\n",
      "[584 rows x 14 columns]\n",
      "703    6562.0\n",
      "475    7203.0\n",
      "164    4829.0\n",
      "261    4467.0\n",
      "548    6158.0\n",
      "        ...  \n",
      "205    3790.0\n",
      "485    5528.0\n",
      "638    6812.0\n",
      "454    5411.0\n",
      "628    7659.0\n",
      "Name: trip_count, Length: 584, dtype: float64\n"
     ]
    }
   ],
   "source": [
    "X_train, X_test, y_train, y_test = train_test_split(trips.drop('trip_count', axis = 1), trips['trip_count'], test_size=0.20, random_state=997)\n",
    "print(X_train)\n",
    "print(y_train)"
   ]
  },
  {
   "cell_type": "code",
   "execution_count": 52,
   "metadata": {},
   "outputs": [],
   "source": [
    "reg = linear_model.LinearRegression()"
   ]
  },
  {
   "cell_type": "code",
   "execution_count": 53,
   "metadata": {},
   "outputs": [
    {
     "data": {
      "text/plain": [
       "LinearRegression(copy_X=True, fit_intercept=True, n_jobs=None, normalize=False)"
      ]
     },
     "execution_count": 53,
     "metadata": {},
     "output_type": "execute_result"
    }
   ],
   "source": [
    "reg.fit(X_train, y_train)"
   ]
  },
  {
   "cell_type": "code",
   "execution_count": 54,
   "metadata": {},
   "outputs": [],
   "source": [
    "y_pred = reg.predict(X_test)"
   ]
  },
  {
   "cell_type": "code",
   "execution_count": 55,
   "metadata": {},
   "outputs": [
    {
     "data": {
      "text/plain": [
       "847389.2204947461"
      ]
     },
     "execution_count": 55,
     "metadata": {},
     "output_type": "execute_result"
    }
   ],
   "source": [
    "mean_squared_error(y_test, y_pred)"
   ]
  },
  {
   "cell_type": "code",
   "execution_count": 56,
   "metadata": {},
   "outputs": [
    {
     "data": {
      "text/plain": [
       "647.1903749243028"
      ]
     },
     "execution_count": 56,
     "metadata": {},
     "output_type": "execute_result"
    }
   ],
   "source": [
    "mean_absolute_error(y_test, y_pred)"
   ]
  },
  {
   "cell_type": "code",
   "execution_count": 57,
   "metadata": {},
   "outputs": [
    {
     "data": {
      "text/plain": [
       "0.7914933473314042"
      ]
     },
     "execution_count": 57,
     "metadata": {},
     "output_type": "execute_result"
    }
   ],
   "source": [
    "r2_score(y_test, y_pred)"
   ]
  },
  {
   "cell_type": "code",
   "execution_count": 58,
   "metadata": {},
   "outputs": [
    {
     "data": {
      "image/png": "[encoded data removed]",
      "text/plain": [
       "<Figure size 720x432 with 1 Axes>"
      ]
     },
     "metadata": {
      "needs_background": "light"
     },
     "output_type": "display_data"
    }
   ],
   "source": [
    "plt.figure(figsize = (10, 6))\n",
    "\n",
    "plt.scatter(y_pred, y_test)\n",
    "plt.xlabel('Predictions')\n",
    "plt.ylabel('Test data')\n",
    "\n",
    "plt.show()"
   ]
  }
 ],
 "metadata": {
  "kernelspec": {
   "display_name": "Python 3",
   "language": "python",
   "name": "python3"
  },
  "language_info": {
   "codemirror_mode": {
    "name": "ipython",
    "version": 3
   },
   "file_extension": ".py",
   "mimetype": "text/x-python",
   "name": "python",
   "nbconvert_exporter": "python",
   "pygments_lexer": "ipython3",
   "version": "3.7.4"
  }
 },
 "nbformat": 4,
 "nbformat_minor": 2
}
