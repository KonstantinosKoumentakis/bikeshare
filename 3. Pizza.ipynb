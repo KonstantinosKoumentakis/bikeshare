{
 "cells": [
  {
   "cell_type": "markdown",
   "metadata": {},
   "source": [
    "# 3.1. Linear regression basics"
   ]
  },
  {
   "cell_type": "markdown",
   "metadata": {},
   "source": [
    "Linear regression is probably one of the most widely used algorithms in data science, and in many other applications. One of the best things about linear regression is that it allows us to use observations and measurements of things we know to make predictions about unknown things. These predictions might be about the likelihood of a person buying a product online, or the chance that someone will default on their loan payment. To start, we are going to use an even simpler example predicting the price of pizza based on its diameter. Your first task is to put the data into a DataFrame and make a scatter plot of the diameter versus the price."
   ]
  },
  {
   "cell_type": "code",
   "execution_count": 1,
   "metadata": {},
   "outputs": [],
   "source": [
    "#importing the appropriate packages\n",
    "\n",
    "import numpy as np\n",
    "import pandas as pd\n",
    "import matplotlib.pyplot as plt\n",
    "import random\n",
    "from sklearn.linear_model import LinearRegression\n",
    "from sklearn.metrics import mean_squared_error"
   ]
  },
  {
   "cell_type": "code",
   "execution_count": 2,
   "metadata": {},
   "outputs": [
    {
     "data": {
      "text/html": [
       "<div>\n",
       "<style scoped>\n",
       "    .dataframe tbody tr th:only-of-type {\n",
       "        vertical-align: middle;\n",
       "    }\n",
       "\n",
       "    .dataframe tbody tr th {\n",
       "        vertical-align: top;\n",
       "    }\n",
       "\n",
       "    .dataframe thead th {\n",
       "        text-align: right;\n",
       "    }\n",
       "</style>\n",
       "<table border=\"1\" class=\"dataframe\">\n",
       "  <thead>\n",
       "    <tr style=\"text-align: right;\">\n",
       "      <th></th>\n",
       "      <th>diameter</th>\n",
       "      <th>price</th>\n",
       "    </tr>\n",
       "  </thead>\n",
       "  <tbody>\n",
       "    <tr>\n",
       "      <td>0</td>\n",
       "      <td>6</td>\n",
       "      <td>7.0</td>\n",
       "    </tr>\n",
       "    <tr>\n",
       "      <td>1</td>\n",
       "      <td>8</td>\n",
       "      <td>9.0</td>\n",
       "    </tr>\n",
       "    <tr>\n",
       "      <td>2</td>\n",
       "      <td>10</td>\n",
       "      <td>13.0</td>\n",
       "    </tr>\n",
       "    <tr>\n",
       "      <td>3</td>\n",
       "      <td>14</td>\n",
       "      <td>17.5</td>\n",
       "    </tr>\n",
       "    <tr>\n",
       "      <td>4</td>\n",
       "      <td>18</td>\n",
       "      <td>18.0</td>\n",
       "    </tr>\n",
       "  </tbody>\n",
       "</table>\n",
       "</div>"
      ],
      "text/plain": [
       "   diameter  price\n",
       "0         6    7.0\n",
       "1         8    9.0\n",
       "2        10   13.0\n",
       "3        14   17.5\n",
       "4        18   18.0"
      ]
     },
     "execution_count": 2,
     "metadata": {},
     "output_type": "execute_result"
    }
   ],
   "source": [
    "data = {'diameter' : [6, 8, 10, 14, 18], 'price' : [7, 9, 13, 17.5, 18]}\n",
    "pizza = pd.DataFrame(data)\n",
    "pizza"
   ]
  },
  {
   "cell_type": "code",
   "execution_count": 3,
   "metadata": {},
   "outputs": [
    {
     "data": {
      "image/png": "[encoded data removed]",
      "text/plain": [
       "<Figure size 720x432 with 1 Axes>"
      ]
     },
     "metadata": {
      "needs_background": "light"
     },
     "output_type": "display_data"
    }
   ],
   "source": [
    "plt.figure(figsize = (10, 6))\n",
    "\n",
    "plt.scatter(pizza.diameter, pizza.price)\n",
    "plt.xlabel('Diameter')\n",
    "plt.ylabel('Price')\n",
    "\n",
    "plt.show()"
   ]
  },
  {
   "cell_type": "markdown",
   "metadata": {},
   "source": [
    "If you were to draw a straight line through the points that came as close as possible to all of them, it would look like this:"
   ]
  },
  {
   "cell_type": "code",
   "execution_count": 4,
   "metadata": {},
   "outputs": [
    {
     "data": {
      "image/png": "[encoded data removed]",
      "text/plain": [
       "<Figure size 720x432 with 1 Axes>"
      ]
     },
     "metadata": {
      "needs_background": "light"
     },
     "output_type": "display_data"
    }
   ],
   "source": [
    "plt.figure(figsize = (10, 6))\n",
    "\n",
    "plt.scatter(pizza.diameter, pizza.price)\n",
    "\n",
    "m, b = np.polyfit(pizza.diameter, pizza.price, 1)\n",
    "plt.plot(pizza.diameter, m * pizza.diameter + b)\n",
    "\n",
    "plt.xlabel('Diameter')\n",
    "plt.ylabel('Price')\n",
    "\n",
    "plt.show()"
   ]
  },
  {
   "cell_type": "markdown",
   "metadata": {},
   "source": [
    "What you can see pretty easily from this graph is that as the diameter of the pizza goes up, so does the price.\n",
    "\n",
    "The line, called the trendline or the regression line is our best guess at a linear relationship that describes the data. This is important because we can come up with an equation for the line that will allow us to predict the y-value (price) for any given x-value (diameter). Linear regression is all about finding the best equation for that line.\n",
    "\n",
    "There are actually several different ways we can come up with the equation for the line. We will look at two different solutions: One is a closed form equation that will work for any problem like this in just two dimensions. The second is a solution that will allow us to generalize the idea of a best fit line to many dimensions!\n",
    "\n",
    "Recall the equation for a line that you learned in algebra: y=mx+b. What we need to do is determine the values for m and b. One way we can do that is simply guess, and keep refining our guesses until we get to a point where we are not really getting any better. You may think this sounds kind of stupid, but it is actually a pretty fundamental part of many machine learning algorithms.\n",
    "\n",
    "In the world of machine learning, using the sample data for pizza along with a solver-like algorithm to find the values for the slope and intercept, is called supervised learning. That is because we are using the known values for the prices of different pizzas along with their diameters to help correct our algorithm and come up with a value for the slope and intercept. The values that the algorithm learns are called our model. This model is pretty simple, because it just uses two numbers and the formula for a line. But don’t let the simplicity fool you, regression is one of the most commonly used algorithms in a data scientist’s arsenal.\n",
    "\n",
    "In the next section, we’ll make our own learning algorithm that uses more data to do a better job of making predictions!"
   ]
  },
  {
   "cell_type": "markdown",
   "metadata": {},
   "source": [
    "# 3.2. A simple machine learning approach"
   ]
  },
  {
   "cell_type": "markdown",
   "metadata": {},
   "source": [
    "Let’s develop some intuition by writing a function and trying to minimize the error, using the above pizza DataFrame. We'll use the following steps:\n",
    "\n",
    "* Pick a random value for m and b.\n",
    "\n",
    "* Compute the MSE for all our known points.\n",
    "\n",
    "* Repeat the following steps 1000 times.\n",
    "\n",
    "    * Make m slightly bigger and recompute the MSE. Does that make the MSE smaller? If so, use this new value for m. If not, make m slightly smaller and see if that helps.\n",
    "\n",
    "    * Make b slightly bigger and recompute the MSE. Does that make the MSE smaller? If so, use this new value for b. If not, try a slightly smaller b and see if that makes the MSE smaller.\n",
    "\n",
    "* After repeating the above enough times, we will be very close to the best possible values for m and b. We can now use these values to make predictions for other pizzas for which we know the diameter but don’t know the price.\n",
    "\n",
    "You will write three functions:\n",
    "\n",
    "* compute_y(x, m, b)\n",
    "\n",
    "* compute_all_y(list_of_x) which should use compute_y\n",
    "\n",
    "* compute_mse(list_of_known, list_of_predictions)"
   ]
  },
  {
   "cell_type": "code",
   "execution_count": 5,
   "metadata": {},
   "outputs": [],
   "source": [
    "def compute_y(x, m, b):\n",
    "    return m * x + b"
   ]
  },
  {
   "cell_type": "code",
   "execution_count": 6,
   "metadata": {},
   "outputs": [],
   "source": [
    "def compute_all_y(list_of_x, m, b):\n",
    "    list = []\n",
    "    for i in range(len(list_of_x)):\n",
    "        list = list + [compute_y(list_of_x[i], m, b)]\n",
    "    return list"
   ]
  },
  {
   "cell_type": "code",
   "execution_count": 7,
   "metadata": {},
   "outputs": [],
   "source": [
    "def compute_mse(list_of_known, list_of_predictions):\n",
    "    mse = 0\n",
    "    for i in range(len(list_of_known)):\n",
    "        mse = mse + (list_of_known[i] - list_of_predictions[i]) ** 2\n",
    "    return mse/len(list_of_known)"
   ]
  },
  {
   "cell_type": "code",
   "execution_count": 8,
   "metadata": {},
   "outputs": [],
   "source": [
    "m = random.randint(0, 10)\n",
    "b = random.randint(0, 10)"
   ]
  },
  {
   "cell_type": "markdown",
   "metadata": {},
   "source": [
    "Next, write a function that systematically tries different values for m and b in order to minimize the MSE. Put this function in a for loop and iterate 1000 times. See what your values are for m and b at the end."
   ]
  },
  {
   "cell_type": "code",
   "execution_count": 9,
   "metadata": {},
   "outputs": [],
   "source": [
    "def pizza_mse(m, b, list):\n",
    "    predictions = compute_all_y(list['diameter'], m, b)\n",
    "    mse = compute_mse(list['price'], predictions)\n",
    "    return(mse)"
   ]
  },
  {
   "cell_type": "code",
   "execution_count": 10,
   "metadata": {},
   "outputs": [
    {
     "name": "stdout",
     "output_type": "stream",
     "text": [
      "1.0100000000000204 1.5900000000000012\n"
     ]
    }
   ],
   "source": [
    "mse = pizza_mse(m, b, pizza)\n",
    "\n",
    "for i in range(1000):\n",
    "    if pizza_mse(m + 0.01, b, pizza) < mse:\n",
    "        m = m + 0.01\n",
    "    elif pizza_mse(m - 0.01, b, pizza) < mse:\n",
    "        m = m - 0.01\n",
    "    mse = pizza_mse(m, b, pizza)\n",
    "        \n",
    "    if pizza_mse(m, b + 0.01, pizza) < mse:\n",
    "        b = b + 0.01\n",
    "    elif pizza_mse(m, b - 0.01, pizza) < mse:\n",
    "        b = b - 0.01\n",
    "    mse = pizza_mse(m, b, pizza)\n",
    "\n",
    "print(m, b)"
   ]
  },
  {
   "cell_type": "markdown",
   "metadata": {},
   "source": [
    "Congratulations! You have just written your first machine learning algorithm. One fun thing you can do is to save the MSE at the end of each time through the loop, then plot it. You should see the error go down pretty quickly, then level off or go down very gradually. Note that the error will never go to 0 because the data isn’t perfectly linear. But nothing in the real world is!"
   ]
  },
  {
   "cell_type": "code",
   "execution_count": 11,
   "metadata": {},
   "outputs": [
    {
     "name": "stdout",
     "output_type": "stream",
     "text": [
      "0.9400000000000204 2.37000000000012\n"
     ]
    },
    {
     "data": {
      "image/png": "[encoded data removed]",
      "text/plain": [
       "<Figure size 720x432 with 1 Axes>"
      ]
     },
     "metadata": {
      "needs_background": "light"
     },
     "output_type": "display_data"
    }
   ],
   "source": [
    "m = random.randint(0, 10)\n",
    "b = random.randint(0, 10)\n",
    "\n",
    "mse_per_iteration = []\n",
    "\n",
    "mse = pizza_mse(m, b, pizza)\n",
    "\n",
    "for i in range(1000):\n",
    "    if pizza_mse(m + 0.01, b, pizza) < mse:\n",
    "        m = m + 0.01\n",
    "    elif pizza_mse(m - 0.01, b, pizza) < mse:\n",
    "        m = m - 0.01\n",
    "    mse = pizza_mse(m, b, pizza)\n",
    "        \n",
    "    if pizza_mse(m, b + 0.01, pizza) < mse:\n",
    "        b = b + 0.01\n",
    "    elif pizza_mse(m, b - 0.01, pizza) < mse:\n",
    "        b = b - 0.01\n",
    "    mse = pizza_mse(m, b, pizza)\n",
    "    \n",
    "    mse_per_iteration = mse_per_iteration + [mse]\n",
    "    \n",
    "print(m, b)\n",
    "\n",
    "plt.figure(figsize = (10, 6))\n",
    "plt.plot(mse_per_iteration)\n",
    "plt.xlabel('Iterations')\n",
    "plt.ylabel('MSE')\n",
    "plt.show()"
   ]
  },
  {
   "cell_type": "markdown",
   "metadata": {},
   "source": [
    "At this point your algorithm’s ability to learn is limited by how much you change the slope and intercept values each time through the loop. At the beginning, it’s good to change them by a lot but as you get closer to the best answer, it’s better to tweak them by smaller and smaller amounts. Can you adjust your code above to do this?"
   ]
  },
  {
   "cell_type": "code",
   "execution_count": 12,
   "metadata": {},
   "outputs": [
    {
     "name": "stdout",
     "output_type": "stream",
     "text": [
      "0.9960000000000009 1.7120000000000273\n"
     ]
    },
    {
     "data": {
      "image/png": "[encoded data removed]",
      "text/plain": [
       "<Figure size 720x432 with 1 Axes>"
      ]
     },
     "metadata": {
      "needs_background": "light"
     },
     "output_type": "display_data"
    }
   ],
   "source": [
    "m = random.randint(0, 10)\n",
    "b = random.randint(0, 10)\n",
    "\n",
    "descending_list = np.arange(1, 0, -0.001)\n",
    "\n",
    "mse_per_iteration = []\n",
    "\n",
    "mse = pizza_mse(m, b, pizza)\n",
    "\n",
    "for i in range(1000):\n",
    "    if pizza_mse(m + descending_list[i], b, pizza) < mse:\n",
    "        m = m + descending_list[i]\n",
    "    elif pizza_mse(m - descending_list[i], b, pizza) < mse:\n",
    "        m = m - descending_list[i]\n",
    "    mse = pizza_mse(m, b, pizza)\n",
    "        \n",
    "    if pizza_mse(m, b + descending_list[i], pizza) < mse:\n",
    "        b = b + descending_list[i]\n",
    "    elif pizza_mse(m, b - descending_list[i], pizza) < mse:\n",
    "        b = b - descending_list[i]\n",
    "    mse = pizza_mse(m, b, pizza)\n",
    "    \n",
    "    mse_per_iteration = mse_per_iteration + [mse]\n",
    "    \n",
    "print(m, b)\n",
    "\n",
    "plt.figure(figsize = (10, 6))\n",
    "plt.plot(mse_per_iteration)\n",
    "plt.xlabel('Iterations')\n",
    "plt.ylabel('MSE')\n",
    "plt.show()"
   ]
  },
  {
   "cell_type": "markdown",
   "metadata": {},
   "source": [
    "# 3.3. Improving our pizza price predictions using scikit-learn"
   ]
  },
  {
   "cell_type": "markdown",
   "metadata": {},
   "source": [
    "In the last section, we made a simple model that allows us to predict the price of pizza based on its size. However, we know that there are many other factors (we will call them features) that go into the price of a pizza. In this section, we will investigate how we can improve our model by adding a feature corresponding to the number of toppings. The theory here is that with more information we should be able to do a better job of making predictions.\n",
    "\n",
    "Before we return to the bike rental problem, let’s see how we can duplicate our efforts on predicting Pizza prices in Python using Pandas and Scikit-Learn.\n",
    "\n",
    "Scikit-Learn is a really powerful Python package for doing all kinds of machine learning tasks. It has a consistent API so once you have learned one kind of model with scikit-learn you will be able to apply that to many different machine learning algorithms. We will:\n",
    "\n",
    "* create an empty model,\n",
    "* fit that model to our data (some people also refer to this as training the model)\n",
    "* and use that model to predict the values we want."
   ]
  },
  {
   "cell_type": "code",
   "execution_count": 13,
   "metadata": {},
   "outputs": [
    {
     "data": {
      "text/html": [
       "<div>\n",
       "<style scoped>\n",
       "    .dataframe tbody tr th:only-of-type {\n",
       "        vertical-align: middle;\n",
       "    }\n",
       "\n",
       "    .dataframe tbody tr th {\n",
       "        vertical-align: top;\n",
       "    }\n",
       "\n",
       "    .dataframe thead th {\n",
       "        text-align: right;\n",
       "    }\n",
       "</style>\n",
       "<table border=\"1\" class=\"dataframe\">\n",
       "  <thead>\n",
       "    <tr style=\"text-align: right;\">\n",
       "      <th></th>\n",
       "      <th>diameter</th>\n",
       "      <th>toppings</th>\n",
       "      <th>price</th>\n",
       "    </tr>\n",
       "  </thead>\n",
       "  <tbody>\n",
       "    <tr>\n",
       "      <td>0</td>\n",
       "      <td>6</td>\n",
       "      <td>2</td>\n",
       "      <td>7.0</td>\n",
       "    </tr>\n",
       "    <tr>\n",
       "      <td>1</td>\n",
       "      <td>8</td>\n",
       "      <td>1</td>\n",
       "      <td>9.0</td>\n",
       "    </tr>\n",
       "    <tr>\n",
       "      <td>2</td>\n",
       "      <td>10</td>\n",
       "      <td>0</td>\n",
       "      <td>13.0</td>\n",
       "    </tr>\n",
       "    <tr>\n",
       "      <td>3</td>\n",
       "      <td>14</td>\n",
       "      <td>2</td>\n",
       "      <td>17.5</td>\n",
       "    </tr>\n",
       "    <tr>\n",
       "      <td>4</td>\n",
       "      <td>18</td>\n",
       "      <td>2</td>\n",
       "      <td>18.0</td>\n",
       "    </tr>\n",
       "  </tbody>\n",
       "</table>\n",
       "</div>"
      ],
      "text/plain": [
       "   diameter  toppings  price\n",
       "0         6         2    7.0\n",
       "1         8         1    9.0\n",
       "2        10         0   13.0\n",
       "3        14         2   17.5\n",
       "4        18         2   18.0"
      ]
     },
     "execution_count": 13,
     "metadata": {},
     "output_type": "execute_result"
    }
   ],
   "source": [
    "data = {'diameter' : [6, 8, 10, 14, 18], 'toppings':[2, 1, 0, 2, 2], 'price' : [7, 9, 13, 17.5, 18]}\n",
    "pizza = pd.DataFrame(data)\n",
    "pizza"
   ]
  },
  {
   "cell_type": "code",
   "execution_count": 14,
   "metadata": {},
   "outputs": [
    {
     "data": {
      "text/plain": [
       "LinearRegression(copy_X=True, fit_intercept=True, n_jobs=None, normalize=False)"
      ]
     },
     "execution_count": 14,
     "metadata": {},
     "output_type": "execute_result"
    }
   ],
   "source": [
    "reg = LinearRegression()\n",
    "reg.fit(pizza[['diameter','toppings']], pizza.price)"
   ]
  },
  {
   "cell_type": "markdown",
   "metadata": {},
   "source": [
    "The fit method takes two parameters:\n",
    "\n",
    "* The features that we use to build the model\n",
    "\n",
    "* The known quantity that we are trying to fit the model against\n",
    "\n",
    "Now, using the diameter and toppings we are able to make predictions about what the price will be."
   ]
  },
  {
   "cell_type": "code",
   "execution_count": 15,
   "metadata": {},
   "outputs": [
    {
     "data": {
      "text/plain": [
       "array([ 7.25903614,  9.90361446, 12.54819277, 15.36746988, 19.42168675])"
      ]
     },
     "execution_count": 15,
     "metadata": {},
     "output_type": "execute_result"
    }
   ],
   "source": [
    "reg.predict(pizza[['diameter','toppings']])"
   ]
  },
  {
   "cell_type": "markdown",
   "metadata": {},
   "source": [
    "We can also use the mean_squared_error function supplied by sklearn to check the mean squared error of our predictions. This function takes two parameters: The “true” values, in our case, the known price, and the predicted values."
   ]
  },
  {
   "cell_type": "code",
   "execution_count": 16,
   "metadata": {},
   "outputs": [
    {
     "data": {
      "text/plain": [
       "1.5313253012048187"
      ]
     },
     "execution_count": 16,
     "metadata": {},
     "output_type": "execute_result"
    }
   ],
   "source": [
    "mean_squared_error(pizza.price, reg.predict(pizza[['diameter', 'toppings']]))"
   ]
  },
  {
   "cell_type": "markdown",
   "metadata": {},
   "source": [
    "We can also add the predictions to our dataframe so that we can graph the actual values and predicted values together."
   ]
  },
  {
   "cell_type": "code",
   "execution_count": 17,
   "metadata": {},
   "outputs": [
    {
     "data": {
      "image/png": "[encoded data removed]",
      "text/plain": [
       "<Figure size 720x432 with 1 Axes>"
      ]
     },
     "metadata": {
      "needs_background": "light"
     },
     "output_type": "display_data"
    }
   ],
   "source": [
    "pizza['predictions'] = reg.predict(pizza[['diameter', 'toppings']])\n",
    "\n",
    "plt.figure(figsize = (10, 6))\n",
    "\n",
    "plt.scatter(pizza.diameter, pizza.price)\n",
    "plt.scatter(pizza.diameter, pizza.predictions, color = 'red')\n",
    "\n",
    "plt.xlabel('Diameter')\n",
    "plt.ylabel('Price, Price predictions')\n",
    "\n",
    "plt.show()"
   ]
  },
  {
   "cell_type": "markdown",
   "metadata": {},
   "source": [
    "## 3.3.1. Practice"
   ]
  },
  {
   "cell_type": "markdown",
   "metadata": {},
   "source": [
    "Build another model using only the diameter, plot the predictions from that model along with the actual values and compare that to the previous diagram. Hint: sklearn expects to have the data it uses to build the model in a certain format. By default a single series gets converted into an array that looks like this:"
   ]
  },
  {
   "cell_type": "code",
   "execution_count": 18,
   "metadata": {},
   "outputs": [
    {
     "data": {
      "text/plain": [
       "array([ 6,  8, 10, 14, 18], dtype=int64)"
      ]
     },
     "execution_count": 18,
     "metadata": {},
     "output_type": "execute_result"
    }
   ],
   "source": [
    "pizza.diameter.values"
   ]
  },
  {
   "cell_type": "markdown",
   "metadata": {},
   "source": [
    "But sklearn wants it to look as below. The error message you will likely get in this instance tells you how to reshape the data. You can use pizza.diameter.values.reshape(-1,1) to get the diameter into the correct shape."
   ]
  },
  {
   "cell_type": "code",
   "execution_count": 19,
   "metadata": {},
   "outputs": [
    {
     "data": {
      "text/plain": [
       "array([[ 6],\n",
       "       [ 8],\n",
       "       [10],\n",
       "       [14],\n",
       "       [18]], dtype=int64)"
      ]
     },
     "execution_count": 19,
     "metadata": {},
     "output_type": "execute_result"
    }
   ],
   "source": [
    "pizza.diameter.values.reshape(-1,1)"
   ]
  },
  {
   "cell_type": "code",
   "execution_count": 20,
   "metadata": {},
   "outputs": [
    {
     "data": {
      "text/plain": [
       "LinearRegression(copy_X=True, fit_intercept=True, n_jobs=None, normalize=False)"
      ]
     },
     "execution_count": 20,
     "metadata": {},
     "output_type": "execute_result"
    }
   ],
   "source": [
    "reg = LinearRegression()\n",
    "reg.fit(pizza[['diameter']], pizza.price)"
   ]
  },
  {
   "cell_type": "code",
   "execution_count": 21,
   "metadata": {},
   "outputs": [],
   "source": [
    "predictions = reg.predict(pizza[['diameter']])"
   ]
  },
  {
   "cell_type": "code",
   "execution_count": 22,
   "metadata": {},
   "outputs": [
    {
     "data": {
      "text/plain": [
       "1.7495689655172406"
      ]
     },
     "execution_count": 22,
     "metadata": {},
     "output_type": "execute_result"
    }
   ],
   "source": [
    "mean_squared_error(pizza.price, predictions)"
   ]
  },
  {
   "cell_type": "code",
   "execution_count": 23,
   "metadata": {},
   "outputs": [
    {
     "data": {
      "image/png": "[encoded data removed]",
      "text/plain": [
       "<Figure size 720x432 with 1 Axes>"
      ]
     },
     "metadata": {
      "needs_background": "light"
     },
     "output_type": "display_data"
    }
   ],
   "source": [
    "plt.figure(figsize = (10, 6))\n",
    "\n",
    "plt.scatter(pizza.diameter, pizza.price)\n",
    "plt.scatter(pizza.diameter, pizza.predictions, color = 'red')\n",
    "\n",
    "plt.xlabel('Diameter')\n",
    "plt.ylabel('Price, Price predictions')\n",
    "\n",
    "plt.show()"
   ]
  },
  {
   "cell_type": "markdown",
   "metadata": {},
   "source": [
    "Build a third model using only the number of toppings. What is the mean squared error of this model?"
   ]
  },
  {
   "cell_type": "code",
   "execution_count": 24,
   "metadata": {},
   "outputs": [
    {
     "data": {
      "text/plain": [
       "LinearRegression(copy_X=True, fit_intercept=True, n_jobs=None, normalize=False)"
      ]
     },
     "execution_count": 24,
     "metadata": {},
     "output_type": "execute_result"
    }
   ],
   "source": [
    "reg = LinearRegression()\n",
    "reg.fit(pizza[['toppings']], pizza.price)"
   ]
  },
  {
   "cell_type": "code",
   "execution_count": 25,
   "metadata": {},
   "outputs": [],
   "source": [
    "predictions = reg.predict(pizza[['toppings']])"
   ]
  },
  {
   "cell_type": "code",
   "execution_count": 26,
   "metadata": {},
   "outputs": [
    {
     "data": {
      "text/plain": [
       "18.584374999999998"
      ]
     },
     "execution_count": 26,
     "metadata": {},
     "output_type": "execute_result"
    }
   ],
   "source": [
    "mean_squared_error(pizza.price, predictions)"
   ]
  }
 ],
 "metadata": {
  "kernelspec": {
   "display_name": "Python 3",
   "language": "python",
   "name": "python3"
  },
  "language_info": {
   "codemirror_mode": {
    "name": "ipython",
    "version": 3
   },
   "file_extension": ".py",
   "mimetype": "text/x-python",
   "name": "python",
   "nbconvert_exporter": "python",
   "pygments_lexer": "ipython3",
   "version": "3.7.4"
  }
 },
 "nbformat": 4,
 "nbformat_minor": 2
}
